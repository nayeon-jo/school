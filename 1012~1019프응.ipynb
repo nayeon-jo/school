{
  "nbformat": 4,
  "nbformat_minor": 0,
  "metadata": {
    "colab": {
      "name": "1012프응.ipynb",
      "provenance": []
    },
    "kernelspec": {
      "name": "python3",
      "display_name": "Python 3"
    },
    "language_info": {
      "name": "python"
    },
    "widgets": {
      "application/vnd.jupyter.widget-state+json": {
        "69f41f9765d743e3a9c94b7e4bdfb3d7": {
          "model_module": "@jupyter-widgets/controls",
          "model_name": "HBoxModel",
          "model_module_version": "1.5.0",
          "state": {
            "_view_name": "HBoxView",
            "_dom_classes": [],
            "_model_name": "HBoxModel",
            "_view_module": "@jupyter-widgets/controls",
            "_model_module_version": "1.5.0",
            "_view_count": null,
            "_view_module_version": "1.5.0",
            "box_style": "",
            "layout": "IPY_MODEL_87b811558ad04e1aad8dd1a9a140c581",
            "_model_module": "@jupyter-widgets/controls",
            "children": [
              "IPY_MODEL_eed39c6e082042d9bfcd9d5a269664c8",
              "IPY_MODEL_fce4ec106bb0444fb4e62fa1f44d2387",
              "IPY_MODEL_99a7dffa8ee945f2b5d45059a914fc5e"
            ]
          }
        },
        "87b811558ad04e1aad8dd1a9a140c581": {
          "model_module": "@jupyter-widgets/base",
          "model_name": "LayoutModel",
          "model_module_version": "1.2.0",
          "state": {
            "_view_name": "LayoutView",
            "grid_template_rows": null,
            "right": null,
            "justify_content": null,
            "_view_module": "@jupyter-widgets/base",
            "overflow": null,
            "_model_module_version": "1.2.0",
            "_view_count": null,
            "flex_flow": null,
            "width": null,
            "min_width": null,
            "border": null,
            "align_items": null,
            "bottom": null,
            "_model_module": "@jupyter-widgets/base",
            "top": null,
            "grid_column": null,
            "overflow_y": null,
            "overflow_x": null,
            "grid_auto_flow": null,
            "grid_area": null,
            "grid_template_columns": null,
            "flex": null,
            "_model_name": "LayoutModel",
            "justify_items": null,
            "grid_row": null,
            "max_height": null,
            "align_content": null,
            "visibility": null,
            "align_self": null,
            "height": null,
            "min_height": null,
            "padding": null,
            "grid_auto_rows": null,
            "grid_gap": null,
            "max_width": null,
            "order": null,
            "_view_module_version": "1.2.0",
            "grid_template_areas": null,
            "object_position": null,
            "object_fit": null,
            "grid_auto_columns": null,
            "margin": null,
            "display": null,
            "left": null
          }
        },
        "eed39c6e082042d9bfcd9d5a269664c8": {
          "model_module": "@jupyter-widgets/controls",
          "model_name": "HTMLModel",
          "model_module_version": "1.5.0",
          "state": {
            "_view_name": "HTMLView",
            "style": "IPY_MODEL_8ca7f688fdaa4c6bb99efeac507347c2",
            "_dom_classes": [],
            "description": "",
            "_model_name": "HTMLModel",
            "placeholder": "​",
            "_view_module": "@jupyter-widgets/controls",
            "_model_module_version": "1.5.0",
            "value": "",
            "_view_count": null,
            "_view_module_version": "1.5.0",
            "description_tooltip": null,
            "_model_module": "@jupyter-widgets/controls",
            "layout": "IPY_MODEL_264cd3b7d9f5407c9953cc54041533d7"
          }
        },
        "fce4ec106bb0444fb4e62fa1f44d2387": {
          "model_module": "@jupyter-widgets/controls",
          "model_name": "FloatProgressModel",
          "model_module_version": "1.5.0",
          "state": {
            "_view_name": "ProgressView",
            "style": "IPY_MODEL_4db4513e9275431da6b818d9e6b8e42e",
            "_dom_classes": [],
            "description": "",
            "_model_name": "FloatProgressModel",
            "bar_style": "success",
            "max": 9912422,
            "_view_module": "@jupyter-widgets/controls",
            "_model_module_version": "1.5.0",
            "value": 9912422,
            "_view_count": null,
            "_view_module_version": "1.5.0",
            "orientation": "horizontal",
            "min": 0,
            "description_tooltip": null,
            "_model_module": "@jupyter-widgets/controls",
            "layout": "IPY_MODEL_a191d5f3870748b8b51ffb33c92646f3"
          }
        },
        "99a7dffa8ee945f2b5d45059a914fc5e": {
          "model_module": "@jupyter-widgets/controls",
          "model_name": "HTMLModel",
          "model_module_version": "1.5.0",
          "state": {
            "_view_name": "HTMLView",
            "style": "IPY_MODEL_b7a31a96bd174276a03b106bc0197ba5",
            "_dom_classes": [],
            "description": "",
            "_model_name": "HTMLModel",
            "placeholder": "​",
            "_view_module": "@jupyter-widgets/controls",
            "_model_module_version": "1.5.0",
            "value": " 9913344/? [00:00&lt;00:00, 14307631.62it/s]",
            "_view_count": null,
            "_view_module_version": "1.5.0",
            "description_tooltip": null,
            "_model_module": "@jupyter-widgets/controls",
            "layout": "IPY_MODEL_5c6e5668910d4275b8fc5d69a3e73a35"
          }
        },
        "8ca7f688fdaa4c6bb99efeac507347c2": {
          "model_module": "@jupyter-widgets/controls",
          "model_name": "DescriptionStyleModel",
          "model_module_version": "1.5.0",
          "state": {
            "_view_name": "StyleView",
            "_model_name": "DescriptionStyleModel",
            "description_width": "",
            "_view_module": "@jupyter-widgets/base",
            "_model_module_version": "1.5.0",
            "_view_count": null,
            "_view_module_version": "1.2.0",
            "_model_module": "@jupyter-widgets/controls"
          }
        },
        "264cd3b7d9f5407c9953cc54041533d7": {
          "model_module": "@jupyter-widgets/base",
          "model_name": "LayoutModel",
          "model_module_version": "1.2.0",
          "state": {
            "_view_name": "LayoutView",
            "grid_template_rows": null,
            "right": null,
            "justify_content": null,
            "_view_module": "@jupyter-widgets/base",
            "overflow": null,
            "_model_module_version": "1.2.0",
            "_view_count": null,
            "flex_flow": null,
            "width": null,
            "min_width": null,
            "border": null,
            "align_items": null,
            "bottom": null,
            "_model_module": "@jupyter-widgets/base",
            "top": null,
            "grid_column": null,
            "overflow_y": null,
            "overflow_x": null,
            "grid_auto_flow": null,
            "grid_area": null,
            "grid_template_columns": null,
            "flex": null,
            "_model_name": "LayoutModel",
            "justify_items": null,
            "grid_row": null,
            "max_height": null,
            "align_content": null,
            "visibility": null,
            "align_self": null,
            "height": null,
            "min_height": null,
            "padding": null,
            "grid_auto_rows": null,
            "grid_gap": null,
            "max_width": null,
            "order": null,
            "_view_module_version": "1.2.0",
            "grid_template_areas": null,
            "object_position": null,
            "object_fit": null,
            "grid_auto_columns": null,
            "margin": null,
            "display": null,
            "left": null
          }
        },
        "4db4513e9275431da6b818d9e6b8e42e": {
          "model_module": "@jupyter-widgets/controls",
          "model_name": "ProgressStyleModel",
          "model_module_version": "1.5.0",
          "state": {
            "_view_name": "StyleView",
            "_model_name": "ProgressStyleModel",
            "description_width": "",
            "_view_module": "@jupyter-widgets/base",
            "_model_module_version": "1.5.0",
            "_view_count": null,
            "_view_module_version": "1.2.0",
            "bar_color": null,
            "_model_module": "@jupyter-widgets/controls"
          }
        },
        "a191d5f3870748b8b51ffb33c92646f3": {
          "model_module": "@jupyter-widgets/base",
          "model_name": "LayoutModel",
          "model_module_version": "1.2.0",
          "state": {
            "_view_name": "LayoutView",
            "grid_template_rows": null,
            "right": null,
            "justify_content": null,
            "_view_module": "@jupyter-widgets/base",
            "overflow": null,
            "_model_module_version": "1.2.0",
            "_view_count": null,
            "flex_flow": null,
            "width": null,
            "min_width": null,
            "border": null,
            "align_items": null,
            "bottom": null,
            "_model_module": "@jupyter-widgets/base",
            "top": null,
            "grid_column": null,
            "overflow_y": null,
            "overflow_x": null,
            "grid_auto_flow": null,
            "grid_area": null,
            "grid_template_columns": null,
            "flex": null,
            "_model_name": "LayoutModel",
            "justify_items": null,
            "grid_row": null,
            "max_height": null,
            "align_content": null,
            "visibility": null,
            "align_self": null,
            "height": null,
            "min_height": null,
            "padding": null,
            "grid_auto_rows": null,
            "grid_gap": null,
            "max_width": null,
            "order": null,
            "_view_module_version": "1.2.0",
            "grid_template_areas": null,
            "object_position": null,
            "object_fit": null,
            "grid_auto_columns": null,
            "margin": null,
            "display": null,
            "left": null
          }
        },
        "b7a31a96bd174276a03b106bc0197ba5": {
          "model_module": "@jupyter-widgets/controls",
          "model_name": "DescriptionStyleModel",
          "model_module_version": "1.5.0",
          "state": {
            "_view_name": "StyleView",
            "_model_name": "DescriptionStyleModel",
            "description_width": "",
            "_view_module": "@jupyter-widgets/base",
            "_model_module_version": "1.5.0",
            "_view_count": null,
            "_view_module_version": "1.2.0",
            "_model_module": "@jupyter-widgets/controls"
          }
        },
        "5c6e5668910d4275b8fc5d69a3e73a35": {
          "model_module": "@jupyter-widgets/base",
          "model_name": "LayoutModel",
          "model_module_version": "1.2.0",
          "state": {
            "_view_name": "LayoutView",
            "grid_template_rows": null,
            "right": null,
            "justify_content": null,
            "_view_module": "@jupyter-widgets/base",
            "overflow": null,
            "_model_module_version": "1.2.0",
            "_view_count": null,
            "flex_flow": null,
            "width": null,
            "min_width": null,
            "border": null,
            "align_items": null,
            "bottom": null,
            "_model_module": "@jupyter-widgets/base",
            "top": null,
            "grid_column": null,
            "overflow_y": null,
            "overflow_x": null,
            "grid_auto_flow": null,
            "grid_area": null,
            "grid_template_columns": null,
            "flex": null,
            "_model_name": "LayoutModel",
            "justify_items": null,
            "grid_row": null,
            "max_height": null,
            "align_content": null,
            "visibility": null,
            "align_self": null,
            "height": null,
            "min_height": null,
            "padding": null,
            "grid_auto_rows": null,
            "grid_gap": null,
            "max_width": null,
            "order": null,
            "_view_module_version": "1.2.0",
            "grid_template_areas": null,
            "object_position": null,
            "object_fit": null,
            "grid_auto_columns": null,
            "margin": null,
            "display": null,
            "left": null
          }
        },
        "926d7da4da3e4e1fb26248b27cb1a81a": {
          "model_module": "@jupyter-widgets/controls",
          "model_name": "HBoxModel",
          "model_module_version": "1.5.0",
          "state": {
            "_view_name": "HBoxView",
            "_dom_classes": [],
            "_model_name": "HBoxModel",
            "_view_module": "@jupyter-widgets/controls",
            "_model_module_version": "1.5.0",
            "_view_count": null,
            "_view_module_version": "1.5.0",
            "box_style": "",
            "layout": "IPY_MODEL_d8d0a609f2374e0c875cd19d628d7195",
            "_model_module": "@jupyter-widgets/controls",
            "children": [
              "IPY_MODEL_a6d47db99c1d42e0a3262fa61efdc51a",
              "IPY_MODEL_43d1747082eb4954b124c997d70961e0",
              "IPY_MODEL_721b6dabb6324c4f9ec829e29b8f93ef"
            ]
          }
        },
        "d8d0a609f2374e0c875cd19d628d7195": {
          "model_module": "@jupyter-widgets/base",
          "model_name": "LayoutModel",
          "model_module_version": "1.2.0",
          "state": {
            "_view_name": "LayoutView",
            "grid_template_rows": null,
            "right": null,
            "justify_content": null,
            "_view_module": "@jupyter-widgets/base",
            "overflow": null,
            "_model_module_version": "1.2.0",
            "_view_count": null,
            "flex_flow": null,
            "width": null,
            "min_width": null,
            "border": null,
            "align_items": null,
            "bottom": null,
            "_model_module": "@jupyter-widgets/base",
            "top": null,
            "grid_column": null,
            "overflow_y": null,
            "overflow_x": null,
            "grid_auto_flow": null,
            "grid_area": null,
            "grid_template_columns": null,
            "flex": null,
            "_model_name": "LayoutModel",
            "justify_items": null,
            "grid_row": null,
            "max_height": null,
            "align_content": null,
            "visibility": null,
            "align_self": null,
            "height": null,
            "min_height": null,
            "padding": null,
            "grid_auto_rows": null,
            "grid_gap": null,
            "max_width": null,
            "order": null,
            "_view_module_version": "1.2.0",
            "grid_template_areas": null,
            "object_position": null,
            "object_fit": null,
            "grid_auto_columns": null,
            "margin": null,
            "display": null,
            "left": null
          }
        },
        "a6d47db99c1d42e0a3262fa61efdc51a": {
          "model_module": "@jupyter-widgets/controls",
          "model_name": "HTMLModel",
          "model_module_version": "1.5.0",
          "state": {
            "_view_name": "HTMLView",
            "style": "IPY_MODEL_1d5403d51e2d43db9072d947edc41db0",
            "_dom_classes": [],
            "description": "",
            "_model_name": "HTMLModel",
            "placeholder": "​",
            "_view_module": "@jupyter-widgets/controls",
            "_model_module_version": "1.5.0",
            "value": "",
            "_view_count": null,
            "_view_module_version": "1.5.0",
            "description_tooltip": null,
            "_model_module": "@jupyter-widgets/controls",
            "layout": "IPY_MODEL_a2976a607ad84da7b979a583538257b2"
          }
        },
        "43d1747082eb4954b124c997d70961e0": {
          "model_module": "@jupyter-widgets/controls",
          "model_name": "FloatProgressModel",
          "model_module_version": "1.5.0",
          "state": {
            "_view_name": "ProgressView",
            "style": "IPY_MODEL_e6740e40ed8345cf8f1c04f49702fce9",
            "_dom_classes": [],
            "description": "",
            "_model_name": "FloatProgressModel",
            "bar_style": "success",
            "max": 26421880,
            "_view_module": "@jupyter-widgets/controls",
            "_model_module_version": "1.5.0",
            "value": 26421880,
            "_view_count": null,
            "_view_module_version": "1.5.0",
            "orientation": "horizontal",
            "min": 0,
            "description_tooltip": null,
            "_model_module": "@jupyter-widgets/controls",
            "layout": "IPY_MODEL_71d26bb5650d4c809626a53d8ca74a17"
          }
        },
        "721b6dabb6324c4f9ec829e29b8f93ef": {
          "model_module": "@jupyter-widgets/controls",
          "model_name": "HTMLModel",
          "model_module_version": "1.5.0",
          "state": {
            "_view_name": "HTMLView",
            "style": "IPY_MODEL_0d857d6c16eb4a01827b528f23d190af",
            "_dom_classes": [],
            "description": "",
            "_model_name": "HTMLModel",
            "placeholder": "​",
            "_view_module": "@jupyter-widgets/controls",
            "_model_module_version": "1.5.0",
            "value": " 26422272/? [00:00&lt;00:00, 66701733.76it/s]",
            "_view_count": null,
            "_view_module_version": "1.5.0",
            "description_tooltip": null,
            "_model_module": "@jupyter-widgets/controls",
            "layout": "IPY_MODEL_8fac650e245d42b6a6fda5ee2ce883aa"
          }
        },
        "1d5403d51e2d43db9072d947edc41db0": {
          "model_module": "@jupyter-widgets/controls",
          "model_name": "DescriptionStyleModel",
          "model_module_version": "1.5.0",
          "state": {
            "_view_name": "StyleView",
            "_model_name": "DescriptionStyleModel",
            "description_width": "",
            "_view_module": "@jupyter-widgets/base",
            "_model_module_version": "1.5.0",
            "_view_count": null,
            "_view_module_version": "1.2.0",
            "_model_module": "@jupyter-widgets/controls"
          }
        },
        "a2976a607ad84da7b979a583538257b2": {
          "model_module": "@jupyter-widgets/base",
          "model_name": "LayoutModel",
          "model_module_version": "1.2.0",
          "state": {
            "_view_name": "LayoutView",
            "grid_template_rows": null,
            "right": null,
            "justify_content": null,
            "_view_module": "@jupyter-widgets/base",
            "overflow": null,
            "_model_module_version": "1.2.0",
            "_view_count": null,
            "flex_flow": null,
            "width": null,
            "min_width": null,
            "border": null,
            "align_items": null,
            "bottom": null,
            "_model_module": "@jupyter-widgets/base",
            "top": null,
            "grid_column": null,
            "overflow_y": null,
            "overflow_x": null,
            "grid_auto_flow": null,
            "grid_area": null,
            "grid_template_columns": null,
            "flex": null,
            "_model_name": "LayoutModel",
            "justify_items": null,
            "grid_row": null,
            "max_height": null,
            "align_content": null,
            "visibility": null,
            "align_self": null,
            "height": null,
            "min_height": null,
            "padding": null,
            "grid_auto_rows": null,
            "grid_gap": null,
            "max_width": null,
            "order": null,
            "_view_module_version": "1.2.0",
            "grid_template_areas": null,
            "object_position": null,
            "object_fit": null,
            "grid_auto_columns": null,
            "margin": null,
            "display": null,
            "left": null
          }
        },
        "e6740e40ed8345cf8f1c04f49702fce9": {
          "model_module": "@jupyter-widgets/controls",
          "model_name": "ProgressStyleModel",
          "model_module_version": "1.5.0",
          "state": {
            "_view_name": "StyleView",
            "_model_name": "ProgressStyleModel",
            "description_width": "",
            "_view_module": "@jupyter-widgets/base",
            "_model_module_version": "1.5.0",
            "_view_count": null,
            "_view_module_version": "1.2.0",
            "bar_color": null,
            "_model_module": "@jupyter-widgets/controls"
          }
        },
        "71d26bb5650d4c809626a53d8ca74a17": {
          "model_module": "@jupyter-widgets/base",
          "model_name": "LayoutModel",
          "model_module_version": "1.2.0",
          "state": {
            "_view_name": "LayoutView",
            "grid_template_rows": null,
            "right": null,
            "justify_content": null,
            "_view_module": "@jupyter-widgets/base",
            "overflow": null,
            "_model_module_version": "1.2.0",
            "_view_count": null,
            "flex_flow": null,
            "width": null,
            "min_width": null,
            "border": null,
            "align_items": null,
            "bottom": null,
            "_model_module": "@jupyter-widgets/base",
            "top": null,
            "grid_column": null,
            "overflow_y": null,
            "overflow_x": null,
            "grid_auto_flow": null,
            "grid_area": null,
            "grid_template_columns": null,
            "flex": null,
            "_model_name": "LayoutModel",
            "justify_items": null,
            "grid_row": null,
            "max_height": null,
            "align_content": null,
            "visibility": null,
            "align_self": null,
            "height": null,
            "min_height": null,
            "padding": null,
            "grid_auto_rows": null,
            "grid_gap": null,
            "max_width": null,
            "order": null,
            "_view_module_version": "1.2.0",
            "grid_template_areas": null,
            "object_position": null,
            "object_fit": null,
            "grid_auto_columns": null,
            "margin": null,
            "display": null,
            "left": null
          }
        },
        "0d857d6c16eb4a01827b528f23d190af": {
          "model_module": "@jupyter-widgets/controls",
          "model_name": "DescriptionStyleModel",
          "model_module_version": "1.5.0",
          "state": {
            "_view_name": "StyleView",
            "_model_name": "DescriptionStyleModel",
            "description_width": "",
            "_view_module": "@jupyter-widgets/base",
            "_model_module_version": "1.5.0",
            "_view_count": null,
            "_view_module_version": "1.2.0",
            "_model_module": "@jupyter-widgets/controls"
          }
        },
        "8fac650e245d42b6a6fda5ee2ce883aa": {
          "model_module": "@jupyter-widgets/base",
          "model_name": "LayoutModel",
          "model_module_version": "1.2.0",
          "state": {
            "_view_name": "LayoutView",
            "grid_template_rows": null,
            "right": null,
            "justify_content": null,
            "_view_module": "@jupyter-widgets/base",
            "overflow": null,
            "_model_module_version": "1.2.0",
            "_view_count": null,
            "flex_flow": null,
            "width": null,
            "min_width": null,
            "border": null,
            "align_items": null,
            "bottom": null,
            "_model_module": "@jupyter-widgets/base",
            "top": null,
            "grid_column": null,
            "overflow_y": null,
            "overflow_x": null,
            "grid_auto_flow": null,
            "grid_area": null,
            "grid_template_columns": null,
            "flex": null,
            "_model_name": "LayoutModel",
            "justify_items": null,
            "grid_row": null,
            "max_height": null,
            "align_content": null,
            "visibility": null,
            "align_self": null,
            "height": null,
            "min_height": null,
            "padding": null,
            "grid_auto_rows": null,
            "grid_gap": null,
            "max_width": null,
            "order": null,
            "_view_module_version": "1.2.0",
            "grid_template_areas": null,
            "object_position": null,
            "object_fit": null,
            "grid_auto_columns": null,
            "margin": null,
            "display": null,
            "left": null
          }
        }
      }
    },
    "accelerator": "GPU"
  },
  "cells": [
    {
      "cell_type": "code",
      "metadata": {
        "id": "c7bo76qszaEK"
      },
      "source": [
        "import torch"
      ],
      "execution_count": null,
      "outputs": []
    },
    {
      "cell_type": "markdown",
      "metadata": {
        "id": "Ky8hRO-_V4iO"
      },
      "source": [
        "#Basic"
      ]
    },
    {
      "cell_type": "code",
      "metadata": {
        "colab": {
          "base_uri": "https://localhost:8080/"
        },
        "id": "JHTS2GHrTBzf",
        "outputId": "b2f53ee4-885c-42a9-ef93-e2fc612a42ef"
      },
      "source": [
        "a=torch.tensor([[1.,2.],[3.,4.]])\n",
        "print(\"a:\",a)\n",
        "print(\"size of a:\", a.shape)\n",
        "b=torch.tensor([[5.,6.],[7.,8.]])\n",
        "print(\"b:\",b)\n",
        "print(\"size of b:\",b.size())"
      ],
      "execution_count": null,
      "outputs": [
        {
          "output_type": "stream",
          "name": "stdout",
          "text": [
            "a: tensor([[1., 2.],\n",
            "        [3., 4.]])\n",
            "size of a: torch.Size([2, 2])\n",
            "b: tensor([[5., 6.],\n",
            "        [7., 8.]])\n",
            "size of b: torch.Size([2, 2])\n"
          ]
        }
      ]
    },
    {
      "cell_type": "code",
      "metadata": {
        "colab": {
          "base_uri": "https://localhost:8080/"
        },
        "id": "9Kf-212yy-Xf",
        "outputId": "c310601c-b75a-4fe5-bcdf-310ba3dd5f81"
      },
      "source": [
        "print(\"a+b:\", a + b)\n",
        "print(\"a-b:\", a - b)\n",
        "print(\"a*b:\", a * b)\n",
        "print(\"a/b:\", a / b)\n",
        "\n",
        "print(\"matmul:\", torch.matmul(a,b))\n",
        "print(\"mm:\", a.mm(b))"
      ],
      "execution_count": null,
      "outputs": [
        {
          "output_type": "stream",
          "name": "stdout",
          "text": [
            "a+b: tensor([[ 6.,  8.],\n",
            "        [10., 12.]])\n",
            "a-b: tensor([[-4., -4.],\n",
            "        [-4., -4.]])\n",
            "a*b: tensor([[ 5., 12.],\n",
            "        [21., 32.]])\n",
            "a/b: tensor([[0.2000, 0.3333],\n",
            "        [0.4286, 0.5000]])\n",
            "matmul: tensor([[19., 22.],\n",
            "        [43., 50.]])\n",
            "mm: tensor([[19., 22.],\n",
            "        [43., 50.]])\n"
          ]
        }
      ]
    },
    {
      "cell_type": "markdown",
      "metadata": {
        "id": "ESG2liyaRkeq"
      },
      "source": [
        "#GPU Tensor (Check Time)"
      ]
    },
    {
      "cell_type": "code",
      "metadata": {
        "id": "5CNa1Um1RneK"
      },
      "source": [
        "import time\t#시간 측정 코드"
      ],
      "execution_count": null,
      "outputs": []
    },
    {
      "cell_type": "markdown",
      "metadata": {
        "id": "UwMjo9yoRyMW"
      },
      "source": [
        "CPU"
      ]
    },
    {
      "cell_type": "code",
      "metadata": {
        "colab": {
          "base_uri": "https://localhost:8080/"
        },
        "id": "lJ6qnJ3pRzG9",
        "outputId": "b438d6f9-526e-459b-f1f1-df24a0b64220"
      },
      "source": [
        "a = torch.rand(10000,10000)\n",
        "b = torch.rand(10000,10000)\n",
        "\n",
        "startTime = time.time() \t# 시작 시간 저장\n",
        "\n",
        "a.matmul(b)\t# 작업 코드\n",
        " \n",
        "# 현재시각 - 시작시간 = 실행 시간 (ms)\n",
        "print(\"elapsed time: %.2f ms\" % ((time.time() - startTime)*1000))"
      ],
      "execution_count": null,
      "outputs": [
        {
          "output_type": "stream",
          "name": "stdout",
          "text": [
            "elapsed time: 26835.22 ms\n"
          ]
        }
      ]
    },
    {
      "cell_type": "markdown",
      "metadata": {
        "id": "Xej1uQgB10pY"
      },
      "source": [
        "CUDA"
      ]
    },
    {
      "cell_type": "code",
      "metadata": {
        "colab": {
          "base_uri": "https://localhost:8080/"
        },
        "id": "5FRMVBNW11p4",
        "outputId": "3e88a823-7423-4d66-f539-409928c19fee"
      },
      "source": [
        "a = a.cuda()\n",
        "b = b.cuda()\n",
        "\n",
        "startTime = time.time() \t# 시작 시간 저장\n",
        " \n",
        "a.matmul(b)\t# 작업 코드\n",
        " \n",
        "# 현재시각 - 시작시간 = 실행 시간 (ms)\n",
        "print(\"elapsed time: %.2f ms\" % ((time.time() - startTime)*1000))"
      ],
      "execution_count": null,
      "outputs": [
        {
          "output_type": "stream",
          "name": "stdout",
          "text": [
            "elapsed time: 0.53 ms\n"
          ]
        }
      ]
    },
    {
      "cell_type": "markdown",
      "metadata": {
        "id": "mmdXO6wPO5at"
      },
      "source": [
        "#Autograd\n",
        "자동-미분 기능 제공 (Back Propagation)"
      ]
    },
    {
      "cell_type": "markdown",
      "metadata": {
        "id": "MN2dZXnGPL_L"
      },
      "source": [
        "Check Device (CPU or GPU)"
      ]
    },
    {
      "cell_type": "code",
      "metadata": {
        "colab": {
          "base_uri": "https://localhost:8080/"
        },
        "id": "LbUXXcIaPLYK",
        "outputId": "a2b1e673-8e1f-4458-b47d-3e6b470dfba6"
      },
      "source": [
        "import torch\n",
        "\n",
        "if torch.cuda.is_available():\n",
        "    DEVICE = torch.device('cuda')\n",
        "else:\n",
        "    DEVICE = torch.device('cpu')\n",
        "print(DEVICE)"
      ],
      "execution_count": null,
      "outputs": [
        {
          "output_type": "stream",
          "name": "stdout",
          "text": [
            "cuda\n"
          ]
        }
      ]
    },
    {
      "cell_type": "markdown",
      "metadata": {
        "id": "vQIWIckhQcXU"
      },
      "source": [
        "Model"
      ]
    },
    {
      "cell_type": "code",
      "metadata": {
        "id": "b3ajzKa5PylL"
      },
      "source": [
        "BATCH_SIZE = 64\n",
        "INPUT_SIZE = 1000\n",
        "HIDDEN_SIZE = 100\n",
        "OUTPUT_SIZE = 10"
      ],
      "execution_count": null,
      "outputs": []
    },
    {
      "cell_type": "code",
      "metadata": {
        "colab": {
          "base_uri": "https://localhost:8080/"
        },
        "id": "X3zxlis9P00F",
        "outputId": "0e70a386-7d2d-47dd-d686-d1d676d1c32b"
      },
      "source": [
        "x = torch.randn(BATCH_SIZE, \n",
        "                INPUT_SIZE, \n",
        "                device = DEVICE, \n",
        "                dtype = torch.float, \n",
        "                requires_grad = False)  \n",
        "print(\"size of x:\", x.size())\n",
        "\n",
        "y = torch.randn(BATCH_SIZE, \n",
        "                OUTPUT_SIZE, \n",
        "                device = DEVICE,\n",
        "                dtype = torch.float, \n",
        "                requires_grad = False)  \n",
        "print(\"size of y:\", y.size())\n",
        "\n",
        "#weight\n",
        "w1 = torch.randn(INPUT_SIZE, \n",
        "                 HIDDEN_SIZE, \n",
        "                 device = DEVICE, \n",
        "                 dtype = torch.float,\n",
        "                 requires_grad = True)  \n",
        "print(\"size of w1:\", w1.size())\n",
        "\n",
        "w2 = torch.randn(HIDDEN_SIZE,\n",
        "                 OUTPUT_SIZE, \n",
        "                 device = DEVICE,\n",
        "                 dtype = torch.float,\n",
        "                 requires_grad = True)\n",
        "print(\"size of w2:\", w2.size())  "
      ],
      "execution_count": null,
      "outputs": [
        {
          "output_type": "stream",
          "name": "stdout",
          "text": [
            "size of x: torch.Size([64, 1000])\n",
            "size of y: torch.Size([64, 10])\n",
            "size of w1: torch.Size([1000, 100])\n",
            "size of w2: torch.Size([100, 10])\n"
          ]
        }
      ]
    },
    {
      "cell_type": "code",
      "metadata": {
        "colab": {
          "base_uri": "https://localhost:8080/"
        },
        "id": "XCR-_izmO4LB",
        "outputId": "56f0d95d-ac7e-439c-bb75-f2d6203a0a6e"
      },
      "source": [
        "learning_rate = 1e-6\n",
        "for t in range(1, 1001):\n",
        "    y_pred = x.mm(w1).clamp(min = 0).mm(w2)\n",
        "\n",
        "    loss = (y_pred - y).pow(2).sum()\n",
        "    if t % 100 == 0:\n",
        "        print(\"Iteration: \", t, \"\\t\", \"Loss: \", loss.item())\n",
        "    loss.backward()\n",
        "\n",
        "    with torch.no_grad():\n",
        "        w1 -= learning_rate * w1.grad\n",
        "        w2 -= learning_rate * w2.grad\n",
        "\n",
        "        w1.grad.zero_()\n",
        "        w2.grad.zero_()"
      ],
      "execution_count": null,
      "outputs": [
        {
          "output_type": "stream",
          "name": "stdout",
          "text": [
            "Iteration:  100 \t Loss:  3.2648604246787727e-06\n",
            "Iteration:  200 \t Loss:  2.9706939130846877e-06\n",
            "Iteration:  300 \t Loss:  2.6519796847424004e-06\n",
            "Iteration:  400 \t Loss:  2.4657042558828834e-06\n",
            "Iteration:  500 \t Loss:  2.23881215788424e-06\n",
            "Iteration:  600 \t Loss:  2.020527517743176e-06\n",
            "Iteration:  700 \t Loss:  1.924555363075342e-06\n",
            "Iteration:  800 \t Loss:  1.7750940060068388e-06\n",
            "Iteration:  900 \t Loss:  1.6836067970871227e-06\n",
            "Iteration:  1000 \t Loss:  1.5678955378461978e-06\n"
          ]
        }
      ]
    },
    {
      "cell_type": "markdown",
      "metadata": {
        "id": "jnpTrPCM8dEk"
      },
      "source": [
        "#Example"
      ]
    },
    {
      "cell_type": "code",
      "metadata": {
        "id": "OjUkSFY68gEh"
      },
      "source": [
        "import torch\n",
        "torch.__version__\n",
        "\n",
        "import numpy as np\n",
        "import matplotlib.pyplot as plt\n",
        "\n",
        "from torch.autograd import Variable\n",
        "\n",
        "# 학습 데이터\n",
        "def get_data():\n",
        "    train_X = np.asarray([3.3,4.4,5.5,6.71,6.93,4.168,9.779,6.182,7.59,2.167, 7.042,10.791,5.313,7.997,5.654,9.27,3.1])\n",
        "    train_Y = np.asarray([1.7,2.76,2.09,3.19,1.694,1.573,3.366,2.596,2.53,1.221, 2.827,3.465,1.65,2.904,2.42,2.94,1.3])\n",
        "    dtype = torch.FloatTensor\n",
        "    X = Variable(torch.from_numpy(train_X).type(dtype),requires_grad=False).view(17,1)\n",
        "    y = Variable(torch.from_numpy(train_Y).type(dtype),requires_grad=False)\n",
        "    return X,y\n",
        "\n",
        "def plot_variable(x,y,z='',**kwargs):\n",
        "    l = []\n",
        "    for a in [x,y]:\n",
        "        l.append(a.data.numpy())\n",
        "    plt.plot(l[0],l[1],z,**kwargs)\n",
        "\n",
        "def get_weights():\n",
        "    w = Variable(torch.randn(1),requires_grad = True)\n",
        "    b = Variable(torch.randn(1),requires_grad=True)\n",
        "    return w,b\n",
        "\n",
        "def simple_network(x):\n",
        "    y_pred = torch.matmul(x,w)+b\n",
        "    return y_pred\n",
        "\n",
        "def loss_fn(y,y_pred):\n",
        "    loss = (y_pred-y).pow(2).sum()\n",
        "    for param in [w,b]:\n",
        "        if not param.grad is None: param.grad.data.zero_()\n",
        "    loss.backward()\n",
        "    return loss.data\n",
        "\n",
        "\n",
        "def optimize(learning_rate):\n",
        "    w.data -= learning_rate * w.grad.data\n",
        "    b.data -= learning_rate * b.grad.data"
      ],
      "execution_count": null,
      "outputs": []
    },
    {
      "cell_type": "code",
      "metadata": {
        "colab": {
          "base_uri": "https://localhost:8080/",
          "height": 441
        },
        "id": "XHsPlTgYFFUR",
        "outputId": "f9656aca-d82a-4e9d-853c-5a04870e2374"
      },
      "source": [
        "learning_rate = 1e-4\n",
        "\n",
        "x,y = get_data()               # x - 학습 데이터, y - 목적 변수(Target Variables)\n",
        "w,b = get_weights()           # w,b - 학습 파라미터\n",
        "for i in range(500):\n",
        "    y_pred = simple_network(x) # wx + b를 계산하는 함수\n",
        "    loss = loss_fn(y,y_pred)   # y와 y_pred의 차의 제곱 합을 계산\n",
        "    if i % 50 == 0: \n",
        "        print(loss)\n",
        "    optimize(learning_rate)    # 오차를 최소화하도록 w, b를 조정\n",
        "\n",
        "plot_variable(x,y,'ro')\n",
        "plot_variable(x,y_pred,label='Fitted line')"
      ],
      "execution_count": null,
      "outputs": [
        {
          "output_type": "stream",
          "name": "stdout",
          "text": [
            "tensor(1337.7030)\n",
            "tensor(3.6443)\n",
            "tensor(3.6026)\n",
            "tensor(3.5627)\n",
            "tensor(3.5244)\n",
            "tensor(3.4876)\n",
            "tensor(3.4524)\n",
            "tensor(3.4185)\n",
            "tensor(3.3861)\n",
            "tensor(3.3549)\n"
          ]
        },
        {
          "output_type": "display_data",
          "data": {
            "image/png": "[encoded data removed]",
            "text/plain": [
              "<Figure size 432x288 with 1 Axes>"
            ]
          },
          "metadata": {
            "needs_background": "light"
          }
        }
      ]
    },
    {
      "cell_type": "markdown",
      "metadata": {
        "id": "HDSGe0NR_rcv"
      },
      "source": [
        "#MNIST_MLP\n",
        "프응5주차~ "
      ]
    },
    {
      "cell_type": "markdown",
      "metadata": {
        "id": "vmKjABzy_v37"
      },
      "source": [
        "Module Import"
      ]
    },
    {
      "cell_type": "code",
      "metadata": {
        "id": "M6IO-1Tj_u4_"
      },
      "source": [
        "import numpy as np\n",
        "import matplotlib.pyplot as plt\n",
        "\n",
        "import torch\n",
        "import torch.nn as nn\n",
        "import torch.nn.functional as F\n",
        "from torchvision import transforms, datasets"
      ],
      "execution_count": null,
      "outputs": []
    },
    {
      "cell_type": "markdown",
      "metadata": {
        "id": "2QWYJzwB_0Ik"
      },
      "source": [
        "Check Device"
      ]
    },
    {
      "cell_type": "code",
      "metadata": {
        "id": "FMvBeGbP_ztf",
        "colab": {
          "base_uri": "https://localhost:8080/"
        },
        "outputId": "4f68aea0-aa59-4914-8df3-408b53cdcdc1"
      },
      "source": [
        "if torch.cuda.is_available():\n",
        "    DEVICE = torch.device('cuda')\n",
        "else:\n",
        "    DEVICE = torch.device('cpu')\n",
        "\n",
        "print('Using PyTorch version:', torch.__version__, ' Device:', DEVICE)"
      ],
      "execution_count": null,
      "outputs": [
        {
          "output_type": "stream",
          "name": "stdout",
          "text": [
            "Using PyTorch version: 1.9.0+cu111  Device: cuda\n"
          ]
        }
      ]
    },
    {
      "cell_type": "markdown",
      "metadata": {
        "id": "Zfy4FrvE_8ea"
      },
      "source": [
        "Hyper parameter"
      ]
    },
    {
      "cell_type": "code",
      "metadata": {
        "id": "0QZYYax__7yp"
      },
      "source": [
        "BATCH_SIZE = 32     # (중간고사) Q. BATCH_SIZE가 의미하는 것은?\n",
        "EPOCHS = 10         #어디서 끝날지 보는 것. 원하는 값으로 설정"
      ],
      "execution_count": null,
      "outputs": []
    },
    {
      "cell_type": "markdown",
      "metadata": {
        "id": "JS6BePrPARLq"
      },
      "source": [
        "Download Mnist DB"
      ]
    },
    {
      "cell_type": "code",
      "metadata": {
        "id": "pZT9ItbqBpdA",
        "colab": {
          "base_uri": "https://localhost:8080/"
        },
        "outputId": "8917856d-21b2-4451-c369-b14aa45de359"
      },
      "source": [
        "!pwd                #다운받는 위치"
      ],
      "execution_count": null,
      "outputs": [
        {
          "output_type": "stream",
          "name": "stdout",
          "text": [
            "/content\n"
          ]
        }
      ]
    },
    {
      "cell_type": "code",
      "metadata": {
        "id": "I2UUnWmABiNI",
        "colab": {
          "base_uri": "https://localhost:8080/"
        },
        "outputId": "893b11f8-459e-4044-af70-574dbdd17d74"
      },
      "source": [
        "!ls"
      ],
      "execution_count": null,
      "outputs": [
        {
          "output_type": "stream",
          "name": "stdout",
          "text": [
            "sample_data\n"
          ]
        }
      ]
    },
    {
      "cell_type": "code",
      "metadata": {
        "id": "QeSXXqtnAVdi",
        "colab": {
          "base_uri": "https://localhost:8080/",
          "height": 486,
          "referenced_widgets": [
            "69f41f9765d743e3a9c94b7e4bdfb3d7",
            "87b811558ad04e1aad8dd1a9a140c581",
            "eed39c6e082042d9bfcd9d5a269664c8",
            "fce4ec106bb0444fb4e62fa1f44d2387",
            "99a7dffa8ee945f2b5d45059a914fc5e",
            "8ca7f688fdaa4c6bb99efeac507347c2",
            "264cd3b7d9f5407c9953cc54041533d7",
            "4db4513e9275431da6b818d9e6b8e42e",
            "a191d5f3870748b8b51ffb33c92646f3",
            "b7a31a96bd174276a03b106bc0197ba5",
            "5c6e5668910d4275b8fc5d69a3e73a35",
            "200aaf9b2054495fa2fb3aafd6febed1",
            "2a9ba5c994d9471db20576626085197f",
            "729b4d37d9dd4a6888ed32ac10cd54f6"
          ]
        },
        "outputId": "061cd14e-bc5e-4e74-bbf1-51d6835c5df5"
      },
      "source": [
        "train_dataset = datasets.MNIST(root = \"./data/MNIST\",               #다운받을 위치\n",
        "                               train = True,\n",
        "                               download = True,\n",
        "                               transform = transforms.ToTensor())\n",
        "\n",
        "test_dataset = datasets.MNIST(root = \"./data/MNIST\",\n",
        "                              train = False,\n",
        "                              transform = transforms.ToTensor())"
      ],
      "execution_count": null,
      "outputs": [
        {
          "output_type": "stream",
          "name": "stdout",
          "text": [
            "Downloading http://yann.lecun.com/exdb/mnist/train-images-idx3-ubyte.gz\n",
            "Downloading http://yann.lecun.com/exdb/mnist/train-images-idx3-ubyte.gz to ./data/MNIST/MNIST/raw/train-images-idx3-ubyte.gz\n"
          ]
        },
        {
          "output_type": "display_data",
          "data": {
            "application/vnd.jupyter.widget-view+json": {
              "model_id": "69f41f9765d743e3a9c94b7e4bdfb3d7",
              "version_minor": 0,
              "version_major": 2
            },
            "text/plain": [
              "  0%|          | 0/9912422 [00:00<?, ?it/s]"
            ]
          },
          "metadata": {}
        },
        {
          "output_type": "stream",
          "name": "stdout",
          "text": [
            "Extracting ./data/MNIST/MNIST/raw/train-images-idx3-ubyte.gz to ./data/MNIST/MNIST/raw\n",
            "\n",
            "Downloading http://yann.lecun.com/exdb/mnist/train-labels-idx1-ubyte.gz\n",
            "Downloading http://yann.lecun.com/exdb/mnist/train-labels-idx1-ubyte.gz to ./data/MNIST/MNIST/raw/train-labels-idx1-ubyte.gz\n"
          ]
        },
        {
          "output_type": "display_data",
          "data": {
            "application/vnd.jupyter.widget-view+json": {
              "model_id": "200aaf9b2054495fa2fb3aafd6febed1",
              "version_minor": 0,
              "version_major": 2
            },
            "text/plain": [
              "  0%|          | 0/28881 [00:00<?, ?it/s]"
            ]
          },
          "metadata": {}
        },
        {
          "output_type": "stream",
          "name": "stdout",
          "text": [
            "Extracting ./data/MNIST/MNIST/raw/train-labels-idx1-ubyte.gz to ./data/MNIST/MNIST/raw\n",
            "\n",
            "Downloading http://yann.lecun.com/exdb/mnist/t10k-images-idx3-ubyte.gz\n",
            "Downloading http://yann.lecun.com/exdb/mnist/t10k-images-idx3-ubyte.gz to ./data/MNIST/MNIST/raw/t10k-images-idx3-ubyte.gz\n"
          ]
        },
        {
          "output_type": "display_data",
          "data": {
            "application/vnd.jupyter.widget-view+json": {
              "model_id": "2a9ba5c994d9471db20576626085197f",
              "version_minor": 0,
              "version_major": 2
            },
            "text/plain": [
              "  0%|          | 0/1648877 [00:00<?, ?it/s]"
            ]
          },
          "metadata": {}
        },
        {
          "output_type": "stream",
          "name": "stdout",
          "text": [
            "Extracting ./data/MNIST/MNIST/raw/t10k-images-idx3-ubyte.gz to ./data/MNIST/MNIST/raw\n",
            "\n",
            "Downloading http://yann.lecun.com/exdb/mnist/t10k-labels-idx1-ubyte.gz\n",
            "Downloading http://yann.lecun.com/exdb/mnist/t10k-labels-idx1-ubyte.gz to ./data/MNIST/MNIST/raw/t10k-labels-idx1-ubyte.gz\n"
          ]
        },
        {
          "output_type": "display_data",
          "data": {
            "application/vnd.jupyter.widget-view+json": {
              "model_id": "729b4d37d9dd4a6888ed32ac10cd54f6",
              "version_minor": 0,
              "version_major": 2
            },
            "text/plain": [
              "  0%|          | 0/4542 [00:00<?, ?it/s]"
            ]
          },
          "metadata": {}
        },
        {
          "output_type": "stream",
          "name": "stdout",
          "text": [
            "Extracting ./data/MNIST/MNIST/raw/t10k-labels-idx1-ubyte.gz to ./data/MNIST/MNIST/raw\n",
            "\n"
          ]
        },
        {
          "output_type": "stream",
          "name": "stderr",
          "text": [
            "/usr/local/lib/python3.7/dist-packages/torchvision/datasets/mnist.py:498: UserWarning: The given NumPy array is not writeable, and PyTorch does not support non-writeable tensors. This means you can write to the underlying (supposedly non-writeable) NumPy array using the tensor. You may want to copy the array to protect its data or make it writeable before converting it to a tensor. This type of warning will be suppressed for the rest of this program. (Triggered internally at  /pytorch/torch/csrc/utils/tensor_numpy.cpp:180.)\n",
            "  return torch.from_numpy(parsed.astype(m[2], copy=False)).view(*s)\n"
          ]
        }
      ]
    },
    {
      "cell_type": "markdown",
      "metadata": {
        "id": "PrGPrWJgHNA7"
      },
      "source": [
        "Dataloader"
      ]
    },
    {
      "cell_type": "code",
      "metadata": {
        "id": "wWLgrNbGAfsW"
      },
      "source": [
        "train_loader = torch.utils.data.DataLoader(dataset = train_dataset,\n",
        "                                           batch_size = BATCH_SIZE,\n",
        "                                           shuffle = True)          #셔플 해주기\n",
        "\n",
        "test_loader = torch.utils.data.DataLoader(dataset = test_dataset,\n",
        "                                          batch_size = BATCH_SIZE,\n",
        "                                          shuffle = False)          #셔플 굳이 할 필요 없음"
      ],
      "execution_count": null,
      "outputs": []
    },
    {
      "cell_type": "markdown",
      "metadata": {
        "id": "sli30Go4HxbZ"
      },
      "source": [
        "Check Data"
      ]
    },
    {
      "cell_type": "code",
      "metadata": {
        "id": "HDQD2LRoHw_l",
        "colab": {
          "base_uri": "https://localhost:8080/"
        },
        "outputId": "d61dbc76-78f9-4c35-c7c5-592682118110"
      },
      "source": [
        "for (X_train, y_train) in train_loader:\n",
        "    print('X_train:', X_train.size(), 'type:', X_train.type())      #결과 [배치사이즈 32, \n",
        "    print('y_train:', y_train.size(), 'type:', y_train.type())\n",
        "    break"
      ],
      "execution_count": null,
      "outputs": [
        {
          "output_type": "stream",
          "name": "stdout",
          "text": [
            "X_train: torch.Size([32, 1, 28, 28]) type: torch.FloatTensor\n",
            "y_train: torch.Size([32]) type: torch.LongTensor\n"
          ]
        }
      ]
    },
    {
      "cell_type": "markdown",
      "metadata": {
        "id": "hmjMJpy5IBBq"
      },
      "source": [
        "Show Data"
      ]
    },
    {
      "cell_type": "code",
      "metadata": {
        "id": "qDh0crIcH95l",
        "colab": {
          "base_uri": "https://localhost:8080/",
          "height": 94
        },
        "outputId": "7348d587-951e-4b7c-eb22-c0bb7bfecc3f"
      },
      "source": [
        "pltsize = 1\n",
        "plt.figure(figsize=(10 * pltsize, pltsize))\n",
        "for i in range(10):\n",
        "    plt.subplot(1, 10, i + 1)\n",
        "    plt.axis('off')\n",
        "    plt.imshow(X_train[i, :, :, :].numpy().reshape(28, 28), cmap = \"gray_r\")\n",
        "    plt.title('Class: ' + str(y_train[i].item()))"
      ],
      "execution_count": null,
      "outputs": [
        {
          "output_type": "display_data",
          "data": {
            "image/png": "[encoded data removed]",
            "text/plain": [
              "<Figure size 720x72 with 10 Axes>"
            ]
          },
          "metadata": {
            "needs_background": "light"
          }
        }
      ]
    },
    {
      "cell_type": "markdown",
      "metadata": {
        "id": "YjgoXqVwIZrV"
      },
      "source": [
        "Model"
      ]
    },
    {
      "cell_type": "code",
      "metadata": {
        "id": "Q6yvW1WfIcNP"
      },
      "source": [
        "class Net(nn.Module):                       ###요부분 수정?  #전체적인 네트워크 구조\n",
        "    def __init__(self):\n",
        "        super(Net, self).__init__()\n",
        "        self.fc1 = nn.Linear(28 * 28, 512)\n",
        "        self.fc2 = nn.Linear(512, 256)\n",
        "        self.fc3 = nn.Linear(256, 10)\n",
        "        self.dropout_prob = 0.3\n",
        "\n",
        "    def forward(self, x):\n",
        "        x = x.view(-1, 28 * 28)\n",
        "        x = self.fc1(x)\n",
        "        x = F.relu(x)\n",
        "        x = F.dropout(x, training = self.training, p = self.dropout_prob) ###\n",
        "        x = self.fc2(x)\n",
        "        x = F.relu(x)\n",
        "        x = F.dropout(x, training = self.training, p = self.dropout_prob) ###\n",
        "        x = self.fc3(x)\n",
        "        x = F.log_softmax(x, dim = 1)\n",
        "        return x"
      ],
      "execution_count": null,
      "outputs": []
    },
    {
      "cell_type": "code",
      "metadata": {
        "colab": {
          "base_uri": "https://localhost:8080/"
        },
        "id": "uKUy59W9adFc",
        "outputId": "88134146-3332-40d3-af07-d03c63046efc"
      },
      "source": [
        "Net()"
      ],
      "execution_count": null,
      "outputs": [
        {
          "output_type": "execute_result",
          "data": {
            "text/plain": [
              "Net(\n",
              "  (fc1): Linear(in_features=784, out_features=512, bias=True)\n",
              "  (fc2): Linear(in_features=512, out_features=256, bias=True)\n",
              "  (fc3): Linear(in_features=256, out_features=10, bias=True)\n",
              ")"
            ]
          },
          "metadata": {},
          "execution_count": 45
        }
      ]
    },
    {
      "cell_type": "markdown",
      "metadata": {
        "id": "g1mBu1sFLUx0"
      },
      "source": [
        "Optimizer, Objective Function"
      ]
    },
    {
      "cell_type": "code",
      "metadata": {
        "id": "Ri0jRN_ZLY4c",
        "colab": {
          "base_uri": "https://localhost:8080/"
        },
        "outputId": "bd17d3b3-416e-4f45-84cf-a0a3386a0726"
      },
      "source": [
        "#안외워도됨     Q.SGD를 Adam으로 바꾸세요\n",
        "model = Net().to(DEVICE)\n",
        "optimizer = torch.optim.SGD(model.parameters(), lr = 0.01, momentum = 0.5)\n",
        "criterion = nn.CrossEntropyLoss()\n",
        "\n",
        "print(model)"
      ],
      "execution_count": null,
      "outputs": [
        {
          "output_type": "stream",
          "name": "stdout",
          "text": [
            "Net(\n",
            "  (fc1): Linear(in_features=784, out_features=512, bias=True)\n",
            "  (fc2): Linear(in_features=512, out_features=256, bias=True)\n",
            "  (fc3): Linear(in_features=256, out_features=10, bias=True)\n",
            ")\n"
          ]
        }
      ]
    },
    {
      "cell_type": "markdown",
      "metadata": {
        "id": "GPNC9p3LLtW6"
      },
      "source": [
        "Train"
      ]
    },
    {
      "cell_type": "code",
      "metadata": {
        "id": "l2MrVZSPLuR9"
      },
      "source": [
        "def train(model, train_loader, optimizer, log_interval):\n",
        "    model.train()                #*train할때만 쓰이는 것들이 있기 때문에\n",
        "    for batch_idx, (image, label) in enumerate(train_loader):               \n",
        "       #loss 등등.. 의미하는 것들 다 알아두기\n",
        "        image = image.to(DEVICE)\n",
        "        label = label.to(DEVICE)\n",
        "        optimizer.zero_grad()\n",
        "        output = model(image)\n",
        "        loss = criterion(output, label)\n",
        "        loss.backward()\n",
        "        optimizer.step()\n",
        "\n",
        "        if batch_idx % log_interval == 0:\n",
        "            print(\"Train Epoch: {} [{}/{} ({:.0f}%)]\\tTrain Loss: {:.6f}\".format(\n",
        "                epoch, batch_idx * len(image), \n",
        "                len(train_loader.dataset), 100. * batch_idx / len(train_loader), \n",
        "                loss.item()))"
      ],
      "execution_count": null,
      "outputs": []
    },
    {
      "cell_type": "markdown",
      "metadata": {
        "id": "wJX5NC9-MInu"
      },
      "source": [
        "Validation (Evaluation)"
      ]
    },
    {
      "cell_type": "code",
      "metadata": {
        "id": "4IfuwIACMIZg"
      },
      "source": [
        "def evaluate(model, test_loader):\n",
        "    model.eval()                #*train할때만 쓰이는 것들이 있기 때문에\n",
        "    test_loss = 0\n",
        "    correct = 0\n",
        "\n",
        "    with torch.no_grad():\n",
        "        for image, label in test_loader:\n",
        "            image = image.to(DEVICE)\n",
        "            label = label.to(DEVICE)\n",
        "            output = model(image)\n",
        "            test_loss += criterion(output, label).item()\n",
        "            prediction = output.max(1, keepdim = True)[1]\n",
        "            correct += prediction.eq(label.view_as(prediction)).sum().item()\n",
        "    \n",
        "    test_loss /= (len(test_loader.dataset) / BATCH_SIZE)\n",
        "    test_accuracy = 100. * correct / len(test_loader.dataset)\n",
        "    return test_loss, test_accuracy"
      ],
      "execution_count": null,
      "outputs": []
    },
    {
      "cell_type": "markdown",
      "metadata": {
        "id": "vEOu2zfSMZT9"
      },
      "source": [
        "Run"
      ]
    },
    {
      "cell_type": "code",
      "metadata": {
        "id": "PU79YpS9MXCc"
      },
      "source": [
        "for epoch in range(1, EPOCHS + 1):\n",
        "    train(model, train_loader, optimizer, log_interval = 200)\n",
        "    test_loss, test_accuracy = evaluate(model, test_loader)\n",
        "    print(\"\\n[EPOCH: {}], \\tTest Loss: {:.4f}, \\tTest Accuracy: {:.2f} % \\n\".format(\n",
        "        epoch, test_loss, test_accuracy))         \n",
        "      #train loss랑 test loss랑 비슷하게 떨어져야함\n",
        "      #한쪽은 덜 떨어지면 overfitting된것이므로 일반화시켜줘야함"
      ],
      "execution_count": null,
      "outputs": []
    },
    {
      "cell_type": "markdown",
      "metadata": {
        "id": "prMI6EWEwYpv"
      },
      "source": [
        "#Chapter 3"
      ]
    },
    {
      "cell_type": "markdown",
      "metadata": {
        "id": "a9nVoYM2y0si"
      },
      "source": [
        "##MNIST_MLP with Dropout"
      ]
    },
    {
      "cell_type": "markdown",
      "metadata": {
        "id": "xinTEi1QzbkN"
      },
      "source": [
        "**Model** with Dropout"
      ]
    },
    {
      "cell_type": "code",
      "metadata": {
        "id": "AJdLPzK_y0CV"
      },
      "source": [
        "class Net(nn.Module):               #전체적인 네트워크구조\n",
        "    def __init__(self):\n",
        "        super(Net, self).__init__()\n",
        "        self.fc1 = nn.Linear(28 * 28, 512)\n",
        "        self.fc2 = nn.Linear(512, 256)\n",
        "        self.fc3 = nn.Linear(256, 10)\n",
        "        self.dropout_prob = 0.5                                           ###\n",
        "\n",
        "    def forward(self, x):\n",
        "        x = x.view(-1, 28 * 28)\n",
        "        x = self.fc1(x)\n",
        "        x = F.sigmoid(x)\n",
        "        x = F.dropout(x, training = self.training, p = self.dropout_prob) ###\n",
        "        x = self.fc2(x)\n",
        "        x = F.sigmoid(x)\n",
        "        x = F.dropout(x, training = self.training, p = self.dropout_prob) ###\n",
        "        x = self.fc3(x)\n",
        "        x = F.log_softmax(x, dim = 1)\n",
        "        return x"
      ],
      "execution_count": null,
      "outputs": []
    },
    {
      "cell_type": "markdown",
      "metadata": {
        "id": "MDuJMiAh4djm"
      },
      "source": [
        "Optimizer, Objective Function"
      ]
    },
    {
      "cell_type": "code",
      "metadata": {
        "colab": {
          "base_uri": "https://localhost:8080/"
        },
        "id": "nmpApn54zh9N",
        "outputId": "a6f0ca2d-8097-4777-e2f9-e05e092fed39"
      },
      "source": [
        "model = Net().to(DEVICE)\n",
        "optimizer = torch.optim.SGD(model.parameters(), lr = 0.01, momentum = 0.5)\n",
        "criterion = nn.CrossEntropyLoss()\n",
        "\n",
        "print(model)"
      ],
      "execution_count": null,
      "outputs": [
        {
          "output_type": "stream",
          "name": "stdout",
          "text": [
            "Net(\n",
            "  (fc1): Linear(in_features=784, out_features=512, bias=True)\n",
            "  (fc2): Linear(in_features=512, out_features=256, bias=True)\n",
            "  (fc3): Linear(in_features=256, out_features=10, bias=True)\n",
            ")\n"
          ]
        }
      ]
    },
    {
      "cell_type": "markdown",
      "metadata": {
        "id": "6XhZ4-Ax1cY6"
      },
      "source": [
        "Run"
      ]
    },
    {
      "cell_type": "code",
      "metadata": {
        "colab": {
          "base_uri": "https://localhost:8080/",
          "height": 547
        },
        "id": "8qNvSD0T1b-M",
        "outputId": "24d39f78-798e-42ea-fee8-dc53647d1a50"
      },
      "source": [
        "for epoch in range(1, EPOCHS + 1):\n",
        "    train(model, train_loader, optimizer, log_interval = 200)\n",
        "    test_loss, test_accuracy = evaluate(model, test_loader)\n",
        "    print(\"\\n[EPOCH: {}], \\tTest Loss: {:.4f}, \\tTest Accuracy: {:.2f} % \\n\".format(\n",
        "        epoch, test_loss, test_accuracy))"
      ],
      "execution_count": null,
      "outputs": [
        {
          "output_type": "stream",
          "name": "stderr",
          "text": [
            "/usr/local/lib/python3.7/dist-packages/torch/nn/functional.py:1805: UserWarning: nn.functional.sigmoid is deprecated. Use torch.sigmoid instead.\n",
            "  warnings.warn(\"nn.functional.sigmoid is deprecated. Use torch.sigmoid instead.\")\n"
          ]
        },
        {
          "output_type": "stream",
          "name": "stdout",
          "text": [
            "Train Epoch: 1 [0/60000 (0%)]\tTrain Loss: 2.367265\n",
            "Train Epoch: 1 [6400/60000 (11%)]\tTrain Loss: 2.291527\n",
            "Train Epoch: 1 [12800/60000 (21%)]\tTrain Loss: 2.408723\n",
            "Train Epoch: 1 [19200/60000 (32%)]\tTrain Loss: 2.359298\n",
            "Train Epoch: 1 [25600/60000 (43%)]\tTrain Loss: 2.336603\n"
          ]
        },
        {
          "output_type": "error",
          "ename": "KeyboardInterrupt",
          "evalue": "ignored",
          "traceback": [
            "\u001b[0;31m---------------------------------------------------------------------------\u001b[0m",
            "\u001b[0;31mKeyboardInterrupt\u001b[0m                         Traceback (most recent call last)",
            "\u001b[0;32m<ipython-input-29-885091b067da>\u001b[0m in \u001b[0;36m<module>\u001b[0;34m()\u001b[0m\n\u001b[1;32m      1\u001b[0m \u001b[0;32mfor\u001b[0m \u001b[0mepoch\u001b[0m \u001b[0;32min\u001b[0m \u001b[0mrange\u001b[0m\u001b[0;34m(\u001b[0m\u001b[0;36m1\u001b[0m\u001b[0;34m,\u001b[0m \u001b[0mEPOCHS\u001b[0m \u001b[0;34m+\u001b[0m \u001b[0;36m1\u001b[0m\u001b[0;34m)\u001b[0m\u001b[0;34m:\u001b[0m\u001b[0;34m\u001b[0m\u001b[0;34m\u001b[0m\u001b[0m\n\u001b[0;32m----> 2\u001b[0;31m     \u001b[0mtrain\u001b[0m\u001b[0;34m(\u001b[0m\u001b[0mmodel\u001b[0m\u001b[0;34m,\u001b[0m \u001b[0mtrain_loader\u001b[0m\u001b[0;34m,\u001b[0m \u001b[0moptimizer\u001b[0m\u001b[0;34m,\u001b[0m \u001b[0mlog_interval\u001b[0m \u001b[0;34m=\u001b[0m \u001b[0;36m200\u001b[0m\u001b[0;34m)\u001b[0m\u001b[0;34m\u001b[0m\u001b[0;34m\u001b[0m\u001b[0m\n\u001b[0m\u001b[1;32m      3\u001b[0m     \u001b[0mtest_loss\u001b[0m\u001b[0;34m,\u001b[0m \u001b[0mtest_accuracy\u001b[0m \u001b[0;34m=\u001b[0m \u001b[0mevaluate\u001b[0m\u001b[0;34m(\u001b[0m\u001b[0mmodel\u001b[0m\u001b[0;34m,\u001b[0m \u001b[0mtest_loader\u001b[0m\u001b[0;34m)\u001b[0m\u001b[0;34m\u001b[0m\u001b[0;34m\u001b[0m\u001b[0m\n\u001b[1;32m      4\u001b[0m     print(\"\\n[EPOCH: {}], \\tTest Loss: {:.4f}, \\tTest Accuracy: {:.2f} % \\n\".format(\n\u001b[1;32m      5\u001b[0m         epoch, test_loss, test_accuracy))\n",
            "\u001b[0;32m<ipython-input-22-be98d565d6de>\u001b[0m in \u001b[0;36mtrain\u001b[0;34m(model, train_loader, optimizer, log_interval)\u001b[0m\n\u001b[1;32m      7\u001b[0m         \u001b[0moutput\u001b[0m \u001b[0;34m=\u001b[0m \u001b[0mmodel\u001b[0m\u001b[0;34m(\u001b[0m\u001b[0mimage\u001b[0m\u001b[0;34m)\u001b[0m\u001b[0;34m\u001b[0m\u001b[0;34m\u001b[0m\u001b[0m\n\u001b[1;32m      8\u001b[0m         \u001b[0mloss\u001b[0m \u001b[0;34m=\u001b[0m \u001b[0mcriterion\u001b[0m\u001b[0;34m(\u001b[0m\u001b[0moutput\u001b[0m\u001b[0;34m,\u001b[0m \u001b[0mlabel\u001b[0m\u001b[0;34m)\u001b[0m\u001b[0;34m\u001b[0m\u001b[0;34m\u001b[0m\u001b[0m\n\u001b[0;32m----> 9\u001b[0;31m         \u001b[0mloss\u001b[0m\u001b[0;34m.\u001b[0m\u001b[0mbackward\u001b[0m\u001b[0;34m(\u001b[0m\u001b[0;34m)\u001b[0m\u001b[0;34m\u001b[0m\u001b[0;34m\u001b[0m\u001b[0m\n\u001b[0m\u001b[1;32m     10\u001b[0m         \u001b[0moptimizer\u001b[0m\u001b[0;34m.\u001b[0m\u001b[0mstep\u001b[0m\u001b[0;34m(\u001b[0m\u001b[0;34m)\u001b[0m\u001b[0;34m\u001b[0m\u001b[0;34m\u001b[0m\u001b[0m\n\u001b[1;32m     11\u001b[0m \u001b[0;34m\u001b[0m\u001b[0m\n",
            "\u001b[0;32m/usr/local/lib/python3.7/dist-packages/torch/_tensor.py\u001b[0m in \u001b[0;36mbackward\u001b[0;34m(self, gradient, retain_graph, create_graph, inputs)\u001b[0m\n\u001b[1;32m    253\u001b[0m                 \u001b[0mcreate_graph\u001b[0m\u001b[0;34m=\u001b[0m\u001b[0mcreate_graph\u001b[0m\u001b[0;34m,\u001b[0m\u001b[0;34m\u001b[0m\u001b[0;34m\u001b[0m\u001b[0m\n\u001b[1;32m    254\u001b[0m                 inputs=inputs)\n\u001b[0;32m--> 255\u001b[0;31m         \u001b[0mtorch\u001b[0m\u001b[0;34m.\u001b[0m\u001b[0mautograd\u001b[0m\u001b[0;34m.\u001b[0m\u001b[0mbackward\u001b[0m\u001b[0;34m(\u001b[0m\u001b[0mself\u001b[0m\u001b[0;34m,\u001b[0m \u001b[0mgradient\u001b[0m\u001b[0;34m,\u001b[0m \u001b[0mretain_graph\u001b[0m\u001b[0;34m,\u001b[0m \u001b[0mcreate_graph\u001b[0m\u001b[0;34m,\u001b[0m \u001b[0minputs\u001b[0m\u001b[0;34m=\u001b[0m\u001b[0minputs\u001b[0m\u001b[0;34m)\u001b[0m\u001b[0;34m\u001b[0m\u001b[0;34m\u001b[0m\u001b[0m\n\u001b[0m\u001b[1;32m    256\u001b[0m \u001b[0;34m\u001b[0m\u001b[0m\n\u001b[1;32m    257\u001b[0m     \u001b[0;32mdef\u001b[0m \u001b[0mregister_hook\u001b[0m\u001b[0;34m(\u001b[0m\u001b[0mself\u001b[0m\u001b[0;34m,\u001b[0m \u001b[0mhook\u001b[0m\u001b[0;34m)\u001b[0m\u001b[0;34m:\u001b[0m\u001b[0;34m\u001b[0m\u001b[0;34m\u001b[0m\u001b[0m\n",
            "\u001b[0;32m/usr/local/lib/python3.7/dist-packages/torch/autograd/__init__.py\u001b[0m in \u001b[0;36mbackward\u001b[0;34m(tensors, grad_tensors, retain_graph, create_graph, grad_variables, inputs)\u001b[0m\n\u001b[1;32m    147\u001b[0m     Variable._execution_engine.run_backward(\n\u001b[1;32m    148\u001b[0m         \u001b[0mtensors\u001b[0m\u001b[0;34m,\u001b[0m \u001b[0mgrad_tensors_\u001b[0m\u001b[0;34m,\u001b[0m \u001b[0mretain_graph\u001b[0m\u001b[0;34m,\u001b[0m \u001b[0mcreate_graph\u001b[0m\u001b[0;34m,\u001b[0m \u001b[0minputs\u001b[0m\u001b[0;34m,\u001b[0m\u001b[0;34m\u001b[0m\u001b[0;34m\u001b[0m\u001b[0m\n\u001b[0;32m--> 149\u001b[0;31m         allow_unreachable=True, accumulate_grad=True)  # allow_unreachable flag\n\u001b[0m\u001b[1;32m    150\u001b[0m \u001b[0;34m\u001b[0m\u001b[0m\n\u001b[1;32m    151\u001b[0m \u001b[0;34m\u001b[0m\u001b[0m\n",
            "\u001b[0;31mKeyboardInterrupt\u001b[0m: "
          ]
        }
      ]
    },
    {
      "cell_type": "markdown",
      "metadata": {
        "id": "3Gr_xecX2EjH"
      },
      "source": [
        "##MNIST_MLAP with Dropout+ReLU"
      ]
    },
    {
      "cell_type": "markdown",
      "metadata": {
        "id": "HJXd4CPi2T3q"
      },
      "source": [
        "Model with Dropout + ReLU"
      ]
    },
    {
      "cell_type": "code",
      "metadata": {
        "id": "-TIZEzv62XGP"
      },
      "source": [
        "class Net(nn.Module):\n",
        "    def __init__(self):\n",
        "        super(Net, self).__init__()\n",
        "        self.fc1 = nn.Linear(28 * 28, 512)\n",
        "        self.fc2 = nn.Linear(512, 256)\n",
        "        self.fc3 = nn.Linear(256, 10)\n",
        "        #fc1,fc2, fc3....많아지면 overfiting 위험 (많다고 좋지 않음)\n",
        "        self.dropout_prob = 0.5\n",
        "\n",
        "    def forward(self, x):\n",
        "        x = x.view(-1, 28 * 28)\n",
        "        x = self.fc1(x)\n",
        "        x = F.relu(x)   ###\n",
        "        x = F.dropout(x, training = self.training, p = self.dropout_prob)   #\n",
        "        x = self.fc2(x)\n",
        "        x = F.relu(x)   ###\n",
        "        x = F.dropout(x, training = self.training, p = self.dropout_prob)   #\n",
        "        x = self.fc3(x)\n",
        "        x = F.log_softmax(x, dim = 1)\n",
        "        return x"
      ],
      "execution_count": null,
      "outputs": []
    },
    {
      "cell_type": "markdown",
      "metadata": {
        "id": "TrJmAEon4k6m"
      },
      "source": [
        "Optimizer, Objective Function"
      ]
    },
    {
      "cell_type": "code",
      "metadata": {
        "colab": {
          "base_uri": "https://localhost:8080/"
        },
        "id": "Q0FYANBh4k6m",
        "outputId": "20756469-1052-4c71-a0d7-09a6fd023f96"
      },
      "source": [
        "model = Net().to(DEVICE)\n",
        "optimizer = torch.optim.SGD(model.parameters(), lr = 0.01, momentum = 0.5)\n",
        "criterion = nn.CrossEntropyLoss()\n",
        "\n",
        "print(model)"
      ],
      "execution_count": null,
      "outputs": [
        {
          "output_type": "stream",
          "name": "stdout",
          "text": [
            "Net(\n",
            "  (fc1): Linear(in_features=784, out_features=512, bias=True)\n",
            "  (fc2): Linear(in_features=512, out_features=256, bias=True)\n",
            "  (fc3): Linear(in_features=256, out_features=10, bias=True)\n",
            ")\n"
          ]
        }
      ]
    },
    {
      "cell_type": "code",
      "metadata": {
        "colab": {
          "base_uri": "https://localhost:8080/"
        },
        "id": "eY5er9niZ0QG",
        "outputId": "4fadfa15-a436-4bec-f742-9c602fd8b39c"
      },
      "source": [
        "Net()\n"
      ],
      "execution_count": null,
      "outputs": [
        {
          "output_type": "execute_result",
          "data": {
            "text/plain": [
              "Net(\n",
              "  (fc1): Linear(in_features=784, out_features=512, bias=True)\n",
              "  (fc2): Linear(in_features=512, out_features=256, bias=True)\n",
              "  (fc3): Linear(in_features=256, out_features=10, bias=True)\n",
              ")"
            ]
          },
          "metadata": {},
          "execution_count": 42
        }
      ]
    },
    {
      "cell_type": "markdown",
      "metadata": {
        "id": "WkidqTkH2kIC"
      },
      "source": [
        "Run"
      ]
    },
    {
      "cell_type": "code",
      "metadata": {
        "colab": {
          "base_uri": "https://localhost:8080/",
          "height": 444
        },
        "id": "dw20kOhx2lDt",
        "outputId": "34d3368b-a3a2-40ca-af04-35b81fb8150d"
      },
      "source": [
        "for epoch in range(1, EPOCHS + 1):\n",
        "    train(model, train_loader, optimizer, log_interval = 200)\n",
        "    test_loss, test_accuracy = evaluate(model, test_loader)\n",
        "    print(\"\\n[EPOCH: {}], \\tTest Loss: {:.4f}, \\tTest Accuracy: {:.2f} % \\n\".format(\n",
        "        epoch, test_loss, test_accuracy))"
      ],
      "execution_count": null,
      "outputs": [
        {
          "output_type": "stream",
          "name": "stdout",
          "text": [
            "Train Epoch: 1 [0/60000 (0%)]\tTrain Loss: 2.301474\n",
            "Train Epoch: 1 [6400/60000 (11%)]\tTrain Loss: 2.103349\n",
            "Train Epoch: 1 [12800/60000 (21%)]\tTrain Loss: 1.156636\n"
          ]
        },
        {
          "output_type": "error",
          "ename": "KeyboardInterrupt",
          "evalue": "ignored",
          "traceback": [
            "\u001b[0;31m---------------------------------------------------------------------------\u001b[0m",
            "\u001b[0;31mKeyboardInterrupt\u001b[0m                         Traceback (most recent call last)",
            "\u001b[0;32m<ipython-input-16-885091b067da>\u001b[0m in \u001b[0;36m<module>\u001b[0;34m()\u001b[0m\n\u001b[1;32m      1\u001b[0m \u001b[0;32mfor\u001b[0m \u001b[0mepoch\u001b[0m \u001b[0;32min\u001b[0m \u001b[0mrange\u001b[0m\u001b[0;34m(\u001b[0m\u001b[0;36m1\u001b[0m\u001b[0;34m,\u001b[0m \u001b[0mEPOCHS\u001b[0m \u001b[0;34m+\u001b[0m \u001b[0;36m1\u001b[0m\u001b[0;34m)\u001b[0m\u001b[0;34m:\u001b[0m\u001b[0;34m\u001b[0m\u001b[0;34m\u001b[0m\u001b[0m\n\u001b[0;32m----> 2\u001b[0;31m     \u001b[0mtrain\u001b[0m\u001b[0;34m(\u001b[0m\u001b[0mmodel\u001b[0m\u001b[0;34m,\u001b[0m \u001b[0mtrain_loader\u001b[0m\u001b[0;34m,\u001b[0m \u001b[0moptimizer\u001b[0m\u001b[0;34m,\u001b[0m \u001b[0mlog_interval\u001b[0m \u001b[0;34m=\u001b[0m \u001b[0;36m200\u001b[0m\u001b[0;34m)\u001b[0m\u001b[0;34m\u001b[0m\u001b[0;34m\u001b[0m\u001b[0m\n\u001b[0m\u001b[1;32m      3\u001b[0m     \u001b[0mtest_loss\u001b[0m\u001b[0;34m,\u001b[0m \u001b[0mtest_accuracy\u001b[0m \u001b[0;34m=\u001b[0m \u001b[0mevaluate\u001b[0m\u001b[0;34m(\u001b[0m\u001b[0mmodel\u001b[0m\u001b[0;34m,\u001b[0m \u001b[0mtest_loader\u001b[0m\u001b[0;34m)\u001b[0m\u001b[0;34m\u001b[0m\u001b[0;34m\u001b[0m\u001b[0m\n\u001b[1;32m      4\u001b[0m     print(\"\\n[EPOCH: {}], \\tTest Loss: {:.4f}, \\tTest Accuracy: {:.2f} % \\n\".format(\n\u001b[1;32m      5\u001b[0m         epoch, test_loss, test_accuracy))\n",
            "\u001b[0;32m<ipython-input-12-be98d565d6de>\u001b[0m in \u001b[0;36mtrain\u001b[0;34m(model, train_loader, optimizer, log_interval)\u001b[0m\n\u001b[1;32m      8\u001b[0m         \u001b[0mloss\u001b[0m \u001b[0;34m=\u001b[0m \u001b[0mcriterion\u001b[0m\u001b[0;34m(\u001b[0m\u001b[0moutput\u001b[0m\u001b[0;34m,\u001b[0m \u001b[0mlabel\u001b[0m\u001b[0;34m)\u001b[0m\u001b[0;34m\u001b[0m\u001b[0;34m\u001b[0m\u001b[0m\n\u001b[1;32m      9\u001b[0m         \u001b[0mloss\u001b[0m\u001b[0;34m.\u001b[0m\u001b[0mbackward\u001b[0m\u001b[0;34m(\u001b[0m\u001b[0;34m)\u001b[0m\u001b[0;34m\u001b[0m\u001b[0;34m\u001b[0m\u001b[0m\n\u001b[0;32m---> 10\u001b[0;31m         \u001b[0moptimizer\u001b[0m\u001b[0;34m.\u001b[0m\u001b[0mstep\u001b[0m\u001b[0;34m(\u001b[0m\u001b[0;34m)\u001b[0m\u001b[0;34m\u001b[0m\u001b[0;34m\u001b[0m\u001b[0m\n\u001b[0m\u001b[1;32m     11\u001b[0m \u001b[0;34m\u001b[0m\u001b[0m\n\u001b[1;32m     12\u001b[0m         \u001b[0;32mif\u001b[0m \u001b[0mbatch_idx\u001b[0m \u001b[0;34m%\u001b[0m \u001b[0mlog_interval\u001b[0m \u001b[0;34m==\u001b[0m \u001b[0;36m0\u001b[0m\u001b[0;34m:\u001b[0m\u001b[0;34m\u001b[0m\u001b[0;34m\u001b[0m\u001b[0m\n",
            "\u001b[0;32m/usr/local/lib/python3.7/dist-packages/torch/optim/optimizer.py\u001b[0m in \u001b[0;36mwrapper\u001b[0;34m(*args, **kwargs)\u001b[0m\n\u001b[1;32m     85\u001b[0m                 \u001b[0mobj\u001b[0m\u001b[0;34m,\u001b[0m \u001b[0;34m*\u001b[0m\u001b[0m_\u001b[0m \u001b[0;34m=\u001b[0m \u001b[0margs\u001b[0m\u001b[0;34m\u001b[0m\u001b[0;34m\u001b[0m\u001b[0m\n\u001b[1;32m     86\u001b[0m                 \u001b[0mprofile_name\u001b[0m \u001b[0;34m=\u001b[0m \u001b[0;34m\"Optimizer.step#{}.step\"\u001b[0m\u001b[0;34m.\u001b[0m\u001b[0mformat\u001b[0m\u001b[0;34m(\u001b[0m\u001b[0mobj\u001b[0m\u001b[0;34m.\u001b[0m\u001b[0m__class__\u001b[0m\u001b[0;34m.\u001b[0m\u001b[0m__name__\u001b[0m\u001b[0;34m)\u001b[0m\u001b[0;34m\u001b[0m\u001b[0;34m\u001b[0m\u001b[0m\n\u001b[0;32m---> 87\u001b[0;31m                 \u001b[0;32mwith\u001b[0m \u001b[0mtorch\u001b[0m\u001b[0;34m.\u001b[0m\u001b[0mautograd\u001b[0m\u001b[0;34m.\u001b[0m\u001b[0mprofiler\u001b[0m\u001b[0;34m.\u001b[0m\u001b[0mrecord_function\u001b[0m\u001b[0;34m(\u001b[0m\u001b[0mprofile_name\u001b[0m\u001b[0;34m)\u001b[0m\u001b[0;34m:\u001b[0m\u001b[0;34m\u001b[0m\u001b[0;34m\u001b[0m\u001b[0m\n\u001b[0m\u001b[1;32m     88\u001b[0m                     \u001b[0;32mreturn\u001b[0m \u001b[0mfunc\u001b[0m\u001b[0;34m(\u001b[0m\u001b[0;34m*\u001b[0m\u001b[0margs\u001b[0m\u001b[0;34m,\u001b[0m \u001b[0;34m**\u001b[0m\u001b[0mkwargs\u001b[0m\u001b[0;34m)\u001b[0m\u001b[0;34m\u001b[0m\u001b[0;34m\u001b[0m\u001b[0m\n\u001b[1;32m     89\u001b[0m             \u001b[0;32mreturn\u001b[0m \u001b[0mwrapper\u001b[0m\u001b[0;34m\u001b[0m\u001b[0;34m\u001b[0m\u001b[0m\n",
            "\u001b[0;31mKeyboardInterrupt\u001b[0m: "
          ]
        }
      ]
    },
    {
      "cell_type": "markdown",
      "metadata": {
        "id": "01QvutXp5gj0"
      },
      "source": [
        ""
      ]
    },
    {
      "cell_type": "markdown",
      "metadata": {
        "id": "9yVVbAHs5hEz"
      },
      "source": [
        "##MNIST_MLAP with Dropout+ReLU+BN"
      ]
    },
    {
      "cell_type": "markdown",
      "metadata": {
        "id": "QVx5-fyx5hE0"
      },
      "source": [
        "Model with Dropout + ReLU + BN\n"
      ]
    },
    {
      "cell_type": "code",
      "metadata": {
        "id": "lBzCf4Kz5hE0"
      },
      "source": [
        "class Net(nn.Module):               #의미하는거 다 알아야함\n",
        "    def __init__(self):\n",
        "        super(Net, self).__init__()\n",
        "        self.fc1 = nn.Linear(28 * 28, 512)\n",
        "        self.fc2 = nn.Linear(512, 256)\n",
        "        self.fc3 = nn.Linear(256, 10)\n",
        "        self.dropout_prob = 0.5\n",
        "        self.batch_norm1 = nn.BatchNorm1d(512)  ###\n",
        "        self.batch_norm2 = nn.BatchNorm1d(256)  ###\n",
        "\n",
        "    def forward(self, x):\n",
        "        x = x.view(-1, 28 * 28)\n",
        "        x = self.fc1(x)\n",
        "        x = self.batch_norm1(x)                 ###\n",
        "        x = F.relu(x)\n",
        "        x = F.dropout(x, training = self.training, p = self.dropout_prob)   #\n",
        "        x = self.fc2(x)\n",
        "        x = self.batch_norm2(x)                 ###\n",
        "        x = F.relu(x)\n",
        "        x = F.dropout(x, training = self.training, p = self.dropout_prob)   #\n",
        "        x = self.fc3(x)\n",
        "        x = F.log_softmax(x, dim = 1)\n",
        "        return x"
      ],
      "execution_count": null,
      "outputs": []
    },
    {
      "cell_type": "markdown",
      "metadata": {
        "id": "mPFzK54V54RD"
      },
      "source": [
        "Optimizer, Objective Function"
      ]
    },
    {
      "cell_type": "code",
      "metadata": {
        "colab": {
          "base_uri": "https://localhost:8080/"
        },
        "id": "KGY1STD354RD",
        "outputId": "31eb8ef0-0ca2-4949-ecb1-6e6df77fa6c9"
      },
      "source": [
        "model = Net().to(DEVICE)\n",
        "optimizer = torch.optim.SGD(model.parameters(), lr = 0.01, momentum = 0.5)\n",
        "criterion = nn.CrossEntropyLoss()               #CrossEntropyLoss()랑 softmax랑 세트?\n",
        "\n",
        "print(model)"
      ],
      "execution_count": null,
      "outputs": [
        {
          "output_type": "stream",
          "name": "stdout",
          "text": [
            "Net(\n",
            "  (fc1): Linear(in_features=784, out_features=512, bias=True)\n",
            "  (fc2): Linear(in_features=512, out_features=256, bias=True)\n",
            "  (fc3): Linear(in_features=256, out_features=10, bias=True)\n",
            "  (batch_norm1): BatchNorm1d(512, eps=1e-05, momentum=0.1, affine=True, track_running_stats=True)\n",
            "  (batch_norm2): BatchNorm1d(256, eps=1e-05, momentum=0.1, affine=True, track_running_stats=True)\n",
            ")\n"
          ]
        }
      ]
    },
    {
      "cell_type": "markdown",
      "metadata": {
        "id": "2eUeD5EG54RE"
      },
      "source": [
        "Run"
      ]
    },
    {
      "cell_type": "code",
      "metadata": {
        "colab": {
          "base_uri": "https://localhost:8080/"
        },
        "id": "KB4f8o6C54RE",
        "outputId": "5f5b83d1-d682-41d7-9958-1df35095cd92"
      },
      "source": [
        "# Q.loss랑 accuracy가 의미하는것  #loss랑 accuracy의 관계가 무조건 비례하는건 아님 \n",
        "\n",
        "for epoch in range(1, EPOCHS + 1):\n",
        "    train(model, train_loader, optimizer, log_interval = 200)\n",
        "    test_loss, test_accuracy = evaluate(model, test_loader)         #loss를 잘 설정해야함\n",
        "    print(\"\\n[EPOCH: {}], \\tTest Loss: {:.4f}, \\tTest Accuracy: {:.2f} % \\n\".format(\n",
        "        epoch, test_loss, test_accuracy))"
      ],
      "execution_count": null,
      "outputs": [
        {
          "output_type": "stream",
          "name": "stdout",
          "text": [
            "Train Epoch: 1 [0/60000 (0%)]\tTrain Loss: 2.394315\n",
            "Train Epoch: 1 [6400/60000 (11%)]\tTrain Loss: 0.923454\n",
            "Train Epoch: 1 [12800/60000 (21%)]\tTrain Loss: 0.343373\n",
            "Train Epoch: 1 [19200/60000 (32%)]\tTrain Loss: 0.283908\n",
            "Train Epoch: 1 [25600/60000 (43%)]\tTrain Loss: 0.313150\n",
            "Train Epoch: 1 [32000/60000 (53%)]\tTrain Loss: 0.542978\n",
            "Train Epoch: 1 [38400/60000 (64%)]\tTrain Loss: 0.287622\n",
            "Train Epoch: 1 [44800/60000 (75%)]\tTrain Loss: 0.387177\n",
            "Train Epoch: 1 [51200/60000 (85%)]\tTrain Loss: 0.217328\n",
            "Train Epoch: 1 [57600/60000 (96%)]\tTrain Loss: 0.683763\n",
            "\n",
            "[EPOCH: 1], \tTest Loss: 0.1587, \tTest Accuracy: 95.27 % \n",
            "\n",
            "Train Epoch: 2 [0/60000 (0%)]\tTrain Loss: 0.190471\n",
            "Train Epoch: 2 [6400/60000 (11%)]\tTrain Loss: 0.269483\n",
            "Train Epoch: 2 [12800/60000 (21%)]\tTrain Loss: 0.113377\n",
            "Train Epoch: 2 [19200/60000 (32%)]\tTrain Loss: 0.356315\n",
            "Train Epoch: 2 [25600/60000 (43%)]\tTrain Loss: 0.282527\n",
            "Train Epoch: 2 [32000/60000 (53%)]\tTrain Loss: 0.271394\n",
            "Train Epoch: 2 [38400/60000 (64%)]\tTrain Loss: 0.310247\n",
            "Train Epoch: 2 [44800/60000 (75%)]\tTrain Loss: 0.251490\n",
            "Train Epoch: 2 [51200/60000 (85%)]\tTrain Loss: 0.053297\n",
            "Train Epoch: 2 [57600/60000 (96%)]\tTrain Loss: 0.251909\n",
            "\n",
            "[EPOCH: 2], \tTest Loss: 0.1178, \tTest Accuracy: 96.51 % \n",
            "\n",
            "Train Epoch: 3 [0/60000 (0%)]\tTrain Loss: 0.161087\n",
            "Train Epoch: 3 [6400/60000 (11%)]\tTrain Loss: 0.089050\n",
            "Train Epoch: 3 [12800/60000 (21%)]\tTrain Loss: 0.141325\n",
            "Train Epoch: 3 [19200/60000 (32%)]\tTrain Loss: 0.365081\n",
            "Train Epoch: 3 [25600/60000 (43%)]\tTrain Loss: 0.286097\n",
            "Train Epoch: 3 [32000/60000 (53%)]\tTrain Loss: 0.133789\n",
            "Train Epoch: 3 [38400/60000 (64%)]\tTrain Loss: 0.319231\n",
            "Train Epoch: 3 [44800/60000 (75%)]\tTrain Loss: 0.347333\n",
            "Train Epoch: 3 [51200/60000 (85%)]\tTrain Loss: 0.127698\n",
            "Train Epoch: 3 [57600/60000 (96%)]\tTrain Loss: 0.315747\n",
            "\n",
            "[EPOCH: 3], \tTest Loss: 0.1011, \tTest Accuracy: 96.87 % \n",
            "\n",
            "Train Epoch: 4 [0/60000 (0%)]\tTrain Loss: 0.249811\n",
            "Train Epoch: 4 [6400/60000 (11%)]\tTrain Loss: 0.205493\n",
            "Train Epoch: 4 [12800/60000 (21%)]\tTrain Loss: 0.296572\n",
            "Train Epoch: 4 [19200/60000 (32%)]\tTrain Loss: 0.088165\n",
            "Train Epoch: 4 [25600/60000 (43%)]\tTrain Loss: 0.112003\n",
            "Train Epoch: 4 [32000/60000 (53%)]\tTrain Loss: 0.139796\n",
            "Train Epoch: 4 [38400/60000 (64%)]\tTrain Loss: 0.193270\n",
            "Train Epoch: 4 [44800/60000 (75%)]\tTrain Loss: 0.212111\n",
            "Train Epoch: 4 [51200/60000 (85%)]\tTrain Loss: 0.142332\n",
            "Train Epoch: 4 [57600/60000 (96%)]\tTrain Loss: 0.035526\n",
            "\n",
            "[EPOCH: 4], \tTest Loss: 0.0921, \tTest Accuracy: 97.14 % \n",
            "\n",
            "Train Epoch: 5 [0/60000 (0%)]\tTrain Loss: 0.088254\n",
            "Train Epoch: 5 [6400/60000 (11%)]\tTrain Loss: 0.244355\n",
            "Train Epoch: 5 [12800/60000 (21%)]\tTrain Loss: 0.124671\n",
            "Train Epoch: 5 [19200/60000 (32%)]\tTrain Loss: 0.132516\n",
            "Train Epoch: 5 [25600/60000 (43%)]\tTrain Loss: 0.080819\n",
            "Train Epoch: 5 [32000/60000 (53%)]\tTrain Loss: 0.088911\n",
            "Train Epoch: 5 [38400/60000 (64%)]\tTrain Loss: 0.176849\n",
            "Train Epoch: 5 [44800/60000 (75%)]\tTrain Loss: 0.163502\n",
            "Train Epoch: 5 [51200/60000 (85%)]\tTrain Loss: 0.106268\n",
            "Train Epoch: 5 [57600/60000 (96%)]\tTrain Loss: 0.065739\n",
            "\n",
            "[EPOCH: 5], \tTest Loss: 0.0804, \tTest Accuracy: 97.58 % \n",
            "\n",
            "Train Epoch: 6 [0/60000 (0%)]\tTrain Loss: 0.199959\n",
            "Train Epoch: 6 [6400/60000 (11%)]\tTrain Loss: 0.157631\n",
            "Train Epoch: 6 [12800/60000 (21%)]\tTrain Loss: 0.253076\n",
            "Train Epoch: 6 [19200/60000 (32%)]\tTrain Loss: 0.325649\n",
            "Train Epoch: 6 [25600/60000 (43%)]\tTrain Loss: 0.426564\n",
            "Train Epoch: 6 [32000/60000 (53%)]\tTrain Loss: 0.031442\n",
            "Train Epoch: 6 [38400/60000 (64%)]\tTrain Loss: 0.203729\n",
            "Train Epoch: 6 [44800/60000 (75%)]\tTrain Loss: 0.067059\n",
            "Train Epoch: 6 [51200/60000 (85%)]\tTrain Loss: 0.057096\n",
            "Train Epoch: 6 [57600/60000 (96%)]\tTrain Loss: 0.142640\n",
            "\n",
            "[EPOCH: 6], \tTest Loss: 0.0784, \tTest Accuracy: 97.67 % \n",
            "\n",
            "Train Epoch: 7 [0/60000 (0%)]\tTrain Loss: 0.580121\n",
            "Train Epoch: 7 [6400/60000 (11%)]\tTrain Loss: 0.098625\n",
            "Train Epoch: 7 [12800/60000 (21%)]\tTrain Loss: 0.171192\n",
            "Train Epoch: 7 [19200/60000 (32%)]\tTrain Loss: 0.118165\n",
            "Train Epoch: 7 [25600/60000 (43%)]\tTrain Loss: 0.137081\n",
            "Train Epoch: 7 [32000/60000 (53%)]\tTrain Loss: 0.047394\n",
            "Train Epoch: 7 [38400/60000 (64%)]\tTrain Loss: 0.107408\n",
            "Train Epoch: 7 [44800/60000 (75%)]\tTrain Loss: 0.128904\n",
            "Train Epoch: 7 [51200/60000 (85%)]\tTrain Loss: 0.265818\n",
            "Train Epoch: 7 [57600/60000 (96%)]\tTrain Loss: 0.058513\n",
            "\n",
            "[EPOCH: 7], \tTest Loss: 0.0727, \tTest Accuracy: 97.67 % \n",
            "\n",
            "Train Epoch: 8 [0/60000 (0%)]\tTrain Loss: 0.053317\n",
            "Train Epoch: 8 [6400/60000 (11%)]\tTrain Loss: 0.141289\n",
            "Train Epoch: 8 [12800/60000 (21%)]\tTrain Loss: 0.313382\n",
            "Train Epoch: 8 [19200/60000 (32%)]\tTrain Loss: 0.283114\n",
            "Train Epoch: 8 [25600/60000 (43%)]\tTrain Loss: 0.085548\n",
            "Train Epoch: 8 [32000/60000 (53%)]\tTrain Loss: 0.016687\n",
            "Train Epoch: 8 [38400/60000 (64%)]\tTrain Loss: 0.060457\n",
            "Train Epoch: 8 [44800/60000 (75%)]\tTrain Loss: 0.287068\n",
            "Train Epoch: 8 [51200/60000 (85%)]\tTrain Loss: 0.012647\n",
            "Train Epoch: 8 [57600/60000 (96%)]\tTrain Loss: 0.202763\n",
            "\n",
            "[EPOCH: 8], \tTest Loss: 0.0689, \tTest Accuracy: 97.96 % \n",
            "\n",
            "Train Epoch: 9 [0/60000 (0%)]\tTrain Loss: 0.089959\n",
            "Train Epoch: 9 [6400/60000 (11%)]\tTrain Loss: 0.031421\n",
            "Train Epoch: 9 [12800/60000 (21%)]\tTrain Loss: 0.037712\n",
            "Train Epoch: 9 [19200/60000 (32%)]\tTrain Loss: 0.059224\n",
            "Train Epoch: 9 [25600/60000 (43%)]\tTrain Loss: 0.362421\n",
            "Train Epoch: 9 [32000/60000 (53%)]\tTrain Loss: 0.080859\n",
            "Train Epoch: 9 [38400/60000 (64%)]\tTrain Loss: 0.414701\n",
            "Train Epoch: 9 [44800/60000 (75%)]\tTrain Loss: 0.033025\n",
            "Train Epoch: 9 [51200/60000 (85%)]\tTrain Loss: 0.163945\n",
            "Train Epoch: 9 [57600/60000 (96%)]\tTrain Loss: 0.087579\n",
            "\n",
            "[EPOCH: 9], \tTest Loss: 0.0673, \tTest Accuracy: 97.93 % \n",
            "\n",
            "Train Epoch: 10 [0/60000 (0%)]\tTrain Loss: 0.038622\n",
            "Train Epoch: 10 [6400/60000 (11%)]\tTrain Loss: 0.115566\n",
            "Train Epoch: 10 [12800/60000 (21%)]\tTrain Loss: 0.094859\n",
            "Train Epoch: 10 [19200/60000 (32%)]\tTrain Loss: 0.037291\n",
            "Train Epoch: 10 [25600/60000 (43%)]\tTrain Loss: 0.040097\n",
            "Train Epoch: 10 [32000/60000 (53%)]\tTrain Loss: 0.179829\n",
            "Train Epoch: 10 [38400/60000 (64%)]\tTrain Loss: 0.020716\n",
            "Train Epoch: 10 [44800/60000 (75%)]\tTrain Loss: 0.054899\n",
            "Train Epoch: 10 [51200/60000 (85%)]\tTrain Loss: 0.249844\n",
            "Train Epoch: 10 [57600/60000 (96%)]\tTrain Loss: 0.193967\n",
            "\n",
            "[EPOCH: 10], \tTest Loss: 0.0642, \tTest Accuracy: 98.10 % \n",
            "\n"
          ]
        }
      ]
    },
    {
      "cell_type": "markdown",
      "metadata": {
        "id": "N6-7vs7J6OXC"
      },
      "source": [
        "##MNIST_MLAP with Dropout+ReLU+BN+He"
      ]
    },
    {
      "cell_type": "markdown",
      "metadata": {
        "id": "2zVTiHjj6OXC"
      },
      "source": [
        "Model with Dropout + ReLU + BN\n"
      ]
    },
    {
      "cell_type": "code",
      "metadata": {
        "id": "B8QiVMdr6OXD"
      },
      "source": [
        "class Net(nn.Module):\n",
        "    def __init__(self):\n",
        "        super(Net, self).__init__()\n",
        "        self.fc1 = nn.Linear(28 * 28, 512)\n",
        "        self.fc2 = nn.Linear(512, 256)\n",
        "        self.fc3 = nn.Linear(256, 10)\n",
        "        self.dropout_prob = 0.5\n",
        "        self.batch_norm1 = nn.BatchNorm1d(512)   #\n",
        "        self.batch_norm2 = nn.BatchNorm1d(256)   #\n",
        "\n",
        "    def forward(self, x):\n",
        "        x = x.view(-1, 28 * 28)\n",
        "        x = self.fc1(x)\n",
        "        x = self.batch_norm1(x)            #     \n",
        "        x = F.relu(x)\n",
        "        x = F.dropout(x, training = self.training, p = self.dropout_prob)     #\n",
        "        x = self.fc2(x)\n",
        "        x = self.batch_norm2(x)           #\n",
        "        x = F.relu(x)\n",
        "        x = F.dropout(x, training = self.training, p = self.dropout_prob)     #\n",
        "        x = self.fc3(x)\n",
        "        x = F.log_softmax(x, dim = 1)\n",
        "        return x"
      ],
      "execution_count": null,
      "outputs": []
    },
    {
      "cell_type": "markdown",
      "metadata": {
        "id": "sShbQM3G6OXD"
      },
      "source": [
        "Optimizer, Objective Function with He initialization"
      ]
    },
    {
      "cell_type": "code",
      "metadata": {
        "colab": {
          "base_uri": "https://localhost:8080/"
        },
        "id": "g-6I0cO26OXD",
        "outputId": "26efaec7-ca4e-4828-bb23-a0804410ec73"
      },
      "source": [
        "import torch.nn.init as init                    ######\n",
        "def weight_init(m):                             ######\n",
        "    if isinstance(m, nn.Linear):                ######\n",
        "        init.kaiming_uniform_(m.weight.data)    ######\n",
        "\n",
        "model = Net().to(DEVICE)\n",
        "model.apply(weight_init)                        ######\n",
        "optimizer = torch.optim.SGD(model.parameters(), lr = 0.01, momentum = 0.5)\n",
        "criterion = nn.CrossEntropyLoss()               #CrossEntropyLoss()랑 softmax랑 세트?\n",
        "\n",
        "print(model)"
      ],
      "execution_count": null,
      "outputs": [
        {
          "output_type": "stream",
          "name": "stdout",
          "text": [
            "Net(\n",
            "  (fc1): Linear(in_features=784, out_features=512, bias=True)\n",
            "  (fc2): Linear(in_features=512, out_features=256, bias=True)\n",
            "  (fc3): Linear(in_features=256, out_features=10, bias=True)\n",
            "  (batch_norm1): BatchNorm1d(512, eps=1e-05, momentum=0.1, affine=True, track_running_stats=True)\n",
            "  (batch_norm2): BatchNorm1d(256, eps=1e-05, momentum=0.1, affine=True, track_running_stats=True)\n",
            ")\n"
          ]
        }
      ]
    },
    {
      "cell_type": "markdown",
      "metadata": {
        "id": "8d9C-T-t6OXD"
      },
      "source": [
        "Run"
      ]
    },
    {
      "cell_type": "code",
      "metadata": {
        "colab": {
          "base_uri": "https://localhost:8080/",
          "height": 1000
        },
        "id": "8ERuJZF36OXD",
        "outputId": "be98f3fb-85e8-4298-ad8a-1f00a83990ff"
      },
      "source": [
        "for epoch in range(1, EPOCHS + 1):\n",
        "    train(model, train_loader, optimizer, log_interval = 200)\n",
        "    test_loss, test_accuracy = evaluate(model, test_loader)\n",
        "    print(\"\\n[EPOCH: {}], \\tTest Loss: {:.4f}, \\tTest Accuracy: {:.2f} % \\n\".format(\n",
        "        epoch, test_loss, test_accuracy))"
      ],
      "execution_count": null,
      "outputs": [
        {
          "output_type": "stream",
          "name": "stdout",
          "text": [
            "Train Epoch: 1 [0/60000 (0%)]\tTrain Loss: 3.568795\n",
            "Train Epoch: 1 [6400/60000 (11%)]\tTrain Loss: 1.122213\n",
            "Train Epoch: 1 [12800/60000 (21%)]\tTrain Loss: 0.756970\n",
            "Train Epoch: 1 [19200/60000 (32%)]\tTrain Loss: 0.598212\n",
            "Train Epoch: 1 [25600/60000 (43%)]\tTrain Loss: 0.655425\n",
            "Train Epoch: 1 [32000/60000 (53%)]\tTrain Loss: 0.650983\n",
            "Train Epoch: 1 [38400/60000 (64%)]\tTrain Loss: 0.208038\n",
            "Train Epoch: 1 [44800/60000 (75%)]\tTrain Loss: 0.296391\n",
            "Train Epoch: 1 [51200/60000 (85%)]\tTrain Loss: 0.355472\n",
            "Train Epoch: 1 [57600/60000 (96%)]\tTrain Loss: 0.375899\n",
            "\n",
            "[EPOCH: 1], \tTest Loss: 0.2208, \tTest Accuracy: 93.39 % \n",
            "\n",
            "Train Epoch: 2 [0/60000 (0%)]\tTrain Loss: 0.397414\n",
            "Train Epoch: 2 [6400/60000 (11%)]\tTrain Loss: 0.428338\n",
            "Train Epoch: 2 [12800/60000 (21%)]\tTrain Loss: 0.585598\n",
            "Train Epoch: 2 [19200/60000 (32%)]\tTrain Loss: 0.502462\n",
            "Train Epoch: 2 [25600/60000 (43%)]\tTrain Loss: 0.133595\n",
            "Train Epoch: 2 [32000/60000 (53%)]\tTrain Loss: 0.329559\n",
            "Train Epoch: 2 [38400/60000 (64%)]\tTrain Loss: 0.116753\n",
            "Train Epoch: 2 [44800/60000 (75%)]\tTrain Loss: 0.107937\n",
            "Train Epoch: 2 [51200/60000 (85%)]\tTrain Loss: 0.112386\n",
            "Train Epoch: 2 [57600/60000 (96%)]\tTrain Loss: 0.161332\n",
            "\n",
            "[EPOCH: 2], \tTest Loss: 0.1764, \tTest Accuracy: 94.68 % \n",
            "\n",
            "Train Epoch: 3 [0/60000 (0%)]\tTrain Loss: 0.554288\n",
            "Train Epoch: 3 [6400/60000 (11%)]\tTrain Loss: 0.691645\n",
            "Train Epoch: 3 [12800/60000 (21%)]\tTrain Loss: 0.358339\n",
            "Train Epoch: 3 [19200/60000 (32%)]\tTrain Loss: 0.252691\n",
            "Train Epoch: 3 [25600/60000 (43%)]\tTrain Loss: 0.386638\n",
            "Train Epoch: 3 [32000/60000 (53%)]\tTrain Loss: 0.355331\n",
            "Train Epoch: 3 [38400/60000 (64%)]\tTrain Loss: 0.430239\n",
            "Train Epoch: 3 [44800/60000 (75%)]\tTrain Loss: 0.196972\n",
            "Train Epoch: 3 [51200/60000 (85%)]\tTrain Loss: 0.351072\n",
            "Train Epoch: 3 [57600/60000 (96%)]\tTrain Loss: 0.466548\n",
            "\n",
            "[EPOCH: 3], \tTest Loss: 0.1480, \tTest Accuracy: 95.49 % \n",
            "\n",
            "Train Epoch: 4 [0/60000 (0%)]\tTrain Loss: 0.323898\n",
            "Train Epoch: 4 [6400/60000 (11%)]\tTrain Loss: 0.160541\n",
            "Train Epoch: 4 [12800/60000 (21%)]\tTrain Loss: 0.484908\n",
            "Train Epoch: 4 [19200/60000 (32%)]\tTrain Loss: 0.136712\n",
            "Train Epoch: 4 [25600/60000 (43%)]\tTrain Loss: 0.176090\n",
            "Train Epoch: 4 [32000/60000 (53%)]\tTrain Loss: 0.193992\n",
            "Train Epoch: 4 [38400/60000 (64%)]\tTrain Loss: 0.181916\n",
            "Train Epoch: 4 [44800/60000 (75%)]\tTrain Loss: 0.135210\n",
            "Train Epoch: 4 [51200/60000 (85%)]\tTrain Loss: 0.481420\n",
            "Train Epoch: 4 [57600/60000 (96%)]\tTrain Loss: 0.427157\n"
          ]
        },
        {
          "output_type": "error",
          "ename": "KeyboardInterrupt",
          "evalue": "ignored",
          "traceback": [
            "\u001b[0;31m---------------------------------------------------------------------------\u001b[0m",
            "\u001b[0;31mKeyboardInterrupt\u001b[0m                         Traceback (most recent call last)",
            "\u001b[0;32m<ipython-input-26-885091b067da>\u001b[0m in \u001b[0;36m<module>\u001b[0;34m()\u001b[0m\n\u001b[1;32m      1\u001b[0m \u001b[0;32mfor\u001b[0m \u001b[0mepoch\u001b[0m \u001b[0;32min\u001b[0m \u001b[0mrange\u001b[0m\u001b[0;34m(\u001b[0m\u001b[0;36m1\u001b[0m\u001b[0;34m,\u001b[0m \u001b[0mEPOCHS\u001b[0m \u001b[0;34m+\u001b[0m \u001b[0;36m1\u001b[0m\u001b[0;34m)\u001b[0m\u001b[0;34m:\u001b[0m\u001b[0;34m\u001b[0m\u001b[0;34m\u001b[0m\u001b[0m\n\u001b[1;32m      2\u001b[0m     \u001b[0mtrain\u001b[0m\u001b[0;34m(\u001b[0m\u001b[0mmodel\u001b[0m\u001b[0;34m,\u001b[0m \u001b[0mtrain_loader\u001b[0m\u001b[0;34m,\u001b[0m \u001b[0moptimizer\u001b[0m\u001b[0;34m,\u001b[0m \u001b[0mlog_interval\u001b[0m \u001b[0;34m=\u001b[0m \u001b[0;36m200\u001b[0m\u001b[0;34m)\u001b[0m\u001b[0;34m\u001b[0m\u001b[0;34m\u001b[0m\u001b[0m\n\u001b[0;32m----> 3\u001b[0;31m     \u001b[0mtest_loss\u001b[0m\u001b[0;34m,\u001b[0m \u001b[0mtest_accuracy\u001b[0m \u001b[0;34m=\u001b[0m \u001b[0mevaluate\u001b[0m\u001b[0;34m(\u001b[0m\u001b[0mmodel\u001b[0m\u001b[0;34m,\u001b[0m \u001b[0mtest_loader\u001b[0m\u001b[0;34m)\u001b[0m\u001b[0;34m\u001b[0m\u001b[0;34m\u001b[0m\u001b[0m\n\u001b[0m\u001b[1;32m      4\u001b[0m     print(\"\\n[EPOCH: {}], \\tTest Loss: {:.4f}, \\tTest Accuracy: {:.2f} % \\n\".format(\n\u001b[1;32m      5\u001b[0m         epoch, test_loss, test_accuracy))\n",
            "\u001b[0;32m<ipython-input-13-caebec7cc06d>\u001b[0m in \u001b[0;36mevaluate\u001b[0;34m(model, test_loader)\u001b[0m\n\u001b[1;32m      5\u001b[0m \u001b[0;34m\u001b[0m\u001b[0m\n\u001b[1;32m      6\u001b[0m     \u001b[0;32mwith\u001b[0m \u001b[0mtorch\u001b[0m\u001b[0;34m.\u001b[0m\u001b[0mno_grad\u001b[0m\u001b[0;34m(\u001b[0m\u001b[0;34m)\u001b[0m\u001b[0;34m:\u001b[0m\u001b[0;34m\u001b[0m\u001b[0;34m\u001b[0m\u001b[0m\n\u001b[0;32m----> 7\u001b[0;31m         \u001b[0;32mfor\u001b[0m \u001b[0mimage\u001b[0m\u001b[0;34m,\u001b[0m \u001b[0mlabel\u001b[0m \u001b[0;32min\u001b[0m \u001b[0mtest_loader\u001b[0m\u001b[0;34m:\u001b[0m\u001b[0;34m\u001b[0m\u001b[0;34m\u001b[0m\u001b[0m\n\u001b[0m\u001b[1;32m      8\u001b[0m             \u001b[0mimage\u001b[0m \u001b[0;34m=\u001b[0m \u001b[0mimage\u001b[0m\u001b[0;34m.\u001b[0m\u001b[0mto\u001b[0m\u001b[0;34m(\u001b[0m\u001b[0mDEVICE\u001b[0m\u001b[0;34m)\u001b[0m\u001b[0;34m\u001b[0m\u001b[0;34m\u001b[0m\u001b[0m\n\u001b[1;32m      9\u001b[0m             \u001b[0mlabel\u001b[0m \u001b[0;34m=\u001b[0m \u001b[0mlabel\u001b[0m\u001b[0;34m.\u001b[0m\u001b[0mto\u001b[0m\u001b[0;34m(\u001b[0m\u001b[0mDEVICE\u001b[0m\u001b[0;34m)\u001b[0m\u001b[0;34m\u001b[0m\u001b[0;34m\u001b[0m\u001b[0m\n",
            "\u001b[0;32m/usr/local/lib/python3.7/dist-packages/torch/utils/data/dataloader.py\u001b[0m in \u001b[0;36m__next__\u001b[0;34m(self)\u001b[0m\n\u001b[1;32m    519\u001b[0m             \u001b[0;32mif\u001b[0m \u001b[0mself\u001b[0m\u001b[0;34m.\u001b[0m\u001b[0m_sampler_iter\u001b[0m \u001b[0;32mis\u001b[0m \u001b[0;32mNone\u001b[0m\u001b[0;34m:\u001b[0m\u001b[0;34m\u001b[0m\u001b[0;34m\u001b[0m\u001b[0m\n\u001b[1;32m    520\u001b[0m                 \u001b[0mself\u001b[0m\u001b[0;34m.\u001b[0m\u001b[0m_reset\u001b[0m\u001b[0;34m(\u001b[0m\u001b[0;34m)\u001b[0m\u001b[0;34m\u001b[0m\u001b[0;34m\u001b[0m\u001b[0m\n\u001b[0;32m--> 521\u001b[0;31m             \u001b[0mdata\u001b[0m \u001b[0;34m=\u001b[0m \u001b[0mself\u001b[0m\u001b[0;34m.\u001b[0m\u001b[0m_next_data\u001b[0m\u001b[0;34m(\u001b[0m\u001b[0;34m)\u001b[0m\u001b[0;34m\u001b[0m\u001b[0;34m\u001b[0m\u001b[0m\n\u001b[0m\u001b[1;32m    522\u001b[0m             \u001b[0mself\u001b[0m\u001b[0;34m.\u001b[0m\u001b[0m_num_yielded\u001b[0m \u001b[0;34m+=\u001b[0m \u001b[0;36m1\u001b[0m\u001b[0;34m\u001b[0m\u001b[0;34m\u001b[0m\u001b[0m\n\u001b[1;32m    523\u001b[0m             \u001b[0;32mif\u001b[0m \u001b[0mself\u001b[0m\u001b[0;34m.\u001b[0m\u001b[0m_dataset_kind\u001b[0m \u001b[0;34m==\u001b[0m \u001b[0m_DatasetKind\u001b[0m\u001b[0;34m.\u001b[0m\u001b[0mIterable\u001b[0m \u001b[0;32mand\u001b[0m\u001b[0;31m \u001b[0m\u001b[0;31m\\\u001b[0m\u001b[0;34m\u001b[0m\u001b[0;34m\u001b[0m\u001b[0m\n",
            "\u001b[0;32m/usr/local/lib/python3.7/dist-packages/torch/utils/data/dataloader.py\u001b[0m in \u001b[0;36m_next_data\u001b[0;34m(self)\u001b[0m\n\u001b[1;32m    559\u001b[0m     \u001b[0;32mdef\u001b[0m \u001b[0m_next_data\u001b[0m\u001b[0;34m(\u001b[0m\u001b[0mself\u001b[0m\u001b[0;34m)\u001b[0m\u001b[0;34m:\u001b[0m\u001b[0;34m\u001b[0m\u001b[0;34m\u001b[0m\u001b[0m\n\u001b[1;32m    560\u001b[0m         \u001b[0mindex\u001b[0m \u001b[0;34m=\u001b[0m \u001b[0mself\u001b[0m\u001b[0;34m.\u001b[0m\u001b[0m_next_index\u001b[0m\u001b[0;34m(\u001b[0m\u001b[0;34m)\u001b[0m  \u001b[0;31m# may raise StopIteration\u001b[0m\u001b[0;34m\u001b[0m\u001b[0;34m\u001b[0m\u001b[0m\n\u001b[0;32m--> 561\u001b[0;31m         \u001b[0mdata\u001b[0m \u001b[0;34m=\u001b[0m \u001b[0mself\u001b[0m\u001b[0;34m.\u001b[0m\u001b[0m_dataset_fetcher\u001b[0m\u001b[0;34m.\u001b[0m\u001b[0mfetch\u001b[0m\u001b[0;34m(\u001b[0m\u001b[0mindex\u001b[0m\u001b[0;34m)\u001b[0m  \u001b[0;31m# may raise StopIteration\u001b[0m\u001b[0;34m\u001b[0m\u001b[0;34m\u001b[0m\u001b[0m\n\u001b[0m\u001b[1;32m    562\u001b[0m         \u001b[0;32mif\u001b[0m \u001b[0mself\u001b[0m\u001b[0;34m.\u001b[0m\u001b[0m_pin_memory\u001b[0m\u001b[0;34m:\u001b[0m\u001b[0;34m\u001b[0m\u001b[0;34m\u001b[0m\u001b[0m\n\u001b[1;32m    563\u001b[0m             \u001b[0mdata\u001b[0m \u001b[0;34m=\u001b[0m \u001b[0m_utils\u001b[0m\u001b[0;34m.\u001b[0m\u001b[0mpin_memory\u001b[0m\u001b[0;34m.\u001b[0m\u001b[0mpin_memory\u001b[0m\u001b[0;34m(\u001b[0m\u001b[0mdata\u001b[0m\u001b[0;34m)\u001b[0m\u001b[0;34m\u001b[0m\u001b[0;34m\u001b[0m\u001b[0m\n",
            "\u001b[0;32m/usr/local/lib/python3.7/dist-packages/torch/utils/data/_utils/fetch.py\u001b[0m in \u001b[0;36mfetch\u001b[0;34m(self, possibly_batched_index)\u001b[0m\n\u001b[1;32m     42\u001b[0m     \u001b[0;32mdef\u001b[0m \u001b[0mfetch\u001b[0m\u001b[0;34m(\u001b[0m\u001b[0mself\u001b[0m\u001b[0;34m,\u001b[0m \u001b[0mpossibly_batched_index\u001b[0m\u001b[0;34m)\u001b[0m\u001b[0;34m:\u001b[0m\u001b[0;34m\u001b[0m\u001b[0;34m\u001b[0m\u001b[0m\n\u001b[1;32m     43\u001b[0m         \u001b[0;32mif\u001b[0m \u001b[0mself\u001b[0m\u001b[0;34m.\u001b[0m\u001b[0mauto_collation\u001b[0m\u001b[0;34m:\u001b[0m\u001b[0;34m\u001b[0m\u001b[0;34m\u001b[0m\u001b[0m\n\u001b[0;32m---> 44\u001b[0;31m             \u001b[0mdata\u001b[0m \u001b[0;34m=\u001b[0m \u001b[0;34m[\u001b[0m\u001b[0mself\u001b[0m\u001b[0;34m.\u001b[0m\u001b[0mdataset\u001b[0m\u001b[0;34m[\u001b[0m\u001b[0midx\u001b[0m\u001b[0;34m]\u001b[0m \u001b[0;32mfor\u001b[0m \u001b[0midx\u001b[0m \u001b[0;32min\u001b[0m \u001b[0mpossibly_batched_index\u001b[0m\u001b[0;34m]\u001b[0m\u001b[0;34m\u001b[0m\u001b[0;34m\u001b[0m\u001b[0m\n\u001b[0m\u001b[1;32m     45\u001b[0m         \u001b[0;32melse\u001b[0m\u001b[0;34m:\u001b[0m\u001b[0;34m\u001b[0m\u001b[0;34m\u001b[0m\u001b[0m\n\u001b[1;32m     46\u001b[0m             \u001b[0mdata\u001b[0m \u001b[0;34m=\u001b[0m \u001b[0mself\u001b[0m\u001b[0;34m.\u001b[0m\u001b[0mdataset\u001b[0m\u001b[0;34m[\u001b[0m\u001b[0mpossibly_batched_index\u001b[0m\u001b[0;34m]\u001b[0m\u001b[0;34m\u001b[0m\u001b[0;34m\u001b[0m\u001b[0m\n",
            "\u001b[0;32m/usr/local/lib/python3.7/dist-packages/torch/utils/data/_utils/fetch.py\u001b[0m in \u001b[0;36m<listcomp>\u001b[0;34m(.0)\u001b[0m\n\u001b[1;32m     42\u001b[0m     \u001b[0;32mdef\u001b[0m \u001b[0mfetch\u001b[0m\u001b[0;34m(\u001b[0m\u001b[0mself\u001b[0m\u001b[0;34m,\u001b[0m \u001b[0mpossibly_batched_index\u001b[0m\u001b[0;34m)\u001b[0m\u001b[0;34m:\u001b[0m\u001b[0;34m\u001b[0m\u001b[0;34m\u001b[0m\u001b[0m\n\u001b[1;32m     43\u001b[0m         \u001b[0;32mif\u001b[0m \u001b[0mself\u001b[0m\u001b[0;34m.\u001b[0m\u001b[0mauto_collation\u001b[0m\u001b[0;34m:\u001b[0m\u001b[0;34m\u001b[0m\u001b[0;34m\u001b[0m\u001b[0m\n\u001b[0;32m---> 44\u001b[0;31m             \u001b[0mdata\u001b[0m \u001b[0;34m=\u001b[0m \u001b[0;34m[\u001b[0m\u001b[0mself\u001b[0m\u001b[0;34m.\u001b[0m\u001b[0mdataset\u001b[0m\u001b[0;34m[\u001b[0m\u001b[0midx\u001b[0m\u001b[0;34m]\u001b[0m \u001b[0;32mfor\u001b[0m \u001b[0midx\u001b[0m \u001b[0;32min\u001b[0m \u001b[0mpossibly_batched_index\u001b[0m\u001b[0;34m]\u001b[0m\u001b[0;34m\u001b[0m\u001b[0;34m\u001b[0m\u001b[0m\n\u001b[0m\u001b[1;32m     45\u001b[0m         \u001b[0;32melse\u001b[0m\u001b[0;34m:\u001b[0m\u001b[0;34m\u001b[0m\u001b[0;34m\u001b[0m\u001b[0m\n\u001b[1;32m     46\u001b[0m             \u001b[0mdata\u001b[0m \u001b[0;34m=\u001b[0m \u001b[0mself\u001b[0m\u001b[0;34m.\u001b[0m\u001b[0mdataset\u001b[0m\u001b[0;34m[\u001b[0m\u001b[0mpossibly_batched_index\u001b[0m\u001b[0;34m]\u001b[0m\u001b[0;34m\u001b[0m\u001b[0;34m\u001b[0m\u001b[0m\n",
            "\u001b[0;32m/usr/local/lib/python3.7/dist-packages/torchvision/datasets/mnist.py\u001b[0m in \u001b[0;36m__getitem__\u001b[0;34m(self, index)\u001b[0m\n\u001b[1;32m    132\u001b[0m \u001b[0;34m\u001b[0m\u001b[0m\n\u001b[1;32m    133\u001b[0m         \u001b[0;32mif\u001b[0m \u001b[0mself\u001b[0m\u001b[0;34m.\u001b[0m\u001b[0mtransform\u001b[0m \u001b[0;32mis\u001b[0m \u001b[0;32mnot\u001b[0m \u001b[0;32mNone\u001b[0m\u001b[0;34m:\u001b[0m\u001b[0;34m\u001b[0m\u001b[0;34m\u001b[0m\u001b[0m\n\u001b[0;32m--> 134\u001b[0;31m             \u001b[0mimg\u001b[0m \u001b[0;34m=\u001b[0m \u001b[0mself\u001b[0m\u001b[0;34m.\u001b[0m\u001b[0mtransform\u001b[0m\u001b[0;34m(\u001b[0m\u001b[0mimg\u001b[0m\u001b[0;34m)\u001b[0m\u001b[0;34m\u001b[0m\u001b[0;34m\u001b[0m\u001b[0m\n\u001b[0m\u001b[1;32m    135\u001b[0m \u001b[0;34m\u001b[0m\u001b[0m\n\u001b[1;32m    136\u001b[0m         \u001b[0;32mif\u001b[0m \u001b[0mself\u001b[0m\u001b[0;34m.\u001b[0m\u001b[0mtarget_transform\u001b[0m \u001b[0;32mis\u001b[0m \u001b[0;32mnot\u001b[0m \u001b[0;32mNone\u001b[0m\u001b[0;34m:\u001b[0m\u001b[0;34m\u001b[0m\u001b[0;34m\u001b[0m\u001b[0m\n",
            "\u001b[0;32m/usr/local/lib/python3.7/dist-packages/torchvision/transforms/transforms.py\u001b[0m in \u001b[0;36m__call__\u001b[0;34m(self, pic)\u001b[0m\n\u001b[1;32m     95\u001b[0m             \u001b[0mTensor\u001b[0m\u001b[0;34m:\u001b[0m \u001b[0mConverted\u001b[0m \u001b[0mimage\u001b[0m\u001b[0;34m.\u001b[0m\u001b[0;34m\u001b[0m\u001b[0;34m\u001b[0m\u001b[0m\n\u001b[1;32m     96\u001b[0m         \"\"\"\n\u001b[0;32m---> 97\u001b[0;31m         \u001b[0;32mreturn\u001b[0m \u001b[0mF\u001b[0m\u001b[0;34m.\u001b[0m\u001b[0mto_tensor\u001b[0m\u001b[0;34m(\u001b[0m\u001b[0mpic\u001b[0m\u001b[0;34m)\u001b[0m\u001b[0;34m\u001b[0m\u001b[0;34m\u001b[0m\u001b[0m\n\u001b[0m\u001b[1;32m     98\u001b[0m \u001b[0;34m\u001b[0m\u001b[0m\n\u001b[1;32m     99\u001b[0m     \u001b[0;32mdef\u001b[0m \u001b[0m__repr__\u001b[0m\u001b[0;34m(\u001b[0m\u001b[0mself\u001b[0m\u001b[0;34m)\u001b[0m\u001b[0;34m:\u001b[0m\u001b[0;34m\u001b[0m\u001b[0;34m\u001b[0m\u001b[0m\n",
            "\u001b[0;32m/usr/local/lib/python3.7/dist-packages/torchvision/transforms/functional.py\u001b[0m in \u001b[0;36mto_tensor\u001b[0;34m(pic)\u001b[0m\n\u001b[1;32m    135\u001b[0m     \u001b[0;31m# put it from HWC to CHW format\u001b[0m\u001b[0;34m\u001b[0m\u001b[0;34m\u001b[0m\u001b[0;34m\u001b[0m\u001b[0m\n\u001b[1;32m    136\u001b[0m     \u001b[0mimg\u001b[0m \u001b[0;34m=\u001b[0m \u001b[0mimg\u001b[0m\u001b[0;34m.\u001b[0m\u001b[0mpermute\u001b[0m\u001b[0;34m(\u001b[0m\u001b[0;34m(\u001b[0m\u001b[0;36m2\u001b[0m\u001b[0;34m,\u001b[0m \u001b[0;36m0\u001b[0m\u001b[0;34m,\u001b[0m \u001b[0;36m1\u001b[0m\u001b[0;34m)\u001b[0m\u001b[0;34m)\u001b[0m\u001b[0;34m.\u001b[0m\u001b[0mcontiguous\u001b[0m\u001b[0;34m(\u001b[0m\u001b[0;34m)\u001b[0m\u001b[0;34m\u001b[0m\u001b[0;34m\u001b[0m\u001b[0m\n\u001b[0;32m--> 137\u001b[0;31m     \u001b[0;32mif\u001b[0m \u001b[0misinstance\u001b[0m\u001b[0;34m(\u001b[0m\u001b[0mimg\u001b[0m\u001b[0;34m,\u001b[0m \u001b[0mtorch\u001b[0m\u001b[0;34m.\u001b[0m\u001b[0mByteTensor\u001b[0m\u001b[0;34m)\u001b[0m\u001b[0;34m:\u001b[0m\u001b[0;34m\u001b[0m\u001b[0;34m\u001b[0m\u001b[0m\n\u001b[0m\u001b[1;32m    138\u001b[0m         \u001b[0;32mreturn\u001b[0m \u001b[0mimg\u001b[0m\u001b[0;34m.\u001b[0m\u001b[0mto\u001b[0m\u001b[0;34m(\u001b[0m\u001b[0mdtype\u001b[0m\u001b[0;34m=\u001b[0m\u001b[0mdefault_float_dtype\u001b[0m\u001b[0;34m)\u001b[0m\u001b[0;34m.\u001b[0m\u001b[0mdiv\u001b[0m\u001b[0;34m(\u001b[0m\u001b[0;36m255\u001b[0m\u001b[0;34m)\u001b[0m\u001b[0;34m\u001b[0m\u001b[0;34m\u001b[0m\u001b[0m\n\u001b[1;32m    139\u001b[0m     \u001b[0;32melse\u001b[0m\u001b[0;34m:\u001b[0m\u001b[0;34m\u001b[0m\u001b[0;34m\u001b[0m\u001b[0m\n",
            "\u001b[0;31mKeyboardInterrupt\u001b[0m: "
          ]
        }
      ]
    },
    {
      "cell_type": "markdown",
      "metadata": {
        "id": "Ou3_T7Re7Aq-"
      },
      "source": [
        "##MNIST_MLAP with Dropout+ReLU+BN+He+Adam"
      ]
    },
    {
      "cell_type": "markdown",
      "metadata": {
        "id": "goAcTFrp7Aq-"
      },
      "source": [
        "Model with Dropout + ReLU + BN\n"
      ]
    },
    {
      "cell_type": "code",
      "metadata": {
        "id": "9WZqzIrR7Aq-"
      },
      "source": [
        "class Net(nn.Module):\n",
        "    def __init__(self):\n",
        "        super(Net, self).__init__()\n",
        "        self.fc1 = nn.Linear(28 * 28, 512)\n",
        "        self.fc2 = nn.Linear(512, 256)\n",
        "        self.fc3 = nn.Linear(256, 10)\n",
        "        self.dropout_prob = 0.5\n",
        "        self.batch_norm1 = nn.BatchNorm1d(512)     #\n",
        "        self.batch_norm2 = nn.BatchNorm1d(256)     #\n",
        "\n",
        "    def forward(self, x):\n",
        "        x = x.view(-1, 28 * 28)\n",
        "        x = self.fc1(x)\n",
        "        x = self.batch_norm1(x)         #           \n",
        "        x = F.relu(x)\n",
        "        x = F.dropout(x, training = self.training, p = self.dropout_prob)     #\n",
        "        x = self.fc2(x)\n",
        "        x = self.batch_norm2(x)         #\n",
        "        x = F.relu(x)\n",
        "        x = F.dropout(x, training = self.training, p = self.dropout_prob)     #\n",
        "        x = self.fc3(x)\n",
        "        x = F.log_softmax(x, dim = 1)\n",
        "        return x"
      ],
      "execution_count": null,
      "outputs": []
    },
    {
      "cell_type": "markdown",
      "metadata": {
        "id": "LlrRaIWB7Aq-"
      },
      "source": [
        "Optimizer, Objective Function with He initialization + Adam Optimizer"
      ]
    },
    {
      "cell_type": "code",
      "metadata": {
        "id": "ylXGq3EI7Aq-",
        "colab": {
          "base_uri": "https://localhost:8080/"
        },
        "outputId": "11e633df-4af4-4a91-e7e2-d14c2a304ab7"
      },
      "source": [
        "import torch.nn.init as init                    \n",
        "def weight_init(m):                             \n",
        "    if isinstance(m, nn.Linear):                \n",
        "        init.kaiming_uniform_(m.weight.data)    \n",
        "\n",
        "model = Net().to(DEVICE)\n",
        "model.apply(weight_init)                        \n",
        "optimizer = torch.optim.Adam(model.parameters(), lr = 0.01) ###\n",
        "criterion = nn.CrossEntropyLoss()\n",
        "\n",
        "print(model)"
      ],
      "execution_count": null,
      "outputs": [
        {
          "output_type": "stream",
          "name": "stdout",
          "text": [
            "Net(\n",
            "  (fc1): Linear(in_features=784, out_features=512, bias=True)\n",
            "  (fc2): Linear(in_features=512, out_features=256, bias=True)\n",
            "  (fc3): Linear(in_features=256, out_features=10, bias=True)\n",
            "  (batch_norm1): BatchNorm1d(512, eps=1e-05, momentum=0.1, affine=True, track_running_stats=True)\n",
            "  (batch_norm2): BatchNorm1d(256, eps=1e-05, momentum=0.1, affine=True, track_running_stats=True)\n",
            ")\n"
          ]
        }
      ]
    },
    {
      "cell_type": "markdown",
      "metadata": {
        "id": "BG_Dl5NI7Aq-"
      },
      "source": [
        "Run"
      ]
    },
    {
      "cell_type": "code",
      "metadata": {
        "id": "BsZ-g0cH7Aq-",
        "colab": {
          "base_uri": "https://localhost:8080/",
          "height": 1000
        },
        "outputId": "7e626203-2c81-4fbb-cc54-9ed503b4cce9"
      },
      "source": [
        "for epoch in range(1, EPOCHS + 1):\n",
        "    train(model, train_loader, optimizer, log_interval = 200)\n",
        "    test_loss, test_accuracy = evaluate(model, test_loader)\n",
        "    print(\"\\n[EPOCH: {}], \\tTest Loss: {:.4f}, \\tTest Accuracy: {:.2f} % \\n\".format(\n",
        "        epoch, test_loss, test_accuracy))"
      ],
      "execution_count": null,
      "outputs": [
        {
          "output_type": "stream",
          "name": "stdout",
          "text": [
            "Train Epoch: 1 [0/60000 (0%)]\tTrain Loss: 2.882394\n",
            "Train Epoch: 1 [6400/60000 (11%)]\tTrain Loss: 0.535795\n",
            "Train Epoch: 1 [12800/60000 (21%)]\tTrain Loss: 0.246878\n",
            "Train Epoch: 1 [19200/60000 (32%)]\tTrain Loss: 0.556635\n",
            "Train Epoch: 1 [25600/60000 (43%)]\tTrain Loss: 0.153855\n",
            "Train Epoch: 1 [32000/60000 (53%)]\tTrain Loss: 0.200153\n",
            "Train Epoch: 1 [38400/60000 (64%)]\tTrain Loss: 0.359648\n",
            "Train Epoch: 1 [44800/60000 (75%)]\tTrain Loss: 0.291207\n",
            "Train Epoch: 1 [51200/60000 (85%)]\tTrain Loss: 0.311451\n",
            "Train Epoch: 1 [57600/60000 (96%)]\tTrain Loss: 0.141895\n",
            "\n",
            "[EPOCH: 1], \tTest Loss: 0.1232, \tTest Accuracy: 96.15 % \n",
            "\n",
            "Train Epoch: 2 [0/60000 (0%)]\tTrain Loss: 0.087119\n",
            "Train Epoch: 2 [6400/60000 (11%)]\tTrain Loss: 0.275130\n",
            "Train Epoch: 2 [12800/60000 (21%)]\tTrain Loss: 0.396597\n",
            "Train Epoch: 2 [19200/60000 (32%)]\tTrain Loss: 0.814583\n",
            "Train Epoch: 2 [25600/60000 (43%)]\tTrain Loss: 0.241010\n",
            "Train Epoch: 2 [32000/60000 (53%)]\tTrain Loss: 0.145245\n",
            "Train Epoch: 2 [38400/60000 (64%)]\tTrain Loss: 0.428120\n",
            "Train Epoch: 2 [44800/60000 (75%)]\tTrain Loss: 0.257395\n",
            "Train Epoch: 2 [51200/60000 (85%)]\tTrain Loss: 0.313568\n",
            "Train Epoch: 2 [57600/60000 (96%)]\tTrain Loss: 0.293647\n",
            "\n",
            "[EPOCH: 2], \tTest Loss: 0.1121, \tTest Accuracy: 96.50 % \n",
            "\n",
            "Train Epoch: 3 [0/60000 (0%)]\tTrain Loss: 0.123958\n",
            "Train Epoch: 3 [6400/60000 (11%)]\tTrain Loss: 0.456527\n",
            "Train Epoch: 3 [12800/60000 (21%)]\tTrain Loss: 0.326737\n",
            "Train Epoch: 3 [19200/60000 (32%)]\tTrain Loss: 0.281096\n",
            "Train Epoch: 3 [25600/60000 (43%)]\tTrain Loss: 0.221273\n",
            "Train Epoch: 3 [32000/60000 (53%)]\tTrain Loss: 0.237930\n",
            "Train Epoch: 3 [38400/60000 (64%)]\tTrain Loss: 0.165292\n",
            "Train Epoch: 3 [44800/60000 (75%)]\tTrain Loss: 0.255747\n",
            "Train Epoch: 3 [51200/60000 (85%)]\tTrain Loss: 0.341479\n",
            "Train Epoch: 3 [57600/60000 (96%)]\tTrain Loss: 0.109936\n",
            "\n",
            "[EPOCH: 3], \tTest Loss: 0.0867, \tTest Accuracy: 97.30 % \n",
            "\n",
            "Train Epoch: 4 [0/60000 (0%)]\tTrain Loss: 0.240077\n",
            "Train Epoch: 4 [6400/60000 (11%)]\tTrain Loss: 0.174359\n",
            "Train Epoch: 4 [12800/60000 (21%)]\tTrain Loss: 0.431043\n",
            "Train Epoch: 4 [19200/60000 (32%)]\tTrain Loss: 0.065132\n",
            "Train Epoch: 4 [25600/60000 (43%)]\tTrain Loss: 0.476778\n",
            "Train Epoch: 4 [32000/60000 (53%)]\tTrain Loss: 0.236947\n",
            "Train Epoch: 4 [38400/60000 (64%)]\tTrain Loss: 0.127486\n",
            "Train Epoch: 4 [44800/60000 (75%)]\tTrain Loss: 0.027508\n",
            "Train Epoch: 4 [51200/60000 (85%)]\tTrain Loss: 0.131641\n",
            "Train Epoch: 4 [57600/60000 (96%)]\tTrain Loss: 0.199092\n",
            "\n",
            "[EPOCH: 4], \tTest Loss: 0.0890, \tTest Accuracy: 97.40 % \n",
            "\n",
            "Train Epoch: 5 [0/60000 (0%)]\tTrain Loss: 0.233267\n",
            "Train Epoch: 5 [6400/60000 (11%)]\tTrain Loss: 0.464848\n",
            "Train Epoch: 5 [12800/60000 (21%)]\tTrain Loss: 0.221707\n",
            "Train Epoch: 5 [19200/60000 (32%)]\tTrain Loss: 0.708500\n",
            "Train Epoch: 5 [25600/60000 (43%)]\tTrain Loss: 0.046646\n",
            "Train Epoch: 5 [32000/60000 (53%)]\tTrain Loss: 0.083755\n",
            "Train Epoch: 5 [38400/60000 (64%)]\tTrain Loss: 0.360507\n",
            "Train Epoch: 5 [44800/60000 (75%)]\tTrain Loss: 0.174519\n",
            "Train Epoch: 5 [51200/60000 (85%)]\tTrain Loss: 0.606886\n",
            "Train Epoch: 5 [57600/60000 (96%)]\tTrain Loss: 0.062856\n",
            "\n",
            "[EPOCH: 5], \tTest Loss: 0.0832, \tTest Accuracy: 97.47 % \n",
            "\n",
            "Train Epoch: 6 [0/60000 (0%)]\tTrain Loss: 0.173891\n",
            "Train Epoch: 6 [6400/60000 (11%)]\tTrain Loss: 0.059600\n",
            "Train Epoch: 6 [12800/60000 (21%)]\tTrain Loss: 0.121799\n",
            "Train Epoch: 6 [19200/60000 (32%)]\tTrain Loss: 0.099975\n",
            "Train Epoch: 6 [25600/60000 (43%)]\tTrain Loss: 0.145865\n",
            "Train Epoch: 6 [32000/60000 (53%)]\tTrain Loss: 0.134593\n",
            "Train Epoch: 6 [38400/60000 (64%)]\tTrain Loss: 0.077621\n",
            "Train Epoch: 6 [44800/60000 (75%)]\tTrain Loss: 0.065403\n",
            "Train Epoch: 6 [51200/60000 (85%)]\tTrain Loss: 0.152448\n",
            "Train Epoch: 6 [57600/60000 (96%)]\tTrain Loss: 0.247689\n",
            "\n",
            "[EPOCH: 6], \tTest Loss: 0.0742, \tTest Accuracy: 97.67 % \n",
            "\n",
            "Train Epoch: 7 [0/60000 (0%)]\tTrain Loss: 0.105316\n",
            "Train Epoch: 7 [6400/60000 (11%)]\tTrain Loss: 0.128148\n",
            "Train Epoch: 7 [12800/60000 (21%)]\tTrain Loss: 0.109350\n"
          ]
        },
        {
          "output_type": "error",
          "ename": "KeyboardInterrupt",
          "evalue": "ignored",
          "traceback": [
            "\u001b[0;31m---------------------------------------------------------------------------\u001b[0m",
            "\u001b[0;31mKeyboardInterrupt\u001b[0m                         Traceback (most recent call last)",
            "\u001b[0;32m<ipython-input-28-885091b067da>\u001b[0m in \u001b[0;36m<module>\u001b[0;34m()\u001b[0m\n\u001b[1;32m      1\u001b[0m \u001b[0;32mfor\u001b[0m \u001b[0mepoch\u001b[0m \u001b[0;32min\u001b[0m \u001b[0mrange\u001b[0m\u001b[0;34m(\u001b[0m\u001b[0;36m1\u001b[0m\u001b[0;34m,\u001b[0m \u001b[0mEPOCHS\u001b[0m \u001b[0;34m+\u001b[0m \u001b[0;36m1\u001b[0m\u001b[0;34m)\u001b[0m\u001b[0;34m:\u001b[0m\u001b[0;34m\u001b[0m\u001b[0;34m\u001b[0m\u001b[0m\n\u001b[0;32m----> 2\u001b[0;31m     \u001b[0mtrain\u001b[0m\u001b[0;34m(\u001b[0m\u001b[0mmodel\u001b[0m\u001b[0;34m,\u001b[0m \u001b[0mtrain_loader\u001b[0m\u001b[0;34m,\u001b[0m \u001b[0moptimizer\u001b[0m\u001b[0;34m,\u001b[0m \u001b[0mlog_interval\u001b[0m \u001b[0;34m=\u001b[0m \u001b[0;36m200\u001b[0m\u001b[0;34m)\u001b[0m\u001b[0;34m\u001b[0m\u001b[0;34m\u001b[0m\u001b[0m\n\u001b[0m\u001b[1;32m      3\u001b[0m     \u001b[0mtest_loss\u001b[0m\u001b[0;34m,\u001b[0m \u001b[0mtest_accuracy\u001b[0m \u001b[0;34m=\u001b[0m \u001b[0mevaluate\u001b[0m\u001b[0;34m(\u001b[0m\u001b[0mmodel\u001b[0m\u001b[0;34m,\u001b[0m \u001b[0mtest_loader\u001b[0m\u001b[0;34m)\u001b[0m\u001b[0;34m\u001b[0m\u001b[0;34m\u001b[0m\u001b[0m\n\u001b[1;32m      4\u001b[0m     print(\"\\n[EPOCH: {}], \\tTest Loss: {:.4f}, \\tTest Accuracy: {:.2f} % \\n\".format(\n\u001b[1;32m      5\u001b[0m         epoch, test_loss, test_accuracy))\n",
            "\u001b[0;32m<ipython-input-12-be98d565d6de>\u001b[0m in \u001b[0;36mtrain\u001b[0;34m(model, train_loader, optimizer, log_interval)\u001b[0m\n\u001b[1;32m      5\u001b[0m         \u001b[0mlabel\u001b[0m \u001b[0;34m=\u001b[0m \u001b[0mlabel\u001b[0m\u001b[0;34m.\u001b[0m\u001b[0mto\u001b[0m\u001b[0;34m(\u001b[0m\u001b[0mDEVICE\u001b[0m\u001b[0;34m)\u001b[0m\u001b[0;34m\u001b[0m\u001b[0;34m\u001b[0m\u001b[0m\n\u001b[1;32m      6\u001b[0m         \u001b[0moptimizer\u001b[0m\u001b[0;34m.\u001b[0m\u001b[0mzero_grad\u001b[0m\u001b[0;34m(\u001b[0m\u001b[0;34m)\u001b[0m\u001b[0;34m\u001b[0m\u001b[0;34m\u001b[0m\u001b[0m\n\u001b[0;32m----> 7\u001b[0;31m         \u001b[0moutput\u001b[0m \u001b[0;34m=\u001b[0m \u001b[0mmodel\u001b[0m\u001b[0;34m(\u001b[0m\u001b[0mimage\u001b[0m\u001b[0;34m)\u001b[0m\u001b[0;34m\u001b[0m\u001b[0;34m\u001b[0m\u001b[0m\n\u001b[0m\u001b[1;32m      8\u001b[0m         \u001b[0mloss\u001b[0m \u001b[0;34m=\u001b[0m \u001b[0mcriterion\u001b[0m\u001b[0;34m(\u001b[0m\u001b[0moutput\u001b[0m\u001b[0;34m,\u001b[0m \u001b[0mlabel\u001b[0m\u001b[0;34m)\u001b[0m\u001b[0;34m\u001b[0m\u001b[0;34m\u001b[0m\u001b[0m\n\u001b[1;32m      9\u001b[0m         \u001b[0mloss\u001b[0m\u001b[0;34m.\u001b[0m\u001b[0mbackward\u001b[0m\u001b[0;34m(\u001b[0m\u001b[0;34m)\u001b[0m\u001b[0;34m\u001b[0m\u001b[0;34m\u001b[0m\u001b[0m\n",
            "\u001b[0;32m/usr/local/lib/python3.7/dist-packages/torch/nn/modules/module.py\u001b[0m in \u001b[0;36m_call_impl\u001b[0;34m(self, *input, **kwargs)\u001b[0m\n\u001b[1;32m   1049\u001b[0m         if not (self._backward_hooks or self._forward_hooks or self._forward_pre_hooks or _global_backward_hooks\n\u001b[1;32m   1050\u001b[0m                 or _global_forward_hooks or _global_forward_pre_hooks):\n\u001b[0;32m-> 1051\u001b[0;31m             \u001b[0;32mreturn\u001b[0m \u001b[0mforward_call\u001b[0m\u001b[0;34m(\u001b[0m\u001b[0;34m*\u001b[0m\u001b[0minput\u001b[0m\u001b[0;34m,\u001b[0m \u001b[0;34m**\u001b[0m\u001b[0mkwargs\u001b[0m\u001b[0;34m)\u001b[0m\u001b[0;34m\u001b[0m\u001b[0;34m\u001b[0m\u001b[0m\n\u001b[0m\u001b[1;32m   1052\u001b[0m         \u001b[0;31m# Do not call functions when jit is used\u001b[0m\u001b[0;34m\u001b[0m\u001b[0;34m\u001b[0m\u001b[0;34m\u001b[0m\u001b[0m\n\u001b[1;32m   1053\u001b[0m         \u001b[0mfull_backward_hooks\u001b[0m\u001b[0;34m,\u001b[0m \u001b[0mnon_full_backward_hooks\u001b[0m \u001b[0;34m=\u001b[0m \u001b[0;34m[\u001b[0m\u001b[0;34m]\u001b[0m\u001b[0;34m,\u001b[0m \u001b[0;34m[\u001b[0m\u001b[0;34m]\u001b[0m\u001b[0;34m\u001b[0m\u001b[0;34m\u001b[0m\u001b[0m\n",
            "\u001b[0;32m<ipython-input-24-9deda8042a4d>\u001b[0m in \u001b[0;36mforward\u001b[0;34m(self, x)\u001b[0m\n\u001b[1;32m     11\u001b[0m     \u001b[0;32mdef\u001b[0m \u001b[0mforward\u001b[0m\u001b[0;34m(\u001b[0m\u001b[0mself\u001b[0m\u001b[0;34m,\u001b[0m \u001b[0mx\u001b[0m\u001b[0;34m)\u001b[0m\u001b[0;34m:\u001b[0m\u001b[0;34m\u001b[0m\u001b[0;34m\u001b[0m\u001b[0m\n\u001b[1;32m     12\u001b[0m         \u001b[0mx\u001b[0m \u001b[0;34m=\u001b[0m \u001b[0mx\u001b[0m\u001b[0;34m.\u001b[0m\u001b[0mview\u001b[0m\u001b[0;34m(\u001b[0m\u001b[0;34m-\u001b[0m\u001b[0;36m1\u001b[0m\u001b[0;34m,\u001b[0m \u001b[0;36m28\u001b[0m \u001b[0;34m*\u001b[0m \u001b[0;36m28\u001b[0m\u001b[0;34m)\u001b[0m\u001b[0;34m\u001b[0m\u001b[0;34m\u001b[0m\u001b[0m\n\u001b[0;32m---> 13\u001b[0;31m         \u001b[0mx\u001b[0m \u001b[0;34m=\u001b[0m \u001b[0mself\u001b[0m\u001b[0;34m.\u001b[0m\u001b[0mfc1\u001b[0m\u001b[0;34m(\u001b[0m\u001b[0mx\u001b[0m\u001b[0;34m)\u001b[0m\u001b[0;34m\u001b[0m\u001b[0;34m\u001b[0m\u001b[0m\n\u001b[0m\u001b[1;32m     14\u001b[0m         \u001b[0mx\u001b[0m \u001b[0;34m=\u001b[0m \u001b[0mself\u001b[0m\u001b[0;34m.\u001b[0m\u001b[0mbatch_norm1\u001b[0m\u001b[0;34m(\u001b[0m\u001b[0mx\u001b[0m\u001b[0;34m)\u001b[0m\u001b[0;34m\u001b[0m\u001b[0;34m\u001b[0m\u001b[0m\n\u001b[1;32m     15\u001b[0m         \u001b[0mx\u001b[0m \u001b[0;34m=\u001b[0m \u001b[0mF\u001b[0m\u001b[0;34m.\u001b[0m\u001b[0mrelu\u001b[0m\u001b[0;34m(\u001b[0m\u001b[0mx\u001b[0m\u001b[0;34m)\u001b[0m\u001b[0;34m\u001b[0m\u001b[0;34m\u001b[0m\u001b[0m\n",
            "\u001b[0;32m/usr/local/lib/python3.7/dist-packages/torch/nn/modules/module.py\u001b[0m in \u001b[0;36m_call_impl\u001b[0;34m(self, *input, **kwargs)\u001b[0m\n\u001b[1;32m   1049\u001b[0m         if not (self._backward_hooks or self._forward_hooks or self._forward_pre_hooks or _global_backward_hooks\n\u001b[1;32m   1050\u001b[0m                 or _global_forward_hooks or _global_forward_pre_hooks):\n\u001b[0;32m-> 1051\u001b[0;31m             \u001b[0;32mreturn\u001b[0m \u001b[0mforward_call\u001b[0m\u001b[0;34m(\u001b[0m\u001b[0;34m*\u001b[0m\u001b[0minput\u001b[0m\u001b[0;34m,\u001b[0m \u001b[0;34m**\u001b[0m\u001b[0mkwargs\u001b[0m\u001b[0;34m)\u001b[0m\u001b[0;34m\u001b[0m\u001b[0;34m\u001b[0m\u001b[0m\n\u001b[0m\u001b[1;32m   1052\u001b[0m         \u001b[0;31m# Do not call functions when jit is used\u001b[0m\u001b[0;34m\u001b[0m\u001b[0;34m\u001b[0m\u001b[0;34m\u001b[0m\u001b[0m\n\u001b[1;32m   1053\u001b[0m         \u001b[0mfull_backward_hooks\u001b[0m\u001b[0;34m,\u001b[0m \u001b[0mnon_full_backward_hooks\u001b[0m \u001b[0;34m=\u001b[0m \u001b[0;34m[\u001b[0m\u001b[0;34m]\u001b[0m\u001b[0;34m,\u001b[0m \u001b[0;34m[\u001b[0m\u001b[0;34m]\u001b[0m\u001b[0;34m\u001b[0m\u001b[0;34m\u001b[0m\u001b[0m\n",
            "\u001b[0;32m/usr/local/lib/python3.7/dist-packages/torch/nn/modules/linear.py\u001b[0m in \u001b[0;36mforward\u001b[0;34m(self, input)\u001b[0m\n\u001b[1;32m     94\u001b[0m \u001b[0;34m\u001b[0m\u001b[0m\n\u001b[1;32m     95\u001b[0m     \u001b[0;32mdef\u001b[0m \u001b[0mforward\u001b[0m\u001b[0;34m(\u001b[0m\u001b[0mself\u001b[0m\u001b[0;34m,\u001b[0m \u001b[0minput\u001b[0m\u001b[0;34m:\u001b[0m \u001b[0mTensor\u001b[0m\u001b[0;34m)\u001b[0m \u001b[0;34m->\u001b[0m \u001b[0mTensor\u001b[0m\u001b[0;34m:\u001b[0m\u001b[0;34m\u001b[0m\u001b[0;34m\u001b[0m\u001b[0m\n\u001b[0;32m---> 96\u001b[0;31m         \u001b[0;32mreturn\u001b[0m \u001b[0mF\u001b[0m\u001b[0;34m.\u001b[0m\u001b[0mlinear\u001b[0m\u001b[0;34m(\u001b[0m\u001b[0minput\u001b[0m\u001b[0;34m,\u001b[0m \u001b[0mself\u001b[0m\u001b[0;34m.\u001b[0m\u001b[0mweight\u001b[0m\u001b[0;34m,\u001b[0m \u001b[0mself\u001b[0m\u001b[0;34m.\u001b[0m\u001b[0mbias\u001b[0m\u001b[0;34m)\u001b[0m\u001b[0;34m\u001b[0m\u001b[0;34m\u001b[0m\u001b[0m\n\u001b[0m\u001b[1;32m     97\u001b[0m \u001b[0;34m\u001b[0m\u001b[0m\n\u001b[1;32m     98\u001b[0m     \u001b[0;32mdef\u001b[0m \u001b[0mextra_repr\u001b[0m\u001b[0;34m(\u001b[0m\u001b[0mself\u001b[0m\u001b[0;34m)\u001b[0m \u001b[0;34m->\u001b[0m \u001b[0mstr\u001b[0m\u001b[0;34m:\u001b[0m\u001b[0;34m\u001b[0m\u001b[0;34m\u001b[0m\u001b[0m\n",
            "\u001b[0;32m/usr/local/lib/python3.7/dist-packages/torch/nn/functional.py\u001b[0m in \u001b[0;36mlinear\u001b[0;34m(input, weight, bias)\u001b[0m\n\u001b[1;32m   1845\u001b[0m     \u001b[0;32mif\u001b[0m \u001b[0mhas_torch_function_variadic\u001b[0m\u001b[0;34m(\u001b[0m\u001b[0minput\u001b[0m\u001b[0;34m,\u001b[0m \u001b[0mweight\u001b[0m\u001b[0;34m)\u001b[0m\u001b[0;34m:\u001b[0m\u001b[0;34m\u001b[0m\u001b[0;34m\u001b[0m\u001b[0m\n\u001b[1;32m   1846\u001b[0m         \u001b[0;32mreturn\u001b[0m \u001b[0mhandle_torch_function\u001b[0m\u001b[0;34m(\u001b[0m\u001b[0mlinear\u001b[0m\u001b[0;34m,\u001b[0m \u001b[0;34m(\u001b[0m\u001b[0minput\u001b[0m\u001b[0;34m,\u001b[0m \u001b[0mweight\u001b[0m\u001b[0;34m)\u001b[0m\u001b[0;34m,\u001b[0m \u001b[0minput\u001b[0m\u001b[0;34m,\u001b[0m \u001b[0mweight\u001b[0m\u001b[0;34m,\u001b[0m \u001b[0mbias\u001b[0m\u001b[0;34m=\u001b[0m\u001b[0mbias\u001b[0m\u001b[0;34m)\u001b[0m\u001b[0;34m\u001b[0m\u001b[0;34m\u001b[0m\u001b[0m\n\u001b[0;32m-> 1847\u001b[0;31m     \u001b[0;32mreturn\u001b[0m \u001b[0mtorch\u001b[0m\u001b[0;34m.\u001b[0m\u001b[0m_C\u001b[0m\u001b[0;34m.\u001b[0m\u001b[0m_nn\u001b[0m\u001b[0;34m.\u001b[0m\u001b[0mlinear\u001b[0m\u001b[0;34m(\u001b[0m\u001b[0minput\u001b[0m\u001b[0;34m,\u001b[0m \u001b[0mweight\u001b[0m\u001b[0;34m,\u001b[0m \u001b[0mbias\u001b[0m\u001b[0;34m)\u001b[0m\u001b[0;34m\u001b[0m\u001b[0;34m\u001b[0m\u001b[0m\n\u001b[0m\u001b[1;32m   1848\u001b[0m \u001b[0;34m\u001b[0m\u001b[0m\n\u001b[1;32m   1849\u001b[0m \u001b[0;34m\u001b[0m\u001b[0m\n",
            "\u001b[0;31mKeyboardInterrupt\u001b[0m: "
          ]
        }
      ]
    },
    {
      "cell_type": "markdown",
      "metadata": {
        "id": "ZfGHOQqsVrfj"
      },
      "source": [
        "##AutoEncoder"
      ]
    },
    {
      "cell_type": "markdown",
      "metadata": {
        "id": "EprWsTGkZM_2"
      },
      "source": [
        "Module Import"
      ]
    },
    {
      "cell_type": "code",
      "metadata": {
        "id": "5nYDtJk6ZMi6"
      },
      "source": [
        "import numpy as np\n",
        "import matplotlib.pyplot as plt\n",
        "\n",
        "import torch\n",
        "import torch.nn as nn\n",
        "import torch.nn.functional as F\n",
        "from torchvision import transforms, datasets"
      ],
      "execution_count": null,
      "outputs": []
    },
    {
      "cell_type": "markdown",
      "metadata": {
        "id": "ZajC7Eb2ZUZP"
      },
      "source": [
        "Check Device (CPU or GPU)"
      ]
    },
    {
      "cell_type": "code",
      "metadata": {
        "colab": {
          "base_uri": "https://localhost:8080/"
        },
        "id": "xpLDfooZZU4V",
        "outputId": "80c64e29-57fa-4bba-c374-372e2d6e23fc"
      },
      "source": [
        "if torch.cuda.is_available():\n",
        "    DEVICE = torch.device('cuda')\n",
        "else:\n",
        "    DEVICE = torch.device('cpu')\n",
        "\n",
        "print('Using PyTorch version:', torch.__version__, ' Device:', DEVICE)"
      ],
      "execution_count": null,
      "outputs": [
        {
          "output_type": "stream",
          "name": "stdout",
          "text": [
            "Using PyTorch version: 1.9.0+cu111  Device: cuda\n"
          ]
        }
      ]
    },
    {
      "cell_type": "markdown",
      "metadata": {
        "id": "6fiDQm2iZeQS"
      },
      "source": [
        "Hyper parameter"
      ]
    },
    {
      "cell_type": "code",
      "metadata": {
        "id": "rxLKSARxZd75"
      },
      "source": [
        "BATCH_SIZE = 32\n",
        "EPOCHS = 10"
      ],
      "execution_count": null,
      "outputs": []
    },
    {
      "cell_type": "markdown",
      "metadata": {
        "id": "bjrnUXJ4ZflY"
      },
      "source": [
        "Download FashionMNIST DB"
      ]
    },
    {
      "cell_type": "code",
      "metadata": {
        "colab": {
          "base_uri": "https://localhost:8080/",
          "height": 446,
          "referenced_widgets": [
            "926d7da4da3e4e1fb26248b27cb1a81a",
            "d8d0a609f2374e0c875cd19d628d7195",
            "a6d47db99c1d42e0a3262fa61efdc51a",
            "43d1747082eb4954b124c997d70961e0",
            "721b6dabb6324c4f9ec829e29b8f93ef",
            "1d5403d51e2d43db9072d947edc41db0",
            "a2976a607ad84da7b979a583538257b2",
            "e6740e40ed8345cf8f1c04f49702fce9",
            "71d26bb5650d4c809626a53d8ca74a17",
            "0d857d6c16eb4a01827b528f23d190af",
            "8fac650e245d42b6a6fda5ee2ce883aa",
            "7262ab01c007479e9707fb3ef29986c6",
            "0487a21eaf564a59b879715354e65cdf",
            "8249dc56ab9a4403985f87134f974a40"
          ]
        },
        "id": "463tBztrZuqF",
        "outputId": "09a4668a-9abb-4d2e-a7cd-806e2aa4daf4"
      },
      "source": [
        "train_dataset = datasets.FashionMNIST(root = \"./data/FashionMNIST\",\n",
        "                                      train = True,\n",
        "                                      download = True,\n",
        "                                      transform = transforms.ToTensor())\n",
        "\n",
        "test_dataset = datasets.FashionMNIST(root = \"./data/FashionMNIST\",\n",
        "                                     train = False,\n",
        "                                     transform = transforms.ToTensor())\n",
        "\n",
        "train_loader = torch.utils.data.DataLoader(dataset = train_dataset,\n",
        "                                           batch_size = BATCH_SIZE,\n",
        "                                           shuffle = True)\n",
        "\n",
        "test_loader = torch.utils.data.DataLoader(dataset = test_dataset,\n",
        "                                          batch_size = BATCH_SIZE,\n",
        "                                          shuffle = False)"
      ],
      "execution_count": null,
      "outputs": [
        {
          "output_type": "stream",
          "name": "stdout",
          "text": [
            "Downloading http://fashion-mnist.s3-website.eu-central-1.amazonaws.com/train-images-idx3-ubyte.gz\n",
            "Downloading http://fashion-mnist.s3-website.eu-central-1.amazonaws.com/train-images-idx3-ubyte.gz to ./data/FashionMNIST/FashionMNIST/raw/train-images-idx3-ubyte.gz\n"
          ]
        },
        {
          "output_type": "display_data",
          "data": {
            "application/vnd.jupyter.widget-view+json": {
              "model_id": "926d7da4da3e4e1fb26248b27cb1a81a",
              "version_minor": 0,
              "version_major": 2
            },
            "text/plain": [
              "  0%|          | 0/26421880 [00:00<?, ?it/s]"
            ]
          },
          "metadata": {}
        },
        {
          "output_type": "stream",
          "name": "stdout",
          "text": [
            "Extracting ./data/FashionMNIST/FashionMNIST/raw/train-images-idx3-ubyte.gz to ./data/FashionMNIST/FashionMNIST/raw\n",
            "\n",
            "Downloading http://fashion-mnist.s3-website.eu-central-1.amazonaws.com/train-labels-idx1-ubyte.gz\n",
            "Downloading http://fashion-mnist.s3-website.eu-central-1.amazonaws.com/train-labels-idx1-ubyte.gz to ./data/FashionMNIST/FashionMNIST/raw/train-labels-idx1-ubyte.gz\n"
          ]
        },
        {
          "output_type": "display_data",
          "data": {
            "application/vnd.jupyter.widget-view+json": {
              "model_id": "7262ab01c007479e9707fb3ef29986c6",
              "version_minor": 0,
              "version_major": 2
            },
            "text/plain": [
              "  0%|          | 0/29515 [00:00<?, ?it/s]"
            ]
          },
          "metadata": {}
        },
        {
          "output_type": "stream",
          "name": "stdout",
          "text": [
            "Extracting ./data/FashionMNIST/FashionMNIST/raw/train-labels-idx1-ubyte.gz to ./data/FashionMNIST/FashionMNIST/raw\n",
            "\n",
            "Downloading http://fashion-mnist.s3-website.eu-central-1.amazonaws.com/t10k-images-idx3-ubyte.gz\n",
            "Downloading http://fashion-mnist.s3-website.eu-central-1.amazonaws.com/t10k-images-idx3-ubyte.gz to ./data/FashionMNIST/FashionMNIST/raw/t10k-images-idx3-ubyte.gz\n"
          ]
        },
        {
          "output_type": "display_data",
          "data": {
            "application/vnd.jupyter.widget-view+json": {
              "model_id": "0487a21eaf564a59b879715354e65cdf",
              "version_minor": 0,
              "version_major": 2
            },
            "text/plain": [
              "  0%|          | 0/4422102 [00:00<?, ?it/s]"
            ]
          },
          "metadata": {}
        },
        {
          "output_type": "stream",
          "name": "stdout",
          "text": [
            "Extracting ./data/FashionMNIST/FashionMNIST/raw/t10k-images-idx3-ubyte.gz to ./data/FashionMNIST/FashionMNIST/raw\n",
            "\n",
            "Downloading http://fashion-mnist.s3-website.eu-central-1.amazonaws.com/t10k-labels-idx1-ubyte.gz\n",
            "Downloading http://fashion-mnist.s3-website.eu-central-1.amazonaws.com/t10k-labels-idx1-ubyte.gz to ./data/FashionMNIST/FashionMNIST/raw/t10k-labels-idx1-ubyte.gz\n"
          ]
        },
        {
          "output_type": "display_data",
          "data": {
            "application/vnd.jupyter.widget-view+json": {
              "model_id": "8249dc56ab9a4403985f87134f974a40",
              "version_minor": 0,
              "version_major": 2
            },
            "text/plain": [
              "  0%|          | 0/5148 [00:00<?, ?it/s]"
            ]
          },
          "metadata": {}
        },
        {
          "output_type": "stream",
          "name": "stdout",
          "text": [
            "Extracting ./data/FashionMNIST/FashionMNIST/raw/t10k-labels-idx1-ubyte.gz to ./data/FashionMNIST/FashionMNIST/raw\n",
            "\n"
          ]
        }
      ]
    },
    {
      "cell_type": "markdown",
      "metadata": {
        "id": "GkzzEScJZxEx"
      },
      "source": [
        "Check Data"
      ]
    },
    {
      "cell_type": "code",
      "metadata": {
        "colab": {
          "base_uri": "https://localhost:8080/"
        },
        "id": "fVVheoPRZy2r",
        "outputId": "aa437d75-b76a-4c80-dba3-a2be409c9f66"
      },
      "source": [
        "for (X_train, y_train) in train_loader:\n",
        "    print('X_train:', X_train.size(), 'type:', X_train.type())\n",
        "    print('y_train:', y_train.size(), 'type:', y_train.type())\n",
        "    break"
      ],
      "execution_count": null,
      "outputs": [
        {
          "output_type": "stream",
          "name": "stdout",
          "text": [
            "X_train: torch.Size([32, 1, 28, 28]) type: torch.FloatTensor\n",
            "y_train: torch.Size([32]) type: torch.LongTensor\n"
          ]
        }
      ]
    },
    {
      "cell_type": "markdown",
      "metadata": {
        "id": "UpSH0WvtZz_R"
      },
      "source": [
        "Show Data"
      ]
    },
    {
      "cell_type": "code",
      "metadata": {
        "colab": {
          "base_uri": "https://localhost:8080/",
          "height": 94
        },
        "id": "2_-rtb_BZ2De",
        "outputId": "49c9c1ac-0018-44dc-85e5-734f8a26317f"
      },
      "source": [
        "pltsize = 1\n",
        "plt.figure(figsize=(10 * pltsize, pltsize))\n",
        "for i in range(10):\n",
        "    plt.subplot(1, 10, i + 1)\n",
        "    plt.axis('off')\n",
        "    plt.imshow(X_train[i, :, :, :].numpy().reshape(28, 28), cmap = \"gray_r\")\n",
        "    plt.title('Class: ' + str(y_train[i].item()))"
      ],
      "execution_count": null,
      "outputs": [
        {
          "output_type": "display_data",
          "data": {
            "image/png": "[encoded data removed]",
            "text/plain": [
              "<Figure size 720x72 with 10 Axes>"
            ]
          },
          "metadata": {
            "needs_background": "light"
          }
        }
      ]
    },
    {
      "cell_type": "markdown",
      "metadata": {
        "id": "pEulr3bOZ9b-"
      },
      "source": [
        "Design Model"
      ]
    },
    {
      "cell_type": "code",
      "metadata": {
        "id": "pjj-WHP9Z8zj"
      },
      "source": [
        "class AE(nn.Module):\n",
        "    def __init__(self):\n",
        "        super(AE, self).__init__()\n",
        "        \n",
        "        self.encoder = nn.Sequential(\n",
        "            nn.Linear(28 * 28, 512),\n",
        "            nn.ReLU(),\n",
        "            nn.Linear(512, 256),\n",
        "            nn.ReLU(),\n",
        "            nn.Linear(256, 32),)\n",
        "        \n",
        "        self.decoder = nn.Sequential(\n",
        "            nn.Linear(32, 256),\n",
        "            nn.ReLU(),\n",
        "            nn.Linear(256, 512),\n",
        "            nn.ReLU(),\n",
        "            nn.Linear(512, 28 * 28),)\n",
        "\n",
        "    def forward(self, x):\n",
        "        encoded = self.encoder(x)\n",
        "        decoded = self.decoder(encoded)\n",
        "        return encoded, decoded"
      ],
      "execution_count": null,
      "outputs": []
    },
    {
      "cell_type": "markdown",
      "metadata": {
        "id": "o54uVFvrZ8wL"
      },
      "source": [
        "Optimizer, Objective Function"
      ]
    },
    {
      "cell_type": "code",
      "metadata": {
        "colab": {
          "base_uri": "https://localhost:8080/"
        },
        "id": "33Z74dfsaEy4",
        "outputId": "30137330-ece6-4bc9-874d-7668cdc0b2e8"
      },
      "source": [
        "model = AE().to(DEVICE)\n",
        "optimizer = torch.optim.Adam(model.parameters(), lr = 0.001)\n",
        "criterion = nn.MSELoss()\n",
        "\n",
        "print(model)"
      ],
      "execution_count": null,
      "outputs": [
        {
          "output_type": "stream",
          "name": "stdout",
          "text": [
            "AE(\n",
            "  (encoder): Sequential(\n",
            "    (0): Linear(in_features=784, out_features=512, bias=True)\n",
            "    (1): ReLU()\n",
            "    (2): Linear(in_features=512, out_features=256, bias=True)\n",
            "    (3): ReLU()\n",
            "    (4): Linear(in_features=256, out_features=32, bias=True)\n",
            "  )\n",
            "  (decoder): Sequential(\n",
            "    (0): Linear(in_features=32, out_features=256, bias=True)\n",
            "    (1): ReLU()\n",
            "    (2): Linear(in_features=256, out_features=512, bias=True)\n",
            "    (3): ReLU()\n",
            "    (4): Linear(in_features=512, out_features=784, bias=True)\n",
            "  )\n",
            ")\n"
          ]
        }
      ]
    },
    {
      "cell_type": "markdown",
      "metadata": {
        "id": "rrY4MaJoaM2R"
      },
      "source": [
        "Train"
      ]
    },
    {
      "cell_type": "code",
      "metadata": {
        "id": "wNLnPUyHaTjA"
      },
      "source": [
        "def train(model, train_loader, optimizer, log_interval):\n",
        "    model.train()\n",
        "    for batch_idx, (image, _) in enumerate(train_loader):\n",
        "        image = image.view(-1, 28 * 28).to(DEVICE)\n",
        "        target = image.view(-1, 28 * 28).to(DEVICE)\n",
        "        optimizer.zero_grad()\n",
        "        encoded, decoded = model(image)\n",
        "        loss = criterion(decoded, target)\n",
        "        loss.backward()\n",
        "        optimizer.step()\n",
        "\n",
        "        if batch_idx % log_interval == 0:\n",
        "            print(\"Train Epoch: {} [{}/{} ({:.0f}%)]\\tTrain Loss: {:.6f}\".format(\n",
        "                epoch, batch_idx * len(image), \n",
        "                len(train_loader.dataset), 100. * batch_idx / len(train_loader), \n",
        "                loss.item()))"
      ],
      "execution_count": null,
      "outputs": []
    },
    {
      "cell_type": "markdown",
      "metadata": {
        "id": "sP0NGO1FaN2H"
      },
      "source": [
        "Validation (Evaluation)"
      ]
    },
    {
      "cell_type": "code",
      "metadata": {
        "id": "hVZQbMJPaU22"
      },
      "source": [
        "def evaluate(model, test_loader):\n",
        "    model.eval()\n",
        "    test_loss = 0\n",
        "    real_image = []\n",
        "    gen_image = []\n",
        "    with torch.no_grad():\n",
        "        for image, _ in test_loader:\n",
        "            image = image.view(-1, 28 * 28).to(DEVICE)\n",
        "            target = image.view(-1, 28 * 28).to(DEVICE)\n",
        "            encoded, decoded = model(image)\n",
        "            \n",
        "            test_loss += criterion(decoded, image).item()\n",
        "            real_image.append(image.to(\"cpu\"))\n",
        "            gen_image.append(decoded.to(\"cpu\"))\n",
        "            \n",
        "    test_loss /= (len(test_loader.dataset) / BATCH_SIZE)\n",
        "\n",
        "    return test_loss, real_image, gen_image"
      ],
      "execution_count": null,
      "outputs": []
    },
    {
      "cell_type": "markdown",
      "metadata": {
        "id": "JEueLAzqaX-n"
      },
      "source": [
        "Run"
      ]
    },
    {
      "cell_type": "code",
      "metadata": {
        "colab": {
          "base_uri": "https://localhost:8080/",
          "height": 886
        },
        "id": "GygHvABmaYn3",
        "outputId": "827cd670-0c7a-4973-f919-af4c1f715bb0"
      },
      "source": [
        "for epoch in range(1, EPOCHS + 1):\n",
        "    train(model, train_loader, optimizer, log_interval = 200)\n",
        "    test_loss, real_image, gen_image = evaluate(model, test_loader)\n",
        "    print(\"\\n[EPOCH: {}], \\tTest Loss: {:.4f}\".format(epoch, test_loss))\n",
        "    f, a = plt.subplots(2, 10, figsize = (10, 4))\n",
        "    for i in range(10):\n",
        "        img = np.reshape(real_image[0][i], (28, 28))\n",
        "        a[0][i].imshow(img, cmap = \"gray_r\")\n",
        "        a[0][i].set_xticks(())\n",
        "        a[0][i].set_yticks(())\n",
        "    \n",
        "    for i in range(10):\n",
        "        img = np.reshape(gen_image[0][i], (28, 28))\n",
        "        a[1][i].imshow(img, cmap = \"gray_r\")\n",
        "        a[1][i].set_xticks(())\n",
        "        a[1][i].set_yticks(())\n",
        "    plt.show()"
      ],
      "execution_count": null,
      "outputs": [
        {
          "output_type": "stream",
          "name": "stdout",
          "text": [
            "Train Epoch: 1 [0/60000 (0%)]\tTrain Loss: 0.226879\n",
            "Train Epoch: 1 [6400/60000 (11%)]\tTrain Loss: 0.029382\n",
            "Train Epoch: 1 [12800/60000 (21%)]\tTrain Loss: 0.024651\n",
            "Train Epoch: 1 [19200/60000 (32%)]\tTrain Loss: 0.020563\n",
            "Train Epoch: 1 [25600/60000 (43%)]\tTrain Loss: 0.020009\n",
            "Train Epoch: 1 [32000/60000 (53%)]\tTrain Loss: 0.017568\n",
            "Train Epoch: 1 [38400/60000 (64%)]\tTrain Loss: 0.015927\n",
            "Train Epoch: 1 [44800/60000 (75%)]\tTrain Loss: 0.016156\n",
            "Train Epoch: 1 [51200/60000 (85%)]\tTrain Loss: 0.017064\n",
            "Train Epoch: 1 [57600/60000 (96%)]\tTrain Loss: 0.012308\n",
            "\n",
            "[EPOCH: 1], \tTest Loss: 0.0154\n"
          ]
        },
        {
          "output_type": "display_data",
          "data": {
            "image/png": "[encoded data removed]",
            "text/plain": [
              "<Figure size 720x288 with 20 Axes>"
            ]
          },
          "metadata": {}
        },
        {
          "output_type": "stream",
          "name": "stdout",
          "text": [
            "Train Epoch: 2 [0/60000 (0%)]\tTrain Loss: 0.015839\n",
            "Train Epoch: 2 [6400/60000 (11%)]\tTrain Loss: 0.015817\n",
            "Train Epoch: 2 [12800/60000 (21%)]\tTrain Loss: 0.012423\n",
            "Train Epoch: 2 [19200/60000 (32%)]\tTrain Loss: 0.013227\n",
            "Train Epoch: 2 [25600/60000 (43%)]\tTrain Loss: 0.013887\n"
          ]
        },
        {
          "output_type": "error",
          "ename": "KeyboardInterrupt",
          "evalue": "ignored",
          "traceback": [
            "\u001b[0;31m---------------------------------------------------------------------------\u001b[0m",
            "\u001b[0;31mKeyboardInterrupt\u001b[0m                         Traceback (most recent call last)",
            "\u001b[0;32m<ipython-input-13-bf4a6b2ed2f3>\u001b[0m in \u001b[0;36m<module>\u001b[0;34m()\u001b[0m\n\u001b[1;32m      1\u001b[0m \u001b[0;32mfor\u001b[0m \u001b[0mepoch\u001b[0m \u001b[0;32min\u001b[0m \u001b[0mrange\u001b[0m\u001b[0;34m(\u001b[0m\u001b[0;36m1\u001b[0m\u001b[0;34m,\u001b[0m \u001b[0mEPOCHS\u001b[0m \u001b[0;34m+\u001b[0m \u001b[0;36m1\u001b[0m\u001b[0;34m)\u001b[0m\u001b[0;34m:\u001b[0m\u001b[0;34m\u001b[0m\u001b[0;34m\u001b[0m\u001b[0m\n\u001b[0;32m----> 2\u001b[0;31m     \u001b[0mtrain\u001b[0m\u001b[0;34m(\u001b[0m\u001b[0mmodel\u001b[0m\u001b[0;34m,\u001b[0m \u001b[0mtrain_loader\u001b[0m\u001b[0;34m,\u001b[0m \u001b[0moptimizer\u001b[0m\u001b[0;34m,\u001b[0m \u001b[0mlog_interval\u001b[0m \u001b[0;34m=\u001b[0m \u001b[0;36m200\u001b[0m\u001b[0;34m)\u001b[0m\u001b[0;34m\u001b[0m\u001b[0;34m\u001b[0m\u001b[0m\n\u001b[0m\u001b[1;32m      3\u001b[0m     \u001b[0mtest_loss\u001b[0m\u001b[0;34m,\u001b[0m \u001b[0mreal_image\u001b[0m\u001b[0;34m,\u001b[0m \u001b[0mgen_image\u001b[0m \u001b[0;34m=\u001b[0m \u001b[0mevaluate\u001b[0m\u001b[0;34m(\u001b[0m\u001b[0mmodel\u001b[0m\u001b[0;34m,\u001b[0m \u001b[0mtest_loader\u001b[0m\u001b[0;34m)\u001b[0m\u001b[0;34m\u001b[0m\u001b[0;34m\u001b[0m\u001b[0m\n\u001b[1;32m      4\u001b[0m     \u001b[0mprint\u001b[0m\u001b[0;34m(\u001b[0m\u001b[0;34m\"\\n[EPOCH: {}], \\tTest Loss: {:.4f}\"\u001b[0m\u001b[0;34m.\u001b[0m\u001b[0mformat\u001b[0m\u001b[0;34m(\u001b[0m\u001b[0mepoch\u001b[0m\u001b[0;34m,\u001b[0m \u001b[0mtest_loss\u001b[0m\u001b[0;34m)\u001b[0m\u001b[0;34m)\u001b[0m\u001b[0;34m\u001b[0m\u001b[0;34m\u001b[0m\u001b[0m\n\u001b[1;32m      5\u001b[0m     \u001b[0mf\u001b[0m\u001b[0;34m,\u001b[0m \u001b[0ma\u001b[0m \u001b[0;34m=\u001b[0m \u001b[0mplt\u001b[0m\u001b[0;34m.\u001b[0m\u001b[0msubplots\u001b[0m\u001b[0;34m(\u001b[0m\u001b[0;36m2\u001b[0m\u001b[0;34m,\u001b[0m \u001b[0;36m10\u001b[0m\u001b[0;34m,\u001b[0m \u001b[0mfigsize\u001b[0m \u001b[0;34m=\u001b[0m \u001b[0;34m(\u001b[0m\u001b[0;36m10\u001b[0m\u001b[0;34m,\u001b[0m \u001b[0;36m4\u001b[0m\u001b[0;34m)\u001b[0m\u001b[0;34m)\u001b[0m\u001b[0;34m\u001b[0m\u001b[0;34m\u001b[0m\u001b[0m\n",
            "\u001b[0;32m<ipython-input-12-4edbbe13e9f7>\u001b[0m in \u001b[0;36mtrain\u001b[0;34m(model, train_loader, optimizer, log_interval)\u001b[0m\n\u001b[1;32m      7\u001b[0m         \u001b[0mencoded\u001b[0m\u001b[0;34m,\u001b[0m \u001b[0mdecoded\u001b[0m \u001b[0;34m=\u001b[0m \u001b[0mmodel\u001b[0m\u001b[0;34m(\u001b[0m\u001b[0mimage\u001b[0m\u001b[0;34m)\u001b[0m\u001b[0;34m\u001b[0m\u001b[0;34m\u001b[0m\u001b[0m\n\u001b[1;32m      8\u001b[0m         \u001b[0mloss\u001b[0m \u001b[0;34m=\u001b[0m \u001b[0mcriterion\u001b[0m\u001b[0;34m(\u001b[0m\u001b[0mdecoded\u001b[0m\u001b[0;34m,\u001b[0m \u001b[0mtarget\u001b[0m\u001b[0;34m)\u001b[0m\u001b[0;34m\u001b[0m\u001b[0;34m\u001b[0m\u001b[0m\n\u001b[0;32m----> 9\u001b[0;31m         \u001b[0mloss\u001b[0m\u001b[0;34m.\u001b[0m\u001b[0mbackward\u001b[0m\u001b[0;34m(\u001b[0m\u001b[0;34m)\u001b[0m\u001b[0;34m\u001b[0m\u001b[0;34m\u001b[0m\u001b[0m\n\u001b[0m\u001b[1;32m     10\u001b[0m         \u001b[0moptimizer\u001b[0m\u001b[0;34m.\u001b[0m\u001b[0mstep\u001b[0m\u001b[0;34m(\u001b[0m\u001b[0;34m)\u001b[0m\u001b[0;34m\u001b[0m\u001b[0;34m\u001b[0m\u001b[0m\n\u001b[1;32m     11\u001b[0m \u001b[0;34m\u001b[0m\u001b[0m\n",
            "\u001b[0;32m/usr/local/lib/python3.7/dist-packages/torch/_tensor.py\u001b[0m in \u001b[0;36mbackward\u001b[0;34m(self, gradient, retain_graph, create_graph, inputs)\u001b[0m\n\u001b[1;32m    253\u001b[0m                 \u001b[0mcreate_graph\u001b[0m\u001b[0;34m=\u001b[0m\u001b[0mcreate_graph\u001b[0m\u001b[0;34m,\u001b[0m\u001b[0;34m\u001b[0m\u001b[0;34m\u001b[0m\u001b[0m\n\u001b[1;32m    254\u001b[0m                 inputs=inputs)\n\u001b[0;32m--> 255\u001b[0;31m         \u001b[0mtorch\u001b[0m\u001b[0;34m.\u001b[0m\u001b[0mautograd\u001b[0m\u001b[0;34m.\u001b[0m\u001b[0mbackward\u001b[0m\u001b[0;34m(\u001b[0m\u001b[0mself\u001b[0m\u001b[0;34m,\u001b[0m \u001b[0mgradient\u001b[0m\u001b[0;34m,\u001b[0m \u001b[0mretain_graph\u001b[0m\u001b[0;34m,\u001b[0m \u001b[0mcreate_graph\u001b[0m\u001b[0;34m,\u001b[0m \u001b[0minputs\u001b[0m\u001b[0;34m=\u001b[0m\u001b[0minputs\u001b[0m\u001b[0;34m)\u001b[0m\u001b[0;34m\u001b[0m\u001b[0;34m\u001b[0m\u001b[0m\n\u001b[0m\u001b[1;32m    256\u001b[0m \u001b[0;34m\u001b[0m\u001b[0m\n\u001b[1;32m    257\u001b[0m     \u001b[0;32mdef\u001b[0m \u001b[0mregister_hook\u001b[0m\u001b[0;34m(\u001b[0m\u001b[0mself\u001b[0m\u001b[0;34m,\u001b[0m \u001b[0mhook\u001b[0m\u001b[0;34m)\u001b[0m\u001b[0;34m:\u001b[0m\u001b[0;34m\u001b[0m\u001b[0;34m\u001b[0m\u001b[0m\n",
            "\u001b[0;32m/usr/local/lib/python3.7/dist-packages/torch/autograd/__init__.py\u001b[0m in \u001b[0;36mbackward\u001b[0;34m(tensors, grad_tensors, retain_graph, create_graph, grad_variables, inputs)\u001b[0m\n\u001b[1;32m    147\u001b[0m     Variable._execution_engine.run_backward(\n\u001b[1;32m    148\u001b[0m         \u001b[0mtensors\u001b[0m\u001b[0;34m,\u001b[0m \u001b[0mgrad_tensors_\u001b[0m\u001b[0;34m,\u001b[0m \u001b[0mretain_graph\u001b[0m\u001b[0;34m,\u001b[0m \u001b[0mcreate_graph\u001b[0m\u001b[0;34m,\u001b[0m \u001b[0minputs\u001b[0m\u001b[0;34m,\u001b[0m\u001b[0;34m\u001b[0m\u001b[0;34m\u001b[0m\u001b[0m\n\u001b[0;32m--> 149\u001b[0;31m         allow_unreachable=True, accumulate_grad=True)  # allow_unreachable flag\n\u001b[0m\u001b[1;32m    150\u001b[0m \u001b[0;34m\u001b[0m\u001b[0m\n\u001b[1;32m    151\u001b[0m \u001b[0;34m\u001b[0m\u001b[0m\n",
            "\u001b[0;31mKeyboardInterrupt\u001b[0m: "
          ]
        }
      ]
    },
    {
      "cell_type": "markdown",
      "metadata": {
        "id": "HbLMgsv6h6gy"
      },
      "source": [
        "#Chapter 4. Computer Vision"
      ]
    },
    {
      "cell_type": "markdown",
      "metadata": {
        "id": "badqXr6NiANc"
      },
      "source": [
        "##CIFAR_MLP"
      ]
    },
    {
      "cell_type": "markdown",
      "metadata": {
        "id": "iDx5B03aiErz"
      },
      "source": [
        "Module Import"
      ]
    },
    {
      "cell_type": "code",
      "metadata": {
        "id": "VjzCaxUlh_uj"
      },
      "source": [
        "import numpy as np\n",
        "import matplotlib.pyplot as plt\n",
        "\n",
        "import torch\n",
        "import torch.nn as nn\n",
        "import torch.nn.functional as F\n",
        "from torchvision import transforms, datasets"
      ],
      "execution_count": 1,
      "outputs": []
    },
    {
      "cell_type": "markdown",
      "metadata": {
        "id": "14e4fFjsiKcm"
      },
      "source": [
        "Check Device"
      ]
    },
    {
      "cell_type": "code",
      "metadata": {
        "colab": {
          "base_uri": "https://localhost:8080/"
        },
        "id": "Eu4FhOx1iKCR",
        "outputId": "55d1f401-fc8f-4e25-c52d-b325531c8df4"
      },
      "source": [
        "if torch.cuda.is_available():\n",
        "    DEVICE = torch.device('cuda')\n",
        "else:\n",
        "    DEVICE = torch.device('cpu')\n",
        "print('Using PyTorch version:', torch.__version__, ' Device:', DEVICE)"
      ],
      "execution_count": 2,
      "outputs": [
        {
          "output_type": "stream",
          "name": "stdout",
          "text": [
            "Using PyTorch version: 1.9.0+cu111  Device: cuda\n"
          ]
        }
      ]
    },
    {
      "cell_type": "markdown",
      "metadata": {
        "id": "K1w4ch5yiNWk"
      },
      "source": [
        "Hyper Parameter"
      ]
    },
    {
      "cell_type": "code",
      "metadata": {
        "id": "WBgU1JCxiPmX"
      },
      "source": [
        "BATCH_SIZE = 32\n",
        "EPOCHS = 10"
      ],
      "execution_count": 3,
      "outputs": []
    },
    {
      "cell_type": "markdown",
      "metadata": {
        "id": "yJAhwVCqiRMU"
      },
      "source": [
        "Download Data"
      ]
    },
    {
      "cell_type": "code",
      "metadata": {
        "colab": {
          "base_uri": "https://localhost:8080/"
        },
        "id": "JNzR1CUIiT0Q",
        "outputId": "4f0e559b-a5ab-4e52-df3c-49109344cfcb"
      },
      "source": [
        "train_dataset = datasets.CIFAR10(root = \"./data/CIFAR_10\",\n",
        "                                  train = True,\n",
        "                                  download = True,\n",
        "                                  transform = transforms.ToTensor())\n",
        "\n",
        "test_dataset = datasets.CIFAR10(root = \"./data/CIFAR_10\",\n",
        "                                train = False,\n",
        "                                transform = transforms.ToTensor())\n",
        "\n",
        "train_loader = torch.utils.data.DataLoader(dataset = train_dataset,\n",
        "                                            batch_size = BATCH_SIZE,\n",
        "                                            shuffle = True)   \n",
        "##shuffle하는 이유는 데이터분포가 어떻게 돼있는지 모르므로 제대로 학습안될수있음 ->섞어주기\n",
        "                                          \n",
        "                                          ##시험!! shuffle 하는거, 안하는거 \n",
        "\n",
        "test_loader = torch.utils.data.DataLoader(dataset = test_dataset,\n",
        "                                          batch_size = BATCH_SIZE,\n",
        "                                          shuffle = False)  ##shuffle true로 해도 상관없음!"
      ],
      "execution_count": 5,
      "outputs": [
        {
          "output_type": "stream",
          "name": "stdout",
          "text": [
            "Files already downloaded and verified\n"
          ]
        }
      ]
    },
    {
      "cell_type": "markdown",
      "metadata": {
        "id": "VJ6iptYpiV4C"
      },
      "source": [
        "Check Data"
      ]
    },
    {
      "cell_type": "code",
      "metadata": {
        "colab": {
          "base_uri": "https://localhost:8080/"
        },
        "id": "7Y3YaYZ2iVdV",
        "outputId": "b5ee5bb6-ece6-44f8-e4a3-38a0ce3b82b7"
      },
      "source": [
        "for (X_train, y_train) in train_loader:\n",
        "    print('X_train:', X_train.size(), 'type:', X_train.type())   \n",
        "    ##의미하는거!!시험!! 32는 배치사이즈, 3은 칼라이미지구나~(1이면 흑백이구나~)\n",
        "    print('y_train:', y_train.size(), 'type:', y_train.type())\n",
        "    break"
      ],
      "execution_count": 12,
      "outputs": [
        {
          "output_type": "stream",
          "name": "stdout",
          "text": [
            "X_train: torch.Size([32, 3, 32, 32]) type: torch.FloatTensor\n",
            "y_train: torch.Size([32]) type: torch.LongTensor\n"
          ]
        }
      ]
    },
    {
      "cell_type": "markdown",
      "metadata": {
        "id": "Og7oC2bDiY8l"
      },
      "source": [
        "Show Data"
      ]
    },
    {
      "cell_type": "code",
      "metadata": {
        "colab": {
          "base_uri": "https://localhost:8080/",
          "height": 94
        },
        "id": "tK9U4M6Kia3y",
        "outputId": "8b0f700f-5ae8-4e0f-b440-0bc869c446ea"
      },
      "source": [
        "pltsize = 1\n",
        "plt.figure(figsize=(10 * pltsize, pltsize))\n",
        "\n",
        "for i in range(10):\n",
        "    plt.subplot(1, 10, i + 1)\n",
        "    plt.axis('off')\n",
        "    plt.imshow(np.transpose(X_train[i], (1, 2, 0)))\n",
        "    plt.title('Class: ' + str(y_train[i].item()))"
      ],
      "execution_count": 7,
      "outputs": [
        {
          "output_type": "display_data",
          "data": {
            "image/png": "[encoded data removed]",
            "text/plain": [
              "<Figure size 720x72 with 10 Axes>"
            ]
          },
          "metadata": {
            "needs_background": "light"
          }
        }
      ]
    },
    {
      "cell_type": "markdown",
      "metadata": {
        "id": "cqrEzM9BicDW"
      },
      "source": [
        "Design Model"
      ]
    },
    {
      "cell_type": "code",
      "metadata": {
        "id": "oqGpgczTieRR"
      },
      "source": [
        "class Net(nn.Module):  #이거보면 뭘 얘기(하는지 다 알아야함!\n",
        "    def __init__(self):\n",
        "        super(Net, self).__init__()\n",
        "        self.fc1 = nn.Linear(32 * 32 * 3, 512)  #(이미지사이즈, 그냥 준거) (최초input, output) \n",
        "        #Linear가 의미하는건 fully connected layers(4장pdf3번째)\n",
        "        self.fc2 = nn.Linear(512, 256)\n",
        "        self.fc3 = nn.Linear(256, 10)   #(input, 마지막 output)\n",
        "        #몇개만들지는 만드는 사람 마음\n",
        "\n",
        "    def forward(self, x):\n",
        "        x = x.view(-1, 32 * 32 * 3)  #flatten\n",
        "        x = self.fc1(x)\n",
        "        x = F.relu(x)\n",
        "        x = self.fc2(x)\n",
        "        x = F.relu(x)\n",
        "        x = self.fc3(x)\n",
        "        x = F.log_softmax(x, dim = 1)\n",
        "        return x"
      ],
      "execution_count": 15,
      "outputs": []
    },
    {
      "cell_type": "markdown",
      "metadata": {
        "id": "e7DxyekCifAA"
      },
      "source": [
        "Optimizer, Objective Function"
      ]
    },
    {
      "cell_type": "code",
      "metadata": {
        "colab": {
          "base_uri": "https://localhost:8080/"
        },
        "id": "F4iwpvSlihT0",
        "outputId": "e91fe8e0-881e-4e36-bc29-9b6d6b47fc67"
      },
      "source": [
        "model = Net().to(DEVICE)\n",
        "optimizer = torch.optim.Adam(model.parameters(), lr = 0.001)  #Adam 옵티마이저   \n",
        "#lr은 learning rate(학습률), (gradient에서?) 얼마만큼 움직일지 결정, \n",
        "criterion = nn.CrossEntropyLoss()  #\n",
        "\n",
        "print(model)"
      ],
      "execution_count": 18,
      "outputs": [
        {
          "output_type": "stream",
          "name": "stdout",
          "text": [
            "Net(\n",
            "  (fc1): Linear(in_features=3072, out_features=512, bias=True)\n",
            "  (fc2): Linear(in_features=512, out_features=256, bias=True)\n",
            "  (fc3): Linear(in_features=256, out_features=10, bias=True)\n",
            ")\n"
          ]
        }
      ]
    },
    {
      "cell_type": "markdown",
      "metadata": {
        "id": "j4CkTrHWijVN"
      },
      "source": [
        "Train"
      ]
    },
    {
      "cell_type": "code",
      "metadata": {
        "id": "xNPu5eqqilDR"
      },
      "source": [
        "def train(model, train_loader, optimizer, log_interval):\n",
        "    model.train()\n",
        "    for batch_idx, (image, label) in enumerate(train_loader):\n",
        "        image = image.to(DEVICE)  \n",
        "        label = label.to(DEVICE)  #cuda에 올려서 계산하도록\n",
        "        optimizer.zero_grad()\n",
        "        output = model(image)  \n",
        "        loss = criterion(output, label)\n",
        "        loss.backward()\n",
        "        optimizer.step()  #최종적으로 업데이트\n",
        "\n",
        "        if batch_idx % log_interval == 0:\n",
        "            print(\"Train Epoch: {} [{}/{} ({:.0f}%)]\\tTrain Loss: {:.6f}\".format(\n",
        "                epoch, batch_idx * len(image), \n",
        "                len(train_loader.dataset), 100. * batch_idx / len(train_loader), \n",
        "                loss.item()))"
      ],
      "execution_count": 19,
      "outputs": []
    },
    {
      "cell_type": "markdown",
      "metadata": {
        "id": "hyfAi_6aimuq"
      },
      "source": [
        "Evaluation"
      ]
    },
    {
      "cell_type": "code",
      "metadata": {
        "id": "K5d-UDnZipZ2"
      },
      "source": [
        "def evaluate(model, test_loader):\n",
        "    model.eval()\n",
        "    test_loss = 0\n",
        "    correct = 0\n",
        "\n",
        "    with torch.no_grad():\n",
        "        for image, label in test_loader:\n",
        "            image = image.to(DEVICE)\n",
        "            label = label.to(DEVICE)\n",
        "            output = model(image)\n",
        "            test_loss += criterion(output, label).item()\n",
        "            prediction = output.max(1, keepdim = True)[1]\n",
        "            correct += prediction.eq(label.view_as(prediction)).sum().item()\n",
        "    \n",
        "    test_loss /= (len(test_loader.dataset) / BATCH_SIZE)\n",
        "    test_accuracy = 100. * correct / len(test_loader.dataset)\n",
        "    return test_loss, test_accuracy"
      ],
      "execution_count": 20,
      "outputs": []
    },
    {
      "cell_type": "markdown",
      "metadata": {
        "id": "10mtdlyoirCf"
      },
      "source": [
        "Run"
      ]
    },
    {
      "cell_type": "code",
      "metadata": {
        "colab": {
          "base_uri": "https://localhost:8080/"
        },
        "id": "JLH02xAxise6",
        "outputId": "413d71bc-111d-4099-88db-117e05e7eadc"
      },
      "source": [
        "for epoch in range(1, EPOCHS + 1):\n",
        "    train(model, train_loader, optimizer, log_interval = 200)\n",
        "    test_loss, test_accuracy = evaluate(model, test_loader)\n",
        "    print(\"\\n[EPOCH: {}], \\tTest Loss: {:.4f}, \\tTest Accuracy: {:.2f} % \\n\".format(\n",
        "        epoch, test_loss, test_accuracy))"
      ],
      "execution_count": 21,
      "outputs": [
        {
          "output_type": "stream",
          "name": "stdout",
          "text": [
            "Train Epoch: 1 [0/50000 (0%)]\tTrain Loss: 2.318444\n",
            "Train Epoch: 1 [6400/50000 (13%)]\tTrain Loss: 1.744240\n",
            "Train Epoch: 1 [12800/50000 (26%)]\tTrain Loss: 1.869980\n",
            "Train Epoch: 1 [19200/50000 (38%)]\tTrain Loss: 1.863545\n",
            "Train Epoch: 1 [25600/50000 (51%)]\tTrain Loss: 1.606253\n",
            "Train Epoch: 1 [32000/50000 (64%)]\tTrain Loss: 1.720191\n",
            "Train Epoch: 1 [38400/50000 (77%)]\tTrain Loss: 1.733750\n",
            "Train Epoch: 1 [44800/50000 (90%)]\tTrain Loss: 1.907071\n",
            "\n",
            "[EPOCH: 1], \tTest Loss: 1.7341, \tTest Accuracy: 37.43 % \n",
            "\n",
            "Train Epoch: 2 [0/50000 (0%)]\tTrain Loss: 1.658274\n",
            "Train Epoch: 2 [6400/50000 (13%)]\tTrain Loss: 1.734447\n",
            "Train Epoch: 2 [12800/50000 (26%)]\tTrain Loss: 1.889754\n",
            "Train Epoch: 2 [19200/50000 (38%)]\tTrain Loss: 1.438174\n",
            "Train Epoch: 2 [25600/50000 (51%)]\tTrain Loss: 1.621372\n",
            "Train Epoch: 2 [32000/50000 (64%)]\tTrain Loss: 1.692730\n",
            "Train Epoch: 2 [38400/50000 (77%)]\tTrain Loss: 1.724070\n",
            "Train Epoch: 2 [44800/50000 (90%)]\tTrain Loss: 1.965339\n",
            "\n",
            "[EPOCH: 2], \tTest Loss: 1.5976, \tTest Accuracy: 43.08 % \n",
            "\n",
            "Train Epoch: 3 [0/50000 (0%)]\tTrain Loss: 1.685050\n",
            "Train Epoch: 3 [6400/50000 (13%)]\tTrain Loss: 1.549843\n",
            "Train Epoch: 3 [12800/50000 (26%)]\tTrain Loss: 1.670562\n",
            "Train Epoch: 3 [19200/50000 (38%)]\tTrain Loss: 1.354965\n",
            "Train Epoch: 3 [25600/50000 (51%)]\tTrain Loss: 2.037629\n",
            "Train Epoch: 3 [32000/50000 (64%)]\tTrain Loss: 1.406575\n",
            "Train Epoch: 3 [38400/50000 (77%)]\tTrain Loss: 1.548387\n",
            "Train Epoch: 3 [44800/50000 (90%)]\tTrain Loss: 1.700089\n",
            "\n",
            "[EPOCH: 3], \tTest Loss: 1.5689, \tTest Accuracy: 43.57 % \n",
            "\n",
            "Train Epoch: 4 [0/50000 (0%)]\tTrain Loss: 1.273160\n",
            "Train Epoch: 4 [6400/50000 (13%)]\tTrain Loss: 1.245281\n",
            "Train Epoch: 4 [12800/50000 (26%)]\tTrain Loss: 1.573795\n",
            "Train Epoch: 4 [19200/50000 (38%)]\tTrain Loss: 1.724753\n",
            "Train Epoch: 4 [25600/50000 (51%)]\tTrain Loss: 1.533212\n",
            "Train Epoch: 4 [32000/50000 (64%)]\tTrain Loss: 1.361229\n",
            "Train Epoch: 4 [38400/50000 (77%)]\tTrain Loss: 1.792612\n",
            "Train Epoch: 4 [44800/50000 (90%)]\tTrain Loss: 1.530220\n",
            "\n",
            "[EPOCH: 4], \tTest Loss: 1.5372, \tTest Accuracy: 45.37 % \n",
            "\n",
            "Train Epoch: 5 [0/50000 (0%)]\tTrain Loss: 1.754461\n",
            "Train Epoch: 5 [6400/50000 (13%)]\tTrain Loss: 1.414752\n",
            "Train Epoch: 5 [12800/50000 (26%)]\tTrain Loss: 1.498411\n",
            "Train Epoch: 5 [19200/50000 (38%)]\tTrain Loss: 1.513031\n",
            "Train Epoch: 5 [25600/50000 (51%)]\tTrain Loss: 1.380980\n",
            "Train Epoch: 5 [32000/50000 (64%)]\tTrain Loss: 1.476837\n",
            "Train Epoch: 5 [38400/50000 (77%)]\tTrain Loss: 1.319237\n",
            "Train Epoch: 5 [44800/50000 (90%)]\tTrain Loss: 1.549336\n",
            "\n",
            "[EPOCH: 5], \tTest Loss: 1.5123, \tTest Accuracy: 46.51 % \n",
            "\n",
            "Train Epoch: 6 [0/50000 (0%)]\tTrain Loss: 1.467242\n",
            "Train Epoch: 6 [6400/50000 (13%)]\tTrain Loss: 1.407502\n",
            "Train Epoch: 6 [12800/50000 (26%)]\tTrain Loss: 1.388422\n",
            "Train Epoch: 6 [19200/50000 (38%)]\tTrain Loss: 1.627113\n",
            "Train Epoch: 6 [25600/50000 (51%)]\tTrain Loss: 1.522977\n",
            "Train Epoch: 6 [32000/50000 (64%)]\tTrain Loss: 1.507671\n",
            "Train Epoch: 6 [38400/50000 (77%)]\tTrain Loss: 1.487880\n",
            "Train Epoch: 6 [44800/50000 (90%)]\tTrain Loss: 1.443594\n",
            "\n",
            "[EPOCH: 6], \tTest Loss: 1.4691, \tTest Accuracy: 48.28 % \n",
            "\n",
            "Train Epoch: 7 [0/50000 (0%)]\tTrain Loss: 1.323611\n",
            "Train Epoch: 7 [6400/50000 (13%)]\tTrain Loss: 1.817654\n",
            "Train Epoch: 7 [12800/50000 (26%)]\tTrain Loss: 1.495185\n",
            "Train Epoch: 7 [19200/50000 (38%)]\tTrain Loss: 1.515350\n",
            "Train Epoch: 7 [25600/50000 (51%)]\tTrain Loss: 1.551981\n",
            "Train Epoch: 7 [32000/50000 (64%)]\tTrain Loss: 1.329228\n",
            "Train Epoch: 7 [38400/50000 (77%)]\tTrain Loss: 1.387650\n",
            "Train Epoch: 7 [44800/50000 (90%)]\tTrain Loss: 1.745625\n",
            "\n",
            "[EPOCH: 7], \tTest Loss: 1.4705, \tTest Accuracy: 47.72 % \n",
            "\n",
            "Train Epoch: 8 [0/50000 (0%)]\tTrain Loss: 1.309400\n",
            "Train Epoch: 8 [6400/50000 (13%)]\tTrain Loss: 1.241631\n",
            "Train Epoch: 8 [12800/50000 (26%)]\tTrain Loss: 1.379545\n",
            "Train Epoch: 8 [19200/50000 (38%)]\tTrain Loss: 1.335752\n",
            "Train Epoch: 8 [25600/50000 (51%)]\tTrain Loss: 1.369385\n",
            "Train Epoch: 8 [32000/50000 (64%)]\tTrain Loss: 1.880469\n",
            "Train Epoch: 8 [38400/50000 (77%)]\tTrain Loss: 1.529441\n",
            "Train Epoch: 8 [44800/50000 (90%)]\tTrain Loss: 1.321157\n",
            "\n",
            "[EPOCH: 8], \tTest Loss: 1.4615, \tTest Accuracy: 48.30 % \n",
            "\n",
            "Train Epoch: 9 [0/50000 (0%)]\tTrain Loss: 1.467257\n",
            "Train Epoch: 9 [6400/50000 (13%)]\tTrain Loss: 1.209429\n",
            "Train Epoch: 9 [12800/50000 (26%)]\tTrain Loss: 1.534976\n",
            "Train Epoch: 9 [19200/50000 (38%)]\tTrain Loss: 1.227282\n",
            "Train Epoch: 9 [25600/50000 (51%)]\tTrain Loss: 1.066136\n",
            "Train Epoch: 9 [32000/50000 (64%)]\tTrain Loss: 1.324593\n",
            "Train Epoch: 9 [38400/50000 (77%)]\tTrain Loss: 1.292859\n",
            "Train Epoch: 9 [44800/50000 (90%)]\tTrain Loss: 1.217127\n",
            "\n",
            "[EPOCH: 9], \tTest Loss: 1.4495, \tTest Accuracy: 48.16 % \n",
            "\n",
            "Train Epoch: 10 [0/50000 (0%)]\tTrain Loss: 1.486440\n",
            "Train Epoch: 10 [6400/50000 (13%)]\tTrain Loss: 1.315601\n",
            "Train Epoch: 10 [12800/50000 (26%)]\tTrain Loss: 1.177787\n",
            "Train Epoch: 10 [19200/50000 (38%)]\tTrain Loss: 1.147301\n",
            "Train Epoch: 10 [25600/50000 (51%)]\tTrain Loss: 1.443791\n",
            "Train Epoch: 10 [32000/50000 (64%)]\tTrain Loss: 1.127470\n",
            "Train Epoch: 10 [38400/50000 (77%)]\tTrain Loss: 1.116948\n",
            "Train Epoch: 10 [44800/50000 (90%)]\tTrain Loss: 1.592089\n",
            "\n",
            "[EPOCH: 10], \tTest Loss: 1.4880, \tTest Accuracy: 47.17 % \n",
            "\n"
          ]
        }
      ]
    },
    {
      "cell_type": "markdown",
      "metadata": {
        "id": "q0yrBcQpjH2a"
      },
      "source": [
        "##CIFAR_CNN"
      ]
    },
    {
      "cell_type": "markdown",
      "metadata": {
        "id": "IgbD6mRzjOu6"
      },
      "source": [
        "Design Model"
      ]
    },
    {
      "cell_type": "code",
      "metadata": {
        "id": "zXdJuZe2jOEf"
      },
      "source": [
        "class CNN(nn.Module):\n",
        "    def __init__(self):\n",
        "        super(CNN, self).__init__()\n",
        "        self.conv1 = nn.Conv2d(in_channels = 3, out_channels = 8, kernel_size = 3, padding = 1) \n",
        "        #kernel_size = 3, padding = 1 원본사이즈 그대로 되는것 \n",
        "        #kernel_size = 5, padding = 2 해도 그대로 됨\n",
        "\n",
        "        #self.conv12 = nn.Conv2d(in_channels = 8, out_channels = 8, kernel_size = 3, padding = 1) \n",
        "        self.conv2 = nn.Conv2d(in_channels = 8, out_channels = 16, kernel_size = 3, padding = 1)\n",
        "      \n",
        "\n",
        "        self.pool = nn.MaxPool2d(kernel_size = 2, stride = 2) #연산자처럼 사용?\n",
        "        # stride = 2는 kernel_size = 2였으니까 건너뛰려고 \n",
        "\n",
        "        self.fc1 = nn.Linear(8 * 8 * 16, 64) #\n",
        "        self.fc2 = nn.Linear(64, 32)\n",
        "        self.fc3 = nn.Linear(32, 10)\n",
        "        \n",
        "    def forward(self, x):\n",
        "        x = self.conv1(x)  #32*32*3  -> 32*32*8\n",
        "        x = F.relu(x)      #32*32*8\n",
        "        x = self.pool(x)    #16*16*8\n",
        "        x = self.conv2(x)     #16*16*8 ->16*16*16\n",
        "        x = F.relu(x)     #16*16*16\n",
        "        x = self.pool(x)    #8*8*16\n",
        "        \n",
        "        x = x.view(-1, 8 * 8 * 16)\n",
        "        x = self.fc1(x)\n",
        "        x = F.relu(x)\n",
        "        x = self.fc2(x)\n",
        "        x = F.relu(x)\n",
        "        x = self.fc3(x)\n",
        "        x = F.log_softmax(x)\n",
        "        return x"
      ],
      "execution_count": 24,
      "outputs": []
    },
    {
      "cell_type": "markdown",
      "metadata": {
        "id": "fv91WAU6jYkU"
      },
      "source": [
        "Optimizer, Objective Function"
      ]
    },
    {
      "cell_type": "code",
      "metadata": {
        "colab": {
          "base_uri": "https://localhost:8080/"
        },
        "id": "abPPC6gZjYkU",
        "outputId": "eb3b0f73-1654-457a-9213-da4d6c0ace57"
      },
      "source": [
        "model = CNN().to(DEVICE)\n",
        "optimizer = torch.optim.Adam(model.parameters(), lr = 0.001)\n",
        "criterion = nn.CrossEntropyLoss()\n",
        "\n",
        "print(model)"
      ],
      "execution_count": 25,
      "outputs": [
        {
          "output_type": "stream",
          "name": "stdout",
          "text": [
            "CNN(\n",
            "  (conv1): Conv2d(3, 8, kernel_size=(3, 3), stride=(1, 1), padding=(1, 1))\n",
            "  (conv2): Conv2d(8, 16, kernel_size=(3, 3), stride=(1, 1), padding=(1, 1))\n",
            "  (pool): MaxPool2d(kernel_size=2, stride=2, padding=0, dilation=1, ceil_mode=False)\n",
            "  (fc1): Linear(in_features=1024, out_features=64, bias=True)\n",
            "  (fc2): Linear(in_features=64, out_features=32, bias=True)\n",
            "  (fc3): Linear(in_features=32, out_features=10, bias=True)\n",
            ")\n"
          ]
        }
      ]
    },
    {
      "cell_type": "markdown",
      "metadata": {
        "id": "LtebkZQ5jbv4"
      },
      "source": [
        "Run"
      ]
    },
    {
      "cell_type": "code",
      "metadata": {
        "colab": {
          "base_uri": "https://localhost:8080/"
        },
        "id": "sxcdea1Ijbv4",
        "outputId": "3515e539-8fc5-47c8-c25a-a963a45bbc30"
      },
      "source": [
        "for epoch in range(1, EPOCHS + 1):\n",
        "    train(model, train_loader, optimizer, log_interval = 200)\n",
        "    test_loss, test_accuracy = evaluate(model, test_loader)\n",
        "    print(\"\\n[EPOCH: {}], \\tTest Loss: {:.4f}, \\tTest Accuracy: {:.2f} % \\n\".format(\n",
        "        epoch, test_loss, test_accuracy))"
      ],
      "execution_count": 26,
      "outputs": [
        {
          "output_type": "stream",
          "name": "stderr",
          "text": [
            "/usr/local/lib/python3.7/dist-packages/torch/nn/functional.py:718: UserWarning: Named tensors and all their associated APIs are an experimental feature and subject to change. Please do not use them for anything important until they are released as stable. (Triggered internally at  /pytorch/c10/core/TensorImpl.h:1156.)\n",
            "  return torch.max_pool2d(input, kernel_size, stride, padding, dilation, ceil_mode)\n",
            "/usr/local/lib/python3.7/dist-packages/ipykernel_launcher.py:33: UserWarning: Implicit dimension choice for log_softmax has been deprecated. Change the call to include dim=X as an argument.\n"
          ]
        },
        {
          "output_type": "stream",
          "name": "stdout",
          "text": [
            "Train Epoch: 1 [0/50000 (0%)]\tTrain Loss: 2.318655\n",
            "Train Epoch: 1 [6400/50000 (13%)]\tTrain Loss: 2.270272\n",
            "Train Epoch: 1 [12800/50000 (26%)]\tTrain Loss: 1.572780\n",
            "Train Epoch: 1 [19200/50000 (38%)]\tTrain Loss: 1.894163\n",
            "Train Epoch: 1 [25600/50000 (51%)]\tTrain Loss: 1.378533\n",
            "Train Epoch: 1 [32000/50000 (64%)]\tTrain Loss: 1.627531\n",
            "Train Epoch: 1 [38400/50000 (77%)]\tTrain Loss: 1.608759\n",
            "Train Epoch: 1 [44800/50000 (90%)]\tTrain Loss: 1.360712\n",
            "\n",
            "[EPOCH: 1], \tTest Loss: 1.4956, \tTest Accuracy: 46.13 % \n",
            "\n",
            "Train Epoch: 2 [0/50000 (0%)]\tTrain Loss: 1.485070\n",
            "Train Epoch: 2 [6400/50000 (13%)]\tTrain Loss: 1.234751\n",
            "Train Epoch: 2 [12800/50000 (26%)]\tTrain Loss: 1.683148\n",
            "Train Epoch: 2 [19200/50000 (38%)]\tTrain Loss: 1.001611\n",
            "Train Epoch: 2 [25600/50000 (51%)]\tTrain Loss: 1.572837\n",
            "Train Epoch: 2 [32000/50000 (64%)]\tTrain Loss: 1.594668\n",
            "Train Epoch: 2 [38400/50000 (77%)]\tTrain Loss: 1.123912\n",
            "Train Epoch: 2 [44800/50000 (90%)]\tTrain Loss: 1.383872\n",
            "\n",
            "[EPOCH: 2], \tTest Loss: 1.2986, \tTest Accuracy: 52.77 % \n",
            "\n",
            "Train Epoch: 3 [0/50000 (0%)]\tTrain Loss: 1.380224\n",
            "Train Epoch: 3 [6400/50000 (13%)]\tTrain Loss: 1.222142\n",
            "Train Epoch: 3 [12800/50000 (26%)]\tTrain Loss: 1.226440\n",
            "Train Epoch: 3 [19200/50000 (38%)]\tTrain Loss: 1.280369\n",
            "Train Epoch: 3 [25600/50000 (51%)]\tTrain Loss: 1.175641\n",
            "Train Epoch: 3 [32000/50000 (64%)]\tTrain Loss: 1.402120\n",
            "Train Epoch: 3 [38400/50000 (77%)]\tTrain Loss: 1.097955\n",
            "Train Epoch: 3 [44800/50000 (90%)]\tTrain Loss: 1.304521\n",
            "\n",
            "[EPOCH: 3], \tTest Loss: 1.1919, \tTest Accuracy: 57.94 % \n",
            "\n",
            "Train Epoch: 4 [0/50000 (0%)]\tTrain Loss: 1.150426\n",
            "Train Epoch: 4 [6400/50000 (13%)]\tTrain Loss: 1.125816\n",
            "Train Epoch: 4 [12800/50000 (26%)]\tTrain Loss: 1.271634\n",
            "Train Epoch: 4 [19200/50000 (38%)]\tTrain Loss: 1.045282\n",
            "Train Epoch: 4 [25600/50000 (51%)]\tTrain Loss: 1.154976\n",
            "Train Epoch: 4 [32000/50000 (64%)]\tTrain Loss: 1.111340\n",
            "Train Epoch: 4 [38400/50000 (77%)]\tTrain Loss: 1.301776\n",
            "Train Epoch: 4 [44800/50000 (90%)]\tTrain Loss: 0.945060\n",
            "\n",
            "[EPOCH: 4], \tTest Loss: 1.1341, \tTest Accuracy: 59.47 % \n",
            "\n",
            "Train Epoch: 5 [0/50000 (0%)]\tTrain Loss: 0.724171\n",
            "Train Epoch: 5 [6400/50000 (13%)]\tTrain Loss: 1.223473\n",
            "Train Epoch: 5 [12800/50000 (26%)]\tTrain Loss: 0.910888\n",
            "Train Epoch: 5 [19200/50000 (38%)]\tTrain Loss: 0.800060\n",
            "Train Epoch: 5 [25600/50000 (51%)]\tTrain Loss: 0.809990\n",
            "Train Epoch: 5 [32000/50000 (64%)]\tTrain Loss: 0.878921\n",
            "Train Epoch: 5 [38400/50000 (77%)]\tTrain Loss: 1.089561\n",
            "Train Epoch: 5 [44800/50000 (90%)]\tTrain Loss: 1.012691\n",
            "\n",
            "[EPOCH: 5], \tTest Loss: 1.0913, \tTest Accuracy: 61.77 % \n",
            "\n",
            "Train Epoch: 6 [0/50000 (0%)]\tTrain Loss: 0.971163\n",
            "Train Epoch: 6 [6400/50000 (13%)]\tTrain Loss: 0.728130\n",
            "Train Epoch: 6 [12800/50000 (26%)]\tTrain Loss: 1.026306\n",
            "Train Epoch: 6 [19200/50000 (38%)]\tTrain Loss: 0.907933\n",
            "Train Epoch: 6 [25600/50000 (51%)]\tTrain Loss: 1.009931\n",
            "Train Epoch: 6 [32000/50000 (64%)]\tTrain Loss: 0.789394\n",
            "Train Epoch: 6 [38400/50000 (77%)]\tTrain Loss: 0.973745\n",
            "Train Epoch: 6 [44800/50000 (90%)]\tTrain Loss: 0.914388\n",
            "\n",
            "[EPOCH: 6], \tTest Loss: 1.0684, \tTest Accuracy: 62.22 % \n",
            "\n",
            "Train Epoch: 7 [0/50000 (0%)]\tTrain Loss: 1.045891\n",
            "Train Epoch: 7 [6400/50000 (13%)]\tTrain Loss: 0.854980\n",
            "Train Epoch: 7 [12800/50000 (26%)]\tTrain Loss: 0.732847\n",
            "Train Epoch: 7 [19200/50000 (38%)]\tTrain Loss: 0.811602\n",
            "Train Epoch: 7 [25600/50000 (51%)]\tTrain Loss: 0.739509\n",
            "Train Epoch: 7 [32000/50000 (64%)]\tTrain Loss: 0.623248\n",
            "Train Epoch: 7 [38400/50000 (77%)]\tTrain Loss: 1.020212\n",
            "Train Epoch: 7 [44800/50000 (90%)]\tTrain Loss: 1.234980\n",
            "\n",
            "[EPOCH: 7], \tTest Loss: 1.0484, \tTest Accuracy: 62.88 % \n",
            "\n",
            "Train Epoch: 8 [0/50000 (0%)]\tTrain Loss: 0.680662\n",
            "Train Epoch: 8 [6400/50000 (13%)]\tTrain Loss: 0.999199\n",
            "Train Epoch: 8 [12800/50000 (26%)]\tTrain Loss: 1.192423\n",
            "Train Epoch: 8 [19200/50000 (38%)]\tTrain Loss: 0.807774\n",
            "Train Epoch: 8 [25600/50000 (51%)]\tTrain Loss: 0.635708\n",
            "Train Epoch: 8 [32000/50000 (64%)]\tTrain Loss: 0.887263\n",
            "Train Epoch: 8 [38400/50000 (77%)]\tTrain Loss: 0.671426\n",
            "Train Epoch: 8 [44800/50000 (90%)]\tTrain Loss: 0.700687\n",
            "\n",
            "[EPOCH: 8], \tTest Loss: 1.0483, \tTest Accuracy: 62.83 % \n",
            "\n",
            "Train Epoch: 9 [0/50000 (0%)]\tTrain Loss: 1.246541\n",
            "Train Epoch: 9 [6400/50000 (13%)]\tTrain Loss: 1.410433\n",
            "Train Epoch: 9 [12800/50000 (26%)]\tTrain Loss: 0.888771\n",
            "Train Epoch: 9 [19200/50000 (38%)]\tTrain Loss: 0.935448\n",
            "Train Epoch: 9 [25600/50000 (51%)]\tTrain Loss: 0.956827\n",
            "Train Epoch: 9 [32000/50000 (64%)]\tTrain Loss: 1.215322\n",
            "Train Epoch: 9 [38400/50000 (77%)]\tTrain Loss: 0.678485\n",
            "Train Epoch: 9 [44800/50000 (90%)]\tTrain Loss: 1.037721\n",
            "\n",
            "[EPOCH: 9], \tTest Loss: 1.0452, \tTest Accuracy: 63.30 % \n",
            "\n",
            "Train Epoch: 10 [0/50000 (0%)]\tTrain Loss: 0.968289\n",
            "Train Epoch: 10 [6400/50000 (13%)]\tTrain Loss: 0.715909\n",
            "Train Epoch: 10 [12800/50000 (26%)]\tTrain Loss: 1.209633\n",
            "Train Epoch: 10 [19200/50000 (38%)]\tTrain Loss: 1.080529\n",
            "Train Epoch: 10 [25600/50000 (51%)]\tTrain Loss: 0.959807\n",
            "Train Epoch: 10 [32000/50000 (64%)]\tTrain Loss: 1.124943\n",
            "Train Epoch: 10 [38400/50000 (77%)]\tTrain Loss: 0.947176\n",
            "Train Epoch: 10 [44800/50000 (90%)]\tTrain Loss: 1.032194\n",
            "\n",
            "[EPOCH: 10], \tTest Loss: 1.0357, \tTest Accuracy: 64.23 % \n",
            "\n"
          ]
        }
      ]
    }
  ]
}